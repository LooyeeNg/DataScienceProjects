{
 "cells": [
  {
   "cell_type": "markdown",
   "id": "31b3e082-8aa1-4ded-aa5d-8018b195f52f",
   "metadata": {
    "tags": []
   },
   "source": [
    "## Predict Future Sales (Time Series)"
   ]
  },
  {
   "cell_type": "markdown",
   "id": "12f188e7-3c52-4414-b6c6-cc5c7db4d517",
   "metadata": {},
   "source": [
    "Kaggle Competition"
   ]
  },
  {
   "cell_type": "markdown",
   "id": "093b7a26-2aba-4547-a131-5c3f7cb36dbf",
   "metadata": {},
   "source": [
    "**Goal**: Predict total sales for every product and store for November 2015. <br>\n",
    "**Data Given**: Daily historical data from January 2013 to October 2015. <br>"
   ]
  },
  {
   "cell_type": "markdown",
   "id": "1c86c26e-b59a-4b23-8dcf-a4a2602d9855",
   "metadata": {
    "jp-MarkdownHeadingCollapsed": true,
    "tags": []
   },
   "source": [
    "#### 1. Import packages and data"
   ]
  },
  {
   "cell_type": "code",
   "execution_count": 1,
   "id": "91c7edfa-9e00-4cef-8ab2-3aa7c7c52418",
   "metadata": {},
   "outputs": [],
   "source": [
    "# Basic packages\n",
    "import numpy as np # linear algebra\n",
    "import pandas as pd # data processing, CSV file I/O (e.g. pd.read_csv)\n",
    "import random as rd # generating random numbers\n",
    "import datetime # manipulating date formats\n",
    "\n",
    "# Visualistion\n",
    "import matplotlib.pyplot as plt # basic plotting\n",
    "import seaborn as sns # for prettier plots\n",
    "\n",
    "# TIME SERIES\n",
    "from statsmodels.tsa.arima_model import ARIMA\n",
    "from statsmodels.tsa.statespace.sarimax import SARIMAX\n",
    "from pandas.plotting import autocorrelation_plot\n",
    "from statsmodels.tsa.stattools import adfuller, acf, pacf,arma_order_select_ic\n",
    "import statsmodels.formula.api as smf\n",
    "import statsmodels.tsa.api as smt\n",
    "import statsmodels.api as sm\n",
    "import scipy.stats as scs\n",
    "\n",
    "# settings\n",
    "import warnings\n",
    "warnings.filterwarnings(\"ignore\")"
   ]
  },
  {
   "cell_type": "code",
   "execution_count": 79,
   "id": "8b7f67b4-d052-4474-a123-8a3dd346d87a",
   "metadata": {},
   "outputs": [],
   "source": [
    "# Import all of them \n",
    "sales=pd.read_csv(\"sales_train.csv\")\n",
    "item_cat=pd.read_csv(\"item_categories-translated.csv\")\n",
    "item=pd.read_csv(\"items-translated.csv\")\n",
    "sub=pd.read_csv(\"sample_submission.csv\")\n",
    "shops=pd.read_csv(\"shops-translated.csv\")\n",
    "test=pd.read_csv(\"test.csv\")"
   ]
  },
  {
   "cell_type": "markdown",
   "id": "4d49586b-bd90-4575-b0ec-80e6d1772a3d",
   "metadata": {},
   "source": [
    "Thanks to deargle who translated the Russian to English. <br>\n",
    "https://www.kaggle.com/competitions/competitive-data-science-predict-future-sales/discussion/54949"
   ]
  },
  {
   "cell_type": "markdown",
   "id": "679127c5-8edf-475f-8dea-badf94702b5a",
   "metadata": {
    "jp-MarkdownHeadingCollapsed": true,
    "tags": []
   },
   "source": [
    "#### 2. Compress data size"
   ]
  },
  {
   "cell_type": "code",
   "execution_count": 80,
   "id": "8bf6fc77-462b-487f-a705-4aa69511b7b7",
   "metadata": {},
   "outputs": [
    {
     "name": "stdout",
     "output_type": "stream",
     "text": [
      "Mem. usage decreased to 61.60 Mb (54.2% reduction)\n",
      "<class 'pandas.core.frame.DataFrame'>\n",
      "RangeIndex: 2935849 entries, 0 to 2935848\n",
      "Data columns (total 6 columns):\n",
      " #   Column          Dtype  \n",
      "---  ------          -----  \n",
      " 0   date            object \n",
      " 1   date_block_num  int16  \n",
      " 2   shop_id         int16  \n",
      " 3   item_id         int16  \n",
      " 4   item_price      float32\n",
      " 5   item_cnt_day    float32\n",
      "dtypes: float32(2), int16(3), object(1)\n",
      "memory usage: 61.6+ MB\n",
      "None\n"
     ]
    }
   ],
   "source": [
    "def downcast_dtypes(df, verbose = True):\n",
    "    start_mem = df.memory_usage().sum() / 1024**2\n",
    "    float_cols = [c for c in df if df[c].dtype == \"float64\"]\n",
    "    int_cols = [c for c in df if df[c].dtype in [\"int64\", \"int32\"]]\n",
    "    df[float_cols] = df[float_cols].astype(np.float32)\n",
    "    df[int_cols] = df[int_cols].astype(np.int16)\n",
    "    end_mem = df.memory_usage().sum() / 1024**2\n",
    "    if verbose: print('Mem. usage decreased to {:5.2f} Mb ({:.1f}% reduction)'.format(end_mem, 100 * (start_mem - end_mem) / start_mem))\n",
    "    return df\n",
    "\n",
    "sales = downcast_dtypes(sales, verbose = True)\n",
    "print(sales.info())"
   ]
  },
  {
   "cell_type": "markdown",
   "id": "94bff40b-aef7-497d-bf28-2564733deb97",
   "metadata": {},
   "source": [
    "The data is now much lighter!!"
   ]
  },
  {
   "cell_type": "markdown",
   "id": "ea3f5cbd-fca1-430a-9192-69cb6b40f602",
   "metadata": {
    "jp-MarkdownHeadingCollapsed": true,
    "tags": []
   },
   "source": [
    "#### 3. Data Structure"
   ]
  },
  {
   "cell_type": "code",
   "execution_count": null,
   "id": "af0cd4a7-3b82-4724-812c-793bc98cd5a2",
   "metadata": {},
   "outputs": [],
   "source": []
  },
  {
   "cell_type": "markdown",
   "id": "22eb915c-2c9d-41a7-9bd9-de4bac7da9b8",
   "metadata": {
    "tags": []
   },
   "source": [
    "#### 4. Feature Extraction"
   ]
  },
  {
   "cell_type": "markdown",
   "id": "16a6fd23-fca4-4a60-ab86-e3d4b7265e10",
   "metadata": {},
   "source": [
    "##### 4.1 Convert 'date' column to datetime format for future extraction purpose."
   ]
  },
  {
   "cell_type": "markdown",
   "id": "b752e6ec-2fb3-46a5-9ff7-f6399913baed",
   "metadata": {},
   "source": [
    "##### 4.2 Calculate sales revenue"
   ]
  },
  {
   "cell_type": "markdown",
   "id": "969ac6bc-b12d-49ec-ac05-16f4df97bff5",
   "metadata": {
    "tags": []
   },
   "source": [
    "##### 4.3 Split year, month and day in each column"
   ]
  },
  {
   "cell_type": "markdown",
   "id": "c58b6567-b70a-4015-8f82-0377e38cfb1f",
   "metadata": {
    "tags": []
   },
   "source": [
    "##### 4.4 Aggregate sales by month"
   ]
  },
  {
   "cell_type": "markdown",
   "id": "f09d89bd-2b05-41d8-96b6-67eebf9738c1",
   "metadata": {
    "tags": []
   },
   "source": [
    "#### 5. Time Series Analysis"
   ]
  },
  {
   "cell_type": "markdown",
   "id": "c791fc6c-08d0-4e33-bf07-f5230ef445fd",
   "metadata": {
    "tags": []
   },
   "source": [
    "##### 5.1 Time Series Decomposition"
   ]
  },
  {
   "cell_type": "markdown",
   "id": "a4dc1077-8652-4e55-9590-9e2e76fcd97b",
   "metadata": {
    "tags": []
   },
   "source": [
    "##### 5.2 Check stationarity"
   ]
  },
  {
   "cell_type": "markdown",
   "id": "e5393817-011b-4a0c-ab87-afbe4e7fb270",
   "metadata": {},
   "source": [
    "#### 6. Model Fitting"
   ]
  },
  {
   "cell_type": "markdown",
   "id": "f84f3270-101a-4dca-97e7-f192a6afb1d3",
   "metadata": {},
   "source": [
    "##### 6.1 Train test split"
   ]
  },
  {
   "cell_type": "code",
   "execution_count": null,
   "id": "a26deed6-781c-4fb6-904a-0ca19c8d6390",
   "metadata": {},
   "outputs": [],
   "source": []
  },
  {
   "cell_type": "markdown",
   "id": "61f21c7f-a5a5-49f1-b8a3-089e7aa422ba",
   "metadata": {},
   "source": [
    "##### 6.2 ARIMA"
   ]
  },
  {
   "cell_type": "code",
   "execution_count": null,
   "id": "d37ceee6-5153-48c4-bde2-c508e48aac82",
   "metadata": {},
   "outputs": [],
   "source": []
  },
  {
   "cell_type": "markdown",
   "id": "a7ba4746-b1ac-4fdc-bd0b-ae63457ccdcc",
   "metadata": {},
   "source": [
    "##### 6.3 Auto ARIMA + SHIFT"
   ]
  },
  {
   "cell_type": "code",
   "execution_count": null,
   "id": "0e47f4af-a80a-4c42-a72d-20ce6fc44cf3",
   "metadata": {},
   "outputs": [],
   "source": []
  },
  {
   "cell_type": "markdown",
   "id": "1b7c1954-d0c4-443a-988a-ec26772f30b2",
   "metadata": {},
   "source": [
    "#### 7. Prediction and validation"
   ]
  },
  {
   "cell_type": "code",
   "execution_count": null,
   "id": "a2223ecb-c552-409f-bfb6-ecf12a2e9f3a",
   "metadata": {},
   "outputs": [],
   "source": []
  },
  {
   "cell_type": "markdown",
   "id": "3c5df9fe-afee-4198-b1c3-6122f8fb539a",
   "metadata": {},
   "source": [
    "#### 8. Submission"
   ]
  },
  {
   "cell_type": "code",
   "execution_count": null,
   "id": "a4fca659-8a56-44f2-867f-e4bb6d80ab02",
   "metadata": {},
   "outputs": [],
   "source": []
  }
 ],
 "metadata": {
  "kernelspec": {
   "display_name": "Python 3 (ipykernel)",
   "language": "python",
   "name": "python3"
  },
  "language_info": {
   "codemirror_mode": {
    "name": "ipython",
    "version": 3
   },
   "file_extension": ".py",
   "mimetype": "text/x-python",
   "name": "python",
   "nbconvert_exporter": "python",
   "pygments_lexer": "ipython3",
   "version": "3.9.0"
  }
 },
 "nbformat": 4,
 "nbformat_minor": 5
}
