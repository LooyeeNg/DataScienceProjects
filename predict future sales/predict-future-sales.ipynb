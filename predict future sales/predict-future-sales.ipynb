{
 "cells": [
  {
   "cell_type": "markdown",
   "id": "31b3e082-8aa1-4ded-aa5d-8018b195f52f",
   "metadata": {
    "tags": []
   },
   "source": [
    "## Predict Future Sales (Time Series)"
   ]
  },
  {
   "cell_type": "markdown",
   "id": "12f188e7-3c52-4414-b6c6-cc5c7db4d517",
   "metadata": {},
   "source": [
    "Kaggle Competition"
   ]
  },
  {
   "cell_type": "markdown",
   "id": "093b7a26-2aba-4547-a131-5c3f7cb36dbf",
   "metadata": {},
   "source": [
    "**Goal**: Predict total sales for every product and store for November 2015. <br>\n",
    "**Data Given**: Daily historical data from January 2013 to October 2015. <br>"
   ]
  },
  {
   "cell_type": "markdown",
   "id": "1c86c26e-b59a-4b23-8dcf-a4a2602d9855",
   "metadata": {
    "tags": []
   },
   "source": [
    "#### 1. Import packages and data"
   ]
  },
  {
   "cell_type": "code",
   "execution_count": 2,
   "id": "91c7edfa-9e00-4cef-8ab2-3aa7c7c52418",
   "metadata": {},
   "outputs": [],
   "source": [
    "# Basic packages\n",
    "import numpy as np # linear algebra\n",
    "import pandas as pd # data processing, CSV file I/O (e.g. pd.read_csv)\n",
    "import random as rd # generating random numbers\n",
    "import datetime # manipulating date formats\n",
    "\n",
    "# Visualistion\n",
    "import matplotlib.pyplot as plt # basic plotting\n",
    "import seaborn as sns # for prettier plots\n",
    "\n",
    "# TIME SERIES\n",
    "from statsmodels.tsa.arima_model import ARIMA\n",
    "from statsmodels.tsa.statespace.sarimax import SARIMAX\n",
    "from pandas.plotting import autocorrelation_plot\n",
    "from statsmodels.tsa.stattools import adfuller, acf, pacf,arma_order_select_ic\n",
    "import statsmodels.formula.api as smf\n",
    "import statsmodels.tsa.api as smt\n",
    "import statsmodels.api as sm\n",
    "import scipy.stats as scs\n",
    "\n",
    "# settings\n",
    "import warnings\n",
    "warnings.filterwarnings(\"ignore\")"
   ]
  },
  {
   "cell_type": "code",
   "execution_count": 52,
   "id": "8b7f67b4-d052-4474-a123-8a3dd346d87a",
   "metadata": {},
   "outputs": [],
   "source": [
    "# Import all of them \n",
    "sales=pd.read_csv(\"sales_train.csv\")\n",
    "# sales=pd.read_csv(\"sales_train.csv\",index_col='date',parse_dates=True)\n",
    "# item_cat=pd.read_csv(\"item_categories-translated.csv\")\n",
    "# item=pd.read_csv(\"items-translated.csv\")\n",
    "# sub=pd.read_csv(\"sample_submission.csv\")\n",
    "# shops=pd.read_csv(\"shops-translated.csv\")\n",
    "test=pd.read_csv(\"test.csv\")"
   ]
  },
  {
   "cell_type": "markdown",
   "id": "4d49586b-bd90-4575-b0ec-80e6d1772a3d",
   "metadata": {},
   "source": [
    "Thanks to deargle who translated the Russian to English. <br>\n",
    "https://www.kaggle.com/competitions/competitive-data-science-predict-future-sales/discussion/54949"
   ]
  },
  {
   "cell_type": "markdown",
   "id": "679127c5-8edf-475f-8dea-badf94702b5a",
   "metadata": {
    "tags": []
   },
   "source": [
    "#### 2. Compress data size"
   ]
  },
  {
   "cell_type": "code",
   "execution_count": 53,
   "id": "8bf6fc77-462b-487f-a705-4aa69511b7b7",
   "metadata": {},
   "outputs": [
    {
     "name": "stdout",
     "output_type": "stream",
     "text": [
      "Mem. usage decreased to 61.60 Mb (54.2% reduction)\n",
      "<class 'pandas.core.frame.DataFrame'>\n",
      "RangeIndex: 2935849 entries, 0 to 2935848\n",
      "Data columns (total 6 columns):\n",
      " #   Column          Dtype  \n",
      "---  ------          -----  \n",
      " 0   date            object \n",
      " 1   date_block_num  int16  \n",
      " 2   shop_id         int16  \n",
      " 3   item_id         int16  \n",
      " 4   item_price      float32\n",
      " 5   item_cnt_day    float32\n",
      "dtypes: float32(2), int16(3), object(1)\n",
      "memory usage: 61.6+ MB\n",
      "None\n"
     ]
    }
   ],
   "source": [
    "def downcast_dtypes(df, verbose = True):\n",
    "    start_mem = df.memory_usage().sum() / 1024**2\n",
    "    float_cols = [c for c in df if df[c].dtype == \"float64\"]\n",
    "    int_cols = [c for c in df if df[c].dtype in [\"int64\", \"int32\"]]\n",
    "    df[float_cols] = df[float_cols].astype(np.float32)\n",
    "    df[int_cols] = df[int_cols].astype(np.int16)\n",
    "    end_mem = df.memory_usage().sum() / 1024**2\n",
    "    if verbose: print('Mem. usage decreased to {:5.2f} Mb ({:.1f}% reduction)'.format(end_mem, 100 * (start_mem - end_mem) / start_mem))\n",
    "    return df\n",
    "\n",
    "sales = downcast_dtypes(sales, verbose = True)\n",
    "print(sales.info())"
   ]
  },
  {
   "cell_type": "markdown",
   "id": "94bff40b-aef7-497d-bf28-2564733deb97",
   "metadata": {},
   "source": [
    "The data is now much lighter!!"
   ]
  },
  {
   "cell_type": "markdown",
   "id": "ea3f5cbd-fca1-430a-9192-69cb6b40f602",
   "metadata": {
    "jp-MarkdownHeadingCollapsed": true,
    "tags": []
   },
   "source": [
    "#### 3. Data Structure"
   ]
  },
  {
   "cell_type": "code",
   "execution_count": 15,
   "id": "e882d6d7-2ba9-4186-813e-e4f0eea23d45",
   "metadata": {},
   "outputs": [
    {
     "data": {
      "text/plain": [
       "date_block_num    0\n",
       "shop_id           0\n",
       "item_id           0\n",
       "item_price        0\n",
       "item_cnt_day      0\n",
       "dtype: int64"
      ]
     },
     "execution_count": 15,
     "metadata": {},
     "output_type": "execute_result"
    }
   ],
   "source": [
    "# Check Null values\n",
    "sales.isnull().sum()"
   ]
  },
  {
   "cell_type": "markdown",
   "id": "13cc0c74-14d1-4b96-80bf-68a800906f13",
   "metadata": {},
   "source": [
    "Great, there is no missing values."
   ]
  },
  {
   "cell_type": "code",
   "execution_count": 14,
   "id": "7c267072-6237-4eb7-b1fc-91ef49787a5e",
   "metadata": {},
   "outputs": [
    {
     "data": {
      "text/plain": [
       "(2935849, 5)"
      ]
     },
     "execution_count": 14,
     "metadata": {},
     "output_type": "execute_result"
    }
   ],
   "source": [
    "# Check how many rows & columns\n",
    "sales.shape"
   ]
  },
  {
   "cell_type": "markdown",
   "id": "4d2255b0-4694-479a-ad69-3de042bdfc5b",
   "metadata": {},
   "source": [
    "Almost 3 miliion rows of data."
   ]
  },
  {
   "cell_type": "code",
   "execution_count": 63,
   "id": "fee25ab8-d58b-4860-ac9d-596b4d8a10e9",
   "metadata": {},
   "outputs": [],
   "source": [
    "sales['revenue'] = sales.item_price.values * sales.item_cnt_day.values"
   ]
  },
  {
   "cell_type": "code",
   "execution_count": 64,
   "id": "1981c288-3d10-4d23-8d64-cba48db4a78e",
   "metadata": {},
   "outputs": [
    {
     "data": {
      "text/html": [
       "<div>\n",
       "<style scoped>\n",
       "    .dataframe tbody tr th:only-of-type {\n",
       "        vertical-align: middle;\n",
       "    }\n",
       "\n",
       "    .dataframe tbody tr th {\n",
       "        vertical-align: top;\n",
       "    }\n",
       "\n",
       "    .dataframe thead th {\n",
       "        text-align: right;\n",
       "    }\n",
       "</style>\n",
       "<table border=\"1\" class=\"dataframe\">\n",
       "  <thead>\n",
       "    <tr style=\"text-align: right;\">\n",
       "      <th></th>\n",
       "      <th>date</th>\n",
       "      <th>date_block_num</th>\n",
       "      <th>shop_id</th>\n",
       "      <th>item_id</th>\n",
       "      <th>item_price</th>\n",
       "      <th>item_cnt_day</th>\n",
       "      <th>revenue</th>\n",
       "    </tr>\n",
       "  </thead>\n",
       "  <tbody>\n",
       "    <tr>\n",
       "      <th>0</th>\n",
       "      <td>02.01.2013</td>\n",
       "      <td>0</td>\n",
       "      <td>59</td>\n",
       "      <td>22154</td>\n",
       "      <td>999.00</td>\n",
       "      <td>1.0</td>\n",
       "      <td>999.00</td>\n",
       "    </tr>\n",
       "    <tr>\n",
       "      <th>1</th>\n",
       "      <td>03.01.2013</td>\n",
       "      <td>0</td>\n",
       "      <td>25</td>\n",
       "      <td>2552</td>\n",
       "      <td>899.00</td>\n",
       "      <td>1.0</td>\n",
       "      <td>899.00</td>\n",
       "    </tr>\n",
       "    <tr>\n",
       "      <th>2</th>\n",
       "      <td>05.01.2013</td>\n",
       "      <td>0</td>\n",
       "      <td>25</td>\n",
       "      <td>2552</td>\n",
       "      <td>899.00</td>\n",
       "      <td>-1.0</td>\n",
       "      <td>-899.00</td>\n",
       "    </tr>\n",
       "    <tr>\n",
       "      <th>3</th>\n",
       "      <td>06.01.2013</td>\n",
       "      <td>0</td>\n",
       "      <td>25</td>\n",
       "      <td>2554</td>\n",
       "      <td>1709.05</td>\n",
       "      <td>1.0</td>\n",
       "      <td>1709.05</td>\n",
       "    </tr>\n",
       "    <tr>\n",
       "      <th>4</th>\n",
       "      <td>15.01.2013</td>\n",
       "      <td>0</td>\n",
       "      <td>25</td>\n",
       "      <td>2555</td>\n",
       "      <td>1099.00</td>\n",
       "      <td>1.0</td>\n",
       "      <td>1099.00</td>\n",
       "    </tr>\n",
       "  </tbody>\n",
       "</table>\n",
       "</div>"
      ],
      "text/plain": [
       "         date  date_block_num  shop_id  item_id  item_price  item_cnt_day  \\\n",
       "0  02.01.2013               0       59    22154      999.00           1.0   \n",
       "1  03.01.2013               0       25     2552      899.00           1.0   \n",
       "2  05.01.2013               0       25     2552      899.00          -1.0   \n",
       "3  06.01.2013               0       25     2554     1709.05           1.0   \n",
       "4  15.01.2013               0       25     2555     1099.00           1.0   \n",
       "\n",
       "   revenue  \n",
       "0   999.00  \n",
       "1   899.00  \n",
       "2  -899.00  \n",
       "3  1709.05  \n",
       "4  1099.00  "
      ]
     },
     "execution_count": 64,
     "metadata": {},
     "output_type": "execute_result"
    }
   ],
   "source": [
    "sales.head()"
   ]
  },
  {
   "cell_type": "code",
   "execution_count": 43,
   "id": "c473f10c-5be1-426d-960d-83118b1d2e90",
   "metadata": {},
   "outputs": [
    {
     "data": {
      "text/plain": [
       "7356"
      ]
     },
     "execution_count": 43,
     "metadata": {},
     "output_type": "execute_result"
    }
   ],
   "source": [
    "# Number of returns\n",
    "len(sales[sales.item_cnt_day < 0])"
   ]
  },
  {
   "cell_type": "code",
   "execution_count": 46,
   "id": "63b9cba4-cc96-48b1-90d7-56879e86cac2",
   "metadata": {},
   "outputs": [],
   "source": [
    "sales['month'] = sales.date.dt.month\n",
    "sales['year'] = sales.date.dt.year\n",
    "sales['day_of_week'] = sales.date.dt.day_of_week"
   ]
  },
  {
   "cell_type": "code",
   "execution_count": 47,
   "id": "cb083ff2-4c5d-4ff6-8a1d-51732bbfe50f",
   "metadata": {},
   "outputs": [
    {
     "data": {
      "text/html": [
       "<div>\n",
       "<style scoped>\n",
       "    .dataframe tbody tr th:only-of-type {\n",
       "        vertical-align: middle;\n",
       "    }\n",
       "\n",
       "    .dataframe tbody tr th {\n",
       "        vertical-align: top;\n",
       "    }\n",
       "\n",
       "    .dataframe thead th {\n",
       "        text-align: right;\n",
       "    }\n",
       "</style>\n",
       "<table border=\"1\" class=\"dataframe\">\n",
       "  <thead>\n",
       "    <tr style=\"text-align: right;\">\n",
       "      <th></th>\n",
       "      <th>date</th>\n",
       "      <th>date_block_num</th>\n",
       "      <th>shop_id</th>\n",
       "      <th>item_id</th>\n",
       "      <th>item_price</th>\n",
       "      <th>item_cnt_day</th>\n",
       "      <th>reveunue</th>\n",
       "      <th>month</th>\n",
       "      <th>year</th>\n",
       "      <th>day_of_week</th>\n",
       "    </tr>\n",
       "  </thead>\n",
       "  <tbody>\n",
       "    <tr>\n",
       "      <th>0</th>\n",
       "      <td>2013-01-02</td>\n",
       "      <td>0</td>\n",
       "      <td>59</td>\n",
       "      <td>22154</td>\n",
       "      <td>999.000000</td>\n",
       "      <td>1.0</td>\n",
       "      <td>999.000000</td>\n",
       "      <td>1</td>\n",
       "      <td>2013</td>\n",
       "      <td>2</td>\n",
       "    </tr>\n",
       "    <tr>\n",
       "      <th>1</th>\n",
       "      <td>2013-01-03</td>\n",
       "      <td>0</td>\n",
       "      <td>25</td>\n",
       "      <td>2552</td>\n",
       "      <td>899.000000</td>\n",
       "      <td>1.0</td>\n",
       "      <td>899.000000</td>\n",
       "      <td>1</td>\n",
       "      <td>2013</td>\n",
       "      <td>3</td>\n",
       "    </tr>\n",
       "    <tr>\n",
       "      <th>2</th>\n",
       "      <td>2013-01-05</td>\n",
       "      <td>0</td>\n",
       "      <td>25</td>\n",
       "      <td>2552</td>\n",
       "      <td>899.000000</td>\n",
       "      <td>-1.0</td>\n",
       "      <td>-899.000000</td>\n",
       "      <td>1</td>\n",
       "      <td>2013</td>\n",
       "      <td>5</td>\n",
       "    </tr>\n",
       "    <tr>\n",
       "      <th>3</th>\n",
       "      <td>2013-01-06</td>\n",
       "      <td>0</td>\n",
       "      <td>25</td>\n",
       "      <td>2554</td>\n",
       "      <td>1709.050049</td>\n",
       "      <td>1.0</td>\n",
       "      <td>1709.050049</td>\n",
       "      <td>1</td>\n",
       "      <td>2013</td>\n",
       "      <td>6</td>\n",
       "    </tr>\n",
       "    <tr>\n",
       "      <th>4</th>\n",
       "      <td>2013-01-15</td>\n",
       "      <td>0</td>\n",
       "      <td>25</td>\n",
       "      <td>2555</td>\n",
       "      <td>1099.000000</td>\n",
       "      <td>1.0</td>\n",
       "      <td>1099.000000</td>\n",
       "      <td>1</td>\n",
       "      <td>2013</td>\n",
       "      <td>1</td>\n",
       "    </tr>\n",
       "  </tbody>\n",
       "</table>\n",
       "</div>"
      ],
      "text/plain": [
       "        date  date_block_num  shop_id  item_id   item_price  item_cnt_day  \\\n",
       "0 2013-01-02               0       59    22154   999.000000           1.0   \n",
       "1 2013-01-03               0       25     2552   899.000000           1.0   \n",
       "2 2013-01-05               0       25     2552   899.000000          -1.0   \n",
       "3 2013-01-06               0       25     2554  1709.050049           1.0   \n",
       "4 2013-01-15               0       25     2555  1099.000000           1.0   \n",
       "\n",
       "      reveunue  month  year  day_of_week  \n",
       "0   999.000000      1  2013            2  \n",
       "1   899.000000      1  2013            3  \n",
       "2  -899.000000      1  2013            5  \n",
       "3  1709.050049      1  2013            6  \n",
       "4  1099.000000      1  2013            1  "
      ]
     },
     "execution_count": 47,
     "metadata": {},
     "output_type": "execute_result"
    }
   ],
   "source": [
    "sales.head()"
   ]
  },
  {
   "cell_type": "code",
   "execution_count": 6,
   "id": "8c8bc9aa-09bb-4e6e-a391-735a28181d2b",
   "metadata": {},
   "outputs": [],
   "source": [
    "sales['Month'] = sales['date'].dt.to_period('M')"
   ]
  },
  {
   "cell_type": "code",
   "execution_count": 7,
   "id": "ee967eca-61e7-4bf2-9bf8-02e58532dafc",
   "metadata": {},
   "outputs": [
    {
     "data": {
      "text/html": [
       "<div>\n",
       "<style scoped>\n",
       "    .dataframe tbody tr th:only-of-type {\n",
       "        vertical-align: middle;\n",
       "    }\n",
       "\n",
       "    .dataframe tbody tr th {\n",
       "        vertical-align: top;\n",
       "    }\n",
       "\n",
       "    .dataframe thead th {\n",
       "        text-align: right;\n",
       "    }\n",
       "</style>\n",
       "<table border=\"1\" class=\"dataframe\">\n",
       "  <thead>\n",
       "    <tr style=\"text-align: right;\">\n",
       "      <th></th>\n",
       "      <th>date</th>\n",
       "      <th>date_block_num</th>\n",
       "      <th>shop_id</th>\n",
       "      <th>item_id</th>\n",
       "      <th>item_price</th>\n",
       "      <th>item_cnt_day</th>\n",
       "      <th>Month</th>\n",
       "    </tr>\n",
       "  </thead>\n",
       "  <tbody>\n",
       "    <tr>\n",
       "      <th>0</th>\n",
       "      <td>2013-01-02</td>\n",
       "      <td>0</td>\n",
       "      <td>59</td>\n",
       "      <td>22154</td>\n",
       "      <td>999.000000</td>\n",
       "      <td>1.0</td>\n",
       "      <td>2013-01</td>\n",
       "    </tr>\n",
       "    <tr>\n",
       "      <th>1</th>\n",
       "      <td>2013-01-03</td>\n",
       "      <td>0</td>\n",
       "      <td>25</td>\n",
       "      <td>2552</td>\n",
       "      <td>899.000000</td>\n",
       "      <td>1.0</td>\n",
       "      <td>2013-01</td>\n",
       "    </tr>\n",
       "    <tr>\n",
       "      <th>2</th>\n",
       "      <td>2013-01-05</td>\n",
       "      <td>0</td>\n",
       "      <td>25</td>\n",
       "      <td>2552</td>\n",
       "      <td>899.000000</td>\n",
       "      <td>-1.0</td>\n",
       "      <td>2013-01</td>\n",
       "    </tr>\n",
       "    <tr>\n",
       "      <th>3</th>\n",
       "      <td>2013-01-06</td>\n",
       "      <td>0</td>\n",
       "      <td>25</td>\n",
       "      <td>2554</td>\n",
       "      <td>1709.050049</td>\n",
       "      <td>1.0</td>\n",
       "      <td>2013-01</td>\n",
       "    </tr>\n",
       "    <tr>\n",
       "      <th>4</th>\n",
       "      <td>2013-01-15</td>\n",
       "      <td>0</td>\n",
       "      <td>25</td>\n",
       "      <td>2555</td>\n",
       "      <td>1099.000000</td>\n",
       "      <td>1.0</td>\n",
       "      <td>2013-01</td>\n",
       "    </tr>\n",
       "  </tbody>\n",
       "</table>\n",
       "</div>"
      ],
      "text/plain": [
       "        date  date_block_num  shop_id  item_id   item_price  item_cnt_day  \\\n",
       "0 2013-01-02               0       59    22154   999.000000           1.0   \n",
       "1 2013-01-03               0       25     2552   899.000000           1.0   \n",
       "2 2013-01-05               0       25     2552   899.000000          -1.0   \n",
       "3 2013-01-06               0       25     2554  1709.050049           1.0   \n",
       "4 2013-01-15               0       25     2555  1099.000000           1.0   \n",
       "\n",
       "     Month  \n",
       "0  2013-01  \n",
       "1  2013-01  \n",
       "2  2013-01  \n",
       "3  2013-01  \n",
       "4  2013-01  "
      ]
     },
     "execution_count": 7,
     "metadata": {},
     "output_type": "execute_result"
    }
   ],
   "source": [
    "sales.head()"
   ]
  },
  {
   "cell_type": "code",
   "execution_count": 8,
   "id": "0f10c96f-2412-42ab-ba9f-39836465b222",
   "metadata": {},
   "outputs": [
    {
     "data": {
      "text/plain": [
       "<AxesSubplot:xlabel='Month'>"
      ]
     },
     "execution_count": 8,
     "metadata": {},
     "output_type": "execute_result"
    },
    {
     "data": {
      "image/png": "[encoded data removed]",
      "text/plain": [
       "<Figure size 432x288 with 1 Axes>"
      ]
     },
     "metadata": {
      "needs_background": "light"
     },
     "output_type": "display_data"
    }
   ],
   "source": [
    "salesPerMonth = sales.groupby(['Month']).agg({'item_cnt_day' : 'sum'})\n",
    "salesPerMonth.reset_index(inplace=True)\n",
    "salesPerMonth = salesPerMonth.set_index('Month')\n",
    "salesPerMonth.rename(columns = {'item_cnt_day':'item_cnt_month'}, inplace = True)\n",
    "salesPerMonth.plot()"
   ]
  },
  {
   "cell_type": "markdown",
   "id": "d98ee5c7-defa-41dc-9b48-954b28a6fc1e",
   "metadata": {},
   "source": [
    "#### 4. Feature Engineering"
   ]
  },
  {
   "cell_type": "code",
   "execution_count": 54,
   "id": "17af8dd0-1f18-4358-8b19-7dd84dffded9",
   "metadata": {},
   "outputs": [],
   "source": [
    "sales.date = pd.to_datetime(sales.date, format = '%d.%m.%Y')"
   ]
  },
  {
   "cell_type": "code",
   "execution_count": 55,
   "id": "f19cebf0-9171-4b24-aedd-f3948be0f3f1",
   "metadata": {},
   "outputs": [],
   "source": [
    "sales['Month'] = sales['date'].dt.to_period('M')"
   ]
  },
  {
   "cell_type": "code",
   "execution_count": 56,
   "id": "e016c330-b35a-475f-a739-56dc5da43fc2",
   "metadata": {},
   "outputs": [],
   "source": [
    "sales_df = sales.groupby(['Month']).agg({'item_cnt_day':'sum'})"
   ]
  },
  {
   "cell_type": "code",
   "execution_count": 57,
   "id": "44981ad7-752e-4453-b6ac-d3dcb9193861",
   "metadata": {},
   "outputs": [],
   "source": [
    "sales_df.rename(columns = {'item_cnt_day':'mthly_sold'}, inplace = True)"
   ]
  },
  {
   "cell_type": "code",
   "execution_count": 58,
   "id": "c5997fd3-87bf-4b1d-b2fc-4f12802d7c05",
   "metadata": {},
   "outputs": [
    {
     "data": {
      "text/html": [
       "<div>\n",
       "<style scoped>\n",
       "    .dataframe tbody tr th:only-of-type {\n",
       "        vertical-align: middle;\n",
       "    }\n",
       "\n",
       "    .dataframe tbody tr th {\n",
       "        vertical-align: top;\n",
       "    }\n",
       "\n",
       "    .dataframe thead th {\n",
       "        text-align: right;\n",
       "    }\n",
       "</style>\n",
       "<table border=\"1\" class=\"dataframe\">\n",
       "  <thead>\n",
       "    <tr style=\"text-align: right;\">\n",
       "      <th></th>\n",
       "      <th>mthly_sold</th>\n",
       "    </tr>\n",
       "    <tr>\n",
       "      <th>Month</th>\n",
       "      <th></th>\n",
       "    </tr>\n",
       "  </thead>\n",
       "  <tbody>\n",
       "    <tr>\n",
       "      <th>2013-01</th>\n",
       "      <td>131479.0</td>\n",
       "    </tr>\n",
       "    <tr>\n",
       "      <th>2013-02</th>\n",
       "      <td>128090.0</td>\n",
       "    </tr>\n",
       "    <tr>\n",
       "      <th>2013-03</th>\n",
       "      <td>147142.0</td>\n",
       "    </tr>\n",
       "    <tr>\n",
       "      <th>2013-04</th>\n",
       "      <td>107190.0</td>\n",
       "    </tr>\n",
       "    <tr>\n",
       "      <th>2013-05</th>\n",
       "      <td>106970.0</td>\n",
       "    </tr>\n",
       "  </tbody>\n",
       "</table>\n",
       "</div>"
      ],
      "text/plain": [
       "         mthly_sold\n",
       "Month              \n",
       "2013-01    131479.0\n",
       "2013-02    128090.0\n",
       "2013-03    147142.0\n",
       "2013-04    107190.0\n",
       "2013-05    106970.0"
      ]
     },
     "execution_count": 58,
     "metadata": {},
     "output_type": "execute_result"
    }
   ],
   "source": [
    "sales_df.head()"
   ]
  },
  {
   "cell_type": "code",
   "execution_count": 59,
   "id": "3d27ee60-a40b-4fbc-b5a8-1cb79712cfa2",
   "metadata": {},
   "outputs": [
    {
     "data": {
      "image/png": "[encoded data removed]",
      "text/plain": [
       "<Figure size 432x288 with 1 Axes>"
      ]
     },
     "metadata": {
      "needs_background": "light"
     },
     "output_type": "display_data"
    }
   ],
   "source": [
    "# Plot time series\n",
    "sales_df.plot()\n",
    "plt.show()"
   ]
  },
  {
   "cell_type": "markdown",
   "id": "f09d89bd-2b05-41d8-96b6-67eebf9738c1",
   "metadata": {
    "tags": []
   },
   "source": [
    "#### 5. Box-Jenkins Time Series"
   ]
  },
  {
   "cell_type": "markdown",
   "id": "c791fc6c-08d0-4e33-bf07-f5230ef445fd",
   "metadata": {
    "tags": []
   },
   "source": [
    "##### 5.1 Identification"
   ]
  },
  {
   "cell_type": "markdown",
   "id": "a4dc1077-8652-4e55-9590-9e2e76fcd97b",
   "metadata": {
    "tags": []
   },
   "source": [
    "###### 5.1.1 Check stationarity"
   ]
  },
  {
   "cell_type": "code",
   "execution_count": 60,
   "id": "985fe659-81a7-4e3a-80f5-4d5715830a30",
   "metadata": {},
   "outputs": [
    {
     "name": "stdout",
     "output_type": "stream",
     "text": [
      "ADF :  -2.3957040669944325\n",
      "P-Value :  0.1429525769929046\n",
      "Num Of Lags :  0\n",
      "Num Of Observations Used For ADF Regression: 33\n",
      "Critical Values :\n",
      "\t 1% :  -3.6461350877925254\n",
      "\t 5% :  -2.954126991123355\n",
      "\t 10% :  -2.6159676124885216\n"
     ]
    }
   ],
   "source": [
    "from statsmodels.tsa.stattools import adfuller\n",
    "def test_stationarity(dataset):\n",
    "     dftest = adfuller(dataset, autolag = 'AIC')\n",
    "     print(\"ADF : \",dftest[0])\n",
    "     print(\"P-Value : \", dftest[1])\n",
    "     print(\"Num Of Lags : \", dftest[2])\n",
    "     print(\"Num Of Observations Used For ADF Regression:\", dftest[3])\n",
    "     print(\"Critical Values :\")\n",
    "     for key, val in dftest[4].items():\n",
    "         print(\"\\t\",key, \": \", val)\n",
    "\n",
    "test_stationarity(sales_df['mthly_sold'])"
   ]
  },
  {
   "cell_type": "markdown",
   "id": "51920b7f-f459-4825-b092-3f34478747b2",
   "metadata": {},
   "source": [
    "p-value is not < 0.5, hence, this is not stationary"
   ]
  },
  {
   "cell_type": "markdown",
   "id": "90d6ee24-de8d-4cc7-ae9c-6faf5a227fff",
   "metadata": {},
   "source": [
    "###### 5.1.2 make dataset stationary"
   ]
  },
  {
   "cell_type": "code",
   "execution_count": 61,
   "id": "d79b9085-766a-45d1-96f1-58bce0022a09",
   "metadata": {},
   "outputs": [],
   "source": [
    "# multiplicative: First apply log transform\n",
    "sales_df= np.log(sales_df)"
   ]
  },
  {
   "cell_type": "code",
   "execution_count": 62,
   "id": "3edd4f1b-7058-4ef7-8875-0e2305a9f306",
   "metadata": {},
   "outputs": [
    {
     "data": {
      "image/png": "[encoded data removed]",
      "text/plain": [
       "<Figure size 432x288 with 1 Axes>"
      ]
     },
     "metadata": {
      "needs_background": "light"
     },
     "output_type": "display_data"
    }
   ],
   "source": [
    "sales_df.plot()\n",
    "plt.show()"
   ]
  },
  {
   "cell_type": "code",
   "execution_count": 63,
   "id": "cf59afaa-43d4-44ac-9650-d45af9e567bb",
   "metadata": {},
   "outputs": [],
   "source": [
    "sales_df_stationary = sales_df.diff()\n",
    "sales_df_stationary = sales_df.diff().dropna()"
   ]
  },
  {
   "cell_type": "code",
   "execution_count": 65,
   "id": "c4451108-8c76-4cf1-8d34-97de1e575aa5",
   "metadata": {},
   "outputs": [
    {
     "data": {
      "image/png": "[encoded data removed]",
      "text/plain": [
       "<Figure size 432x288 with 1 Axes>"
      ]
     },
     "metadata": {
      "needs_background": "light"
     },
     "output_type": "display_data"
    },
    {
     "name": "stdout",
     "output_type": "stream",
     "text": [
      "ADF Statistic: -6.974166116899589\n",
      "p-value: 8.51304339888802e-10\n"
     ]
    }
   ],
   "source": [
    "# Run ADF test on the differenced time series\n",
    "result = adfuller(sales_df_stationary['mthly_sold'])\n",
    "\n",
    "# Plot the differenced time series\n",
    "fig, ax = plt.subplots()\n",
    "sales_df_stationary.plot(ax=ax)\n",
    "plt.show()\n",
    "\n",
    "# Print the test statistic and the p-value\n",
    "print('ADF Statistic:', result[0])\n",
    "print('p-value:', result[1])"
   ]
  },
  {
   "cell_type": "markdown",
   "id": "d6865ebf-0a48-4d34-bc10-e1de3c5325b2",
   "metadata": {},
   "source": [
    "p-value is now less than 0.5, this means we achieved stationary"
   ]
  },
  {
   "cell_type": "markdown",
   "id": "5ccbdee7-4855-4fbc-860c-b4986319888d",
   "metadata": {
    "tags": []
   },
   "source": [
    "###### 5.1.3 ACF & PACF"
   ]
  },
  {
   "cell_type": "code",
   "execution_count": 67,
   "id": "bb1e8ab3-9147-4c27-b503-78ff779bfcc2",
   "metadata": {},
   "outputs": [
    {
     "data": {
      "image/png": "[encoded data removed]",
      "text/plain": [
       "<Figure size 864x576 with 2 Axes>"
      ]
     },
     "metadata": {
      "needs_background": "light"
     },
     "output_type": "display_data"
    }
   ],
   "source": [
    "from statsmodels.graphics.tsaplots import plot_acf, plot_pacf\n",
    "# Create figure\n",
    "fig, (ax1, ax2) = plt.subplots(2,1, figsize=(12,8))\n",
    " \n",
    "# Plot the ACF of savings on ax1\n",
    "plot_acf(sales_df, lags=10, zero=False, ax=ax1)\n",
    "\n",
    "# Plot the PACF of savings on ax2\n",
    "plot_pacf(sales_df, lags=10, zero=False, ax=ax2)\n",
    "\n",
    "plt.show()"
   ]
  },
  {
   "cell_type": "markdown",
   "id": "4beee6fe-18ee-473d-95c0-55807ac72bee",
   "metadata": {},
   "source": [
    "This looks like an AR(1) model"
   ]
  },
  {
   "cell_type": "markdown",
   "id": "5b0a1310-376d-46c5-a049-c58aa275e350",
   "metadata": {
    "tags": []
   },
   "source": [
    "##### 5.2 Estimation"
   ]
  },
  {
   "cell_type": "markdown",
   "id": "c3949c4c-5b3c-4518-b59e-7b3bf8225c7a",
   "metadata": {},
   "source": [
    "###### 5.1.1 AIC or BIC"
   ]
  },
  {
   "cell_type": "code",
   "execution_count": 69,
   "id": "2d63b755-569d-4f15-a128-6fd73cac3c96",
   "metadata": {},
   "outputs": [
    {
     "name": "stdout",
     "output_type": "stream",
     "text": [
      "   p  q         AIC         BIC\n",
      "3  1  0  -10.989741   -7.937020\n",
      "4  1  1  -10.640632   -6.061550\n",
      "6  2  0  -10.114122   -5.535040\n",
      "5  1  2   -9.358698   -3.253255\n",
      "8  2  2   -6.972533    0.659269\n",
      "7  2  1   -6.923687   -0.818245\n",
      "2  0  2  186.707719  191.286801\n",
      "1  0  1  224.307139  227.359860\n",
      "0  0  0  264.874686  266.401046\n",
      "   p  q         AIC         BIC\n",
      "3  1  0  -10.989741   -7.937020\n",
      "4  1  1  -10.640632   -6.061550\n",
      "6  2  0  -10.114122   -5.535040\n",
      "5  1  2   -9.358698   -3.253255\n",
      "7  2  1   -6.923687   -0.818245\n",
      "8  2  2   -6.972533    0.659269\n",
      "2  0  2  186.707719  191.286801\n",
      "1  0  1  224.307139  227.359860\n",
      "0  0  0  264.874686  266.401046\n"
     ]
    }
   ],
   "source": [
    "order_aic_bic=[]\n",
    "# Loop over p values from 0-2\n",
    "for p in range(3):\n",
    "    # Loop over q values from 0-2\n",
    "    for q in range(3):\n",
    "      \n",
    "        try:\n",
    "            # create and fit ARMA(p,q) model\n",
    "            model = SARIMAX(sales_df, order=(p,0,q))\n",
    "            results = model.fit()\n",
    "            \n",
    "            # Append order and results tuple\n",
    "            order_aic_bic.append((p,q,results.aic,results.bic))\n",
    "            \n",
    "        except:\n",
    "            order_aic_bic.append((p,q,None, None))            \n",
    "\n",
    "# Construct DataFrame from order_aic_bic\n",
    "order_df = pd.DataFrame(order_aic_bic, \n",
    "                        columns=['p', 'q', 'AIC', 'BIC'])\n",
    "\n",
    "# Print order_df in order of increasing AIC\n",
    "print(order_df.sort_values('AIC'))\n",
    "\n",
    "# Print order_df in order of increasing BIC\n",
    "print(order_df.sort_values('BIC'))"
   ]
  },
  {
   "cell_type": "markdown",
   "id": "86e5a6ed-8eb4-46d1-bd3b-ebb75619729b",
   "metadata": {},
   "source": [
    "Both AIC and BIC suggested AR(1)"
   ]
  },
  {
   "cell_type": "markdown",
   "id": "826c93a2-3678-4a23-b3d7-6453be322fbc",
   "metadata": {
    "tags": []
   },
   "source": [
    "##### 5.3 Model Diagnostics"
   ]
  },
  {
   "cell_type": "code",
   "execution_count": 70,
   "id": "45e0947a-a3c7-4a7c-b63d-8bc19b6a9ae5",
   "metadata": {},
   "outputs": [
    {
     "data": {
      "image/png": "[encoded data removed]",
      "text/plain": [
       "<Figure size 432x288 with 4 Axes>"
      ]
     },
     "metadata": {
      "needs_background": "light"
     },
     "output_type": "display_data"
    },
    {
     "name": "stdout",
     "output_type": "stream",
     "text": [
      "                               SARIMAX Results                                \n",
      "==============================================================================\n",
      "Dep. Variable:             mthly_sold   No. Observations:                   34\n",
      "Model:               SARIMAX(1, 1, 0)   Log Likelihood                  12.198\n",
      "Date:                Fri, 12 Aug 2022   AIC                            -18.397\n",
      "Time:                        21:34:55   BIC                            -13.907\n",
      "Sample:                    01-31-2013   HQIC                           -16.886\n",
      "                         - 10-31-2015                                         \n",
      "Covariance Type:                  opg                                         \n",
      "==============================================================================\n",
      "                 coef    std err          z      P>|z|      [0.025      0.975]\n",
      "------------------------------------------------------------------------------\n",
      "intercept     -0.0222      0.030     -0.740      0.459      -0.081       0.037\n",
      "ar.L1         -0.1934      0.122     -1.580      0.114      -0.433       0.046\n",
      "sigma2         0.0279      0.006      4.639      0.000       0.016       0.040\n",
      "===================================================================================\n",
      "Ljung-Box (L1) (Q):                   0.10   Jarque-Bera (JB):                 0.63\n",
      "Prob(Q):                              0.75   Prob(JB):                         0.73\n",
      "Heteroskedasticity (H):               1.48   Skew:                            -0.09\n",
      "Prob(H) (two-sided):                  0.52   Kurtosis:                         3.65\n",
      "===================================================================================\n",
      "\n",
      "Warnings:\n",
      "[1] Covariance matrix calculated using the outer product of gradients (complex-step).\n"
     ]
    }
   ],
   "source": [
    "# Create and fit model\n",
    "model = SARIMAX(sales_df, order=(1,1,0), trend='c')\n",
    "results=model.fit()\n",
    "\n",
    "# Create the 4 diagostics plots\n",
    "results.plot_diagnostics()\n",
    "plt.show()\n",
    "\n",
    "# Print summary\n",
    "print(results.summary())"
   ]
  },
  {
   "cell_type": "markdown",
   "id": "0ff6e9d4-4b87-409d-8401-2b42b694cc0e",
   "metadata": {},
   "source": [
    "Prob(Q) & Prob(JB) are both more than 0.5, this means residuals are uncorrelated and normally distributed"
   ]
  },
  {
   "cell_type": "markdown",
   "id": "7dbccca7-2100-4981-af7c-2167a621e8c7",
   "metadata": {
    "tags": []
   },
   "source": [
    "##### 5.4 Production"
   ]
  },
  {
   "cell_type": "markdown",
   "id": "e5393817-011b-4a0c-ab87-afbe4e7fb270",
   "metadata": {},
   "source": [
    "#### 6. Model Fitting"
   ]
  },
  {
   "cell_type": "markdown",
   "id": "f84f3270-101a-4dca-97e7-f192a6afb1d3",
   "metadata": {},
   "source": [
    "##### 6.1 Train test split"
   ]
  },
  {
   "cell_type": "code",
   "execution_count": null,
   "id": "a26deed6-781c-4fb6-904a-0ca19c8d6390",
   "metadata": {},
   "outputs": [],
   "source": []
  },
  {
   "cell_type": "markdown",
   "id": "61f21c7f-a5a5-49f1-b8a3-089e7aa422ba",
   "metadata": {},
   "source": [
    "##### 6.2 ARIMA"
   ]
  },
  {
   "cell_type": "code",
   "execution_count": null,
   "id": "d37ceee6-5153-48c4-bde2-c508e48aac82",
   "metadata": {},
   "outputs": [],
   "source": []
  },
  {
   "cell_type": "markdown",
   "id": "a7ba4746-b1ac-4fdc-bd0b-ae63457ccdcc",
   "metadata": {},
   "source": [
    "##### 6.3 Auto ARIMA + SHIFT"
   ]
  },
  {
   "cell_type": "code",
   "execution_count": null,
   "id": "0e47f4af-a80a-4c42-a72d-20ce6fc44cf3",
   "metadata": {},
   "outputs": [],
   "source": []
  },
  {
   "cell_type": "markdown",
   "id": "1b7c1954-d0c4-443a-988a-ec26772f30b2",
   "metadata": {},
   "source": [
    "#### 7. Prediction and validation"
   ]
  },
  {
   "cell_type": "code",
   "execution_count": null,
   "id": "a2223ecb-c552-409f-bfb6-ecf12a2e9f3a",
   "metadata": {},
   "outputs": [],
   "source": []
  },
  {
   "cell_type": "markdown",
   "id": "3c5df9fe-afee-4198-b1c3-6122f8fb539a",
   "metadata": {},
   "source": [
    "#### 8. Submission"
   ]
  },
  {
   "cell_type": "code",
   "execution_count": null,
   "id": "a4fca659-8a56-44f2-867f-e4bb6d80ab02",
   "metadata": {},
   "outputs": [],
   "source": []
  }
 ],
 "metadata": {
  "kernelspec": {
   "display_name": "Python 3 (ipykernel)",
   "language": "python",
   "name": "python3"
  },
  "language_info": {
   "codemirror_mode": {
    "name": "ipython",
    "version": 3
   },
   "file_extension": ".py",
   "mimetype": "text/x-python",
   "name": "python",
   "nbconvert_exporter": "python",
   "pygments_lexer": "ipython3",
   "version": "3.10.5"
  }
 },
 "nbformat": 4,
 "nbformat_minor": 5
}
