{
 "cells": [
  {
   "cell_type": "markdown",
   "id": "31b3e082-8aa1-4ded-aa5d-8018b195f52f",
   "metadata": {
    "tags": []
   },
   "source": [
    "## Predict Future Sales (Time Series)"
   ]
  },
  {
   "cell_type": "markdown",
   "id": "12f188e7-3c52-4414-b6c6-cc5c7db4d517",
   "metadata": {},
   "source": [
    "Kaggle Competition"
   ]
  },
  {
   "cell_type": "markdown",
   "id": "093b7a26-2aba-4547-a131-5c3f7cb36dbf",
   "metadata": {},
   "source": [
    "**Goal**: Predict total sales for every product and store for November 2015. <br>\n",
    "**Data Given**: Daily historical data from January 2013 to October 2015. <br>"
   ]
  },
  {
   "cell_type": "markdown",
   "id": "1c86c26e-b59a-4b23-8dcf-a4a2602d9855",
   "metadata": {
    "tags": []
   },
   "source": [
    "#### 1. Import packages and data"
   ]
  },
  {
   "cell_type": "code",
   "execution_count": 2,
   "id": "91c7edfa-9e00-4cef-8ab2-3aa7c7c52418",
   "metadata": {},
   "outputs": [],
   "source": [
    "# Basic packages\n",
    "import numpy as np # linear algebra\n",
    "import pandas as pd # data processing, CSV file I/O (e.g. pd.read_csv)\n",
    "import random as rd # generating random numbers\n",
    "import datetime # manipulating date formats\n",
    "\n",
    "# Visualistion\n",
    "import matplotlib.pyplot as plt # basic plotting\n",
    "import seaborn as sns # for prettier plots\n",
    "\n",
    "# TIME SERIES\n",
    "from statsmodels.tsa.arima_model import ARIMA\n",
    "from statsmodels.tsa.statespace.sarimax import SARIMAX\n",
    "from pandas.plotting import autocorrelation_plot\n",
    "from statsmodels.tsa.stattools import adfuller, acf, pacf,arma_order_select_ic\n",
    "import statsmodels.formula.api as smf\n",
    "import statsmodels.tsa.api as smt\n",
    "import statsmodels.api as sm\n",
    "import scipy.stats as scs\n",
    "\n",
    "# settings\n",
    "import warnings\n",
    "warnings.filterwarnings(\"ignore\")"
   ]
  },
  {
   "cell_type": "code",
   "execution_count": 3,
   "id": "8b7f67b4-d052-4474-a123-8a3dd346d87a",
   "metadata": {},
   "outputs": [],
   "source": [
    "# Import all of them \n",
    "sales=pd.read_csv(\"sales_train.csv\")\n",
    "# item_cat=pd.read_csv(\"item_categories-translated.csv\")\n",
    "# item=pd.read_csv(\"items-translated.csv\")\n",
    "# sub=pd.read_csv(\"sample_submission.csv\")\n",
    "# shops=pd.read_csv(\"shops-translated.csv\")\n",
    "test=pd.read_csv(\"test.csv\")"
   ]
  },
  {
   "cell_type": "markdown",
   "id": "4d49586b-bd90-4575-b0ec-80e6d1772a3d",
   "metadata": {},
   "source": [
    "Thanks to deargle who translated the Russian to English. <br>\n",
    "https://www.kaggle.com/competitions/competitive-data-science-predict-future-sales/discussion/54949"
   ]
  },
  {
   "cell_type": "markdown",
   "id": "679127c5-8edf-475f-8dea-badf94702b5a",
   "metadata": {
    "tags": []
   },
   "source": [
    "#### 2. Compress data size"
   ]
  },
  {
   "cell_type": "code",
   "execution_count": 4,
   "id": "8bf6fc77-462b-487f-a705-4aa69511b7b7",
   "metadata": {},
   "outputs": [
    {
     "name": "stdout",
     "output_type": "stream",
     "text": [
      "Mem. usage decreased to 61.60 Mb (54.2% reduction)\n",
      "<class 'pandas.core.frame.DataFrame'>\n",
      "RangeIndex: 2935849 entries, 0 to 2935848\n",
      "Data columns (total 6 columns):\n",
      " #   Column          Dtype  \n",
      "---  ------          -----  \n",
      " 0   date            object \n",
      " 1   date_block_num  int16  \n",
      " 2   shop_id         int16  \n",
      " 3   item_id         int16  \n",
      " 4   item_price      float32\n",
      " 5   item_cnt_day    float32\n",
      "dtypes: float32(2), int16(3), object(1)\n",
      "memory usage: 61.6+ MB\n",
      "None\n"
     ]
    }
   ],
   "source": [
    "def downcast_dtypes(df, verbose = True):\n",
    "    start_mem = df.memory_usage().sum() / 1024**2\n",
    "    float_cols = [c for c in df if df[c].dtype == \"float64\"]\n",
    "    int_cols = [c for c in df if df[c].dtype in [\"int64\", \"int32\"]]\n",
    "    df[float_cols] = df[float_cols].astype(np.float32)\n",
    "    df[int_cols] = df[int_cols].astype(np.int16)\n",
    "    end_mem = df.memory_usage().sum() / 1024**2\n",
    "    if verbose: print('Mem. usage decreased to {:5.2f} Mb ({:.1f}% reduction)'.format(end_mem, 100 * (start_mem - end_mem) / start_mem))\n",
    "    return df\n",
    "\n",
    "sales = downcast_dtypes(sales, verbose = True)\n",
    "print(sales.info())"
   ]
  },
  {
   "cell_type": "markdown",
   "id": "94bff40b-aef7-497d-bf28-2564733deb97",
   "metadata": {},
   "source": [
    "The data is now much lighter!!"
   ]
  },
  {
   "cell_type": "markdown",
   "id": "ea3f5cbd-fca1-430a-9192-69cb6b40f602",
   "metadata": {
    "tags": []
   },
   "source": [
    "#### 3. Data Structure"
   ]
  },
  {
   "cell_type": "code",
   "execution_count": 5,
   "id": "e882d6d7-2ba9-4186-813e-e4f0eea23d45",
   "metadata": {},
   "outputs": [
    {
     "data": {
      "text/plain": [
       "date              0\n",
       "date_block_num    0\n",
       "shop_id           0\n",
       "item_id           0\n",
       "item_price        0\n",
       "item_cnt_day      0\n",
       "dtype: int64"
      ]
     },
     "execution_count": 5,
     "metadata": {},
     "output_type": "execute_result"
    }
   ],
   "source": [
    "# Check Null values\n",
    "sales.isnull().sum()"
   ]
  },
  {
   "cell_type": "markdown",
   "id": "13cc0c74-14d1-4b96-80bf-68a800906f13",
   "metadata": {},
   "source": [
    "Great, there is no missing values."
   ]
  },
  {
   "cell_type": "code",
   "execution_count": 6,
   "id": "7c267072-6237-4eb7-b1fc-91ef49787a5e",
   "metadata": {},
   "outputs": [
    {
     "data": {
      "text/plain": [
       "(2935849, 6)"
      ]
     },
     "execution_count": 6,
     "metadata": {},
     "output_type": "execute_result"
    }
   ],
   "source": [
    "# Check how many rows & columns\n",
    "sales.shape"
   ]
  },
  {
   "cell_type": "markdown",
   "id": "4d2255b0-4694-479a-ad69-3de042bdfc5b",
   "metadata": {},
   "source": [
    "Almost 3 miliion rows of data."
   ]
  },
  {
   "cell_type": "code",
   "execution_count": 7,
   "id": "4a557d7b-5217-4e09-8ba7-9ef5c319d11b",
   "metadata": {},
   "outputs": [
    {
     "data": {
      "text/html": [
       "<div>\n",
       "<style scoped>\n",
       "    .dataframe tbody tr th:only-of-type {\n",
       "        vertical-align: middle;\n",
       "    }\n",
       "\n",
       "    .dataframe tbody tr th {\n",
       "        vertical-align: top;\n",
       "    }\n",
       "\n",
       "    .dataframe thead th {\n",
       "        text-align: right;\n",
       "    }\n",
       "</style>\n",
       "<table border=\"1\" class=\"dataframe\">\n",
       "  <thead>\n",
       "    <tr style=\"text-align: right;\">\n",
       "      <th></th>\n",
       "      <th>date</th>\n",
       "      <th>date_block_num</th>\n",
       "      <th>shop_id</th>\n",
       "      <th>item_id</th>\n",
       "      <th>item_price</th>\n",
       "      <th>item_cnt_day</th>\n",
       "    </tr>\n",
       "  </thead>\n",
       "  <tbody>\n",
       "    <tr>\n",
       "      <th>76962</th>\n",
       "      <td>05.01.2013</td>\n",
       "      <td>0</td>\n",
       "      <td>54</td>\n",
       "      <td>20130</td>\n",
       "      <td>149.0</td>\n",
       "      <td>1.0</td>\n",
       "    </tr>\n",
       "    <tr>\n",
       "      <th>1435367</th>\n",
       "      <td>23.02.2014</td>\n",
       "      <td>13</td>\n",
       "      <td>50</td>\n",
       "      <td>3423</td>\n",
       "      <td>999.0</td>\n",
       "      <td>1.0</td>\n",
       "    </tr>\n",
       "    <tr>\n",
       "      <th>1496766</th>\n",
       "      <td>23.03.2014</td>\n",
       "      <td>14</td>\n",
       "      <td>21</td>\n",
       "      <td>3423</td>\n",
       "      <td>999.0</td>\n",
       "      <td>1.0</td>\n",
       "    </tr>\n",
       "    <tr>\n",
       "      <th>1671873</th>\n",
       "      <td>01.05.2014</td>\n",
       "      <td>16</td>\n",
       "      <td>50</td>\n",
       "      <td>3423</td>\n",
       "      <td>999.0</td>\n",
       "      <td>1.0</td>\n",
       "    </tr>\n",
       "    <tr>\n",
       "      <th>1866340</th>\n",
       "      <td>12.07.2014</td>\n",
       "      <td>18</td>\n",
       "      <td>25</td>\n",
       "      <td>3423</td>\n",
       "      <td>999.0</td>\n",
       "      <td>1.0</td>\n",
       "    </tr>\n",
       "    <tr>\n",
       "      <th>2198566</th>\n",
       "      <td>31.12.2014</td>\n",
       "      <td>23</td>\n",
       "      <td>42</td>\n",
       "      <td>21619</td>\n",
       "      <td>499.0</td>\n",
       "      <td>1.0</td>\n",
       "    </tr>\n",
       "  </tbody>\n",
       "</table>\n",
       "</div>"
      ],
      "text/plain": [
       "               date  date_block_num  shop_id  item_id  item_price  \\\n",
       "76962    05.01.2013               0       54    20130       149.0   \n",
       "1435367  23.02.2014              13       50     3423       999.0   \n",
       "1496766  23.03.2014              14       21     3423       999.0   \n",
       "1671873  01.05.2014              16       50     3423       999.0   \n",
       "1866340  12.07.2014              18       25     3423       999.0   \n",
       "2198566  31.12.2014              23       42    21619       499.0   \n",
       "\n",
       "         item_cnt_day  \n",
       "76962             1.0  \n",
       "1435367           1.0  \n",
       "1496766           1.0  \n",
       "1671873           1.0  \n",
       "1866340           1.0  \n",
       "2198566           1.0  "
      ]
     },
     "execution_count": 7,
     "metadata": {},
     "output_type": "execute_result"
    }
   ],
   "source": [
    "# check duplicates\n",
    "sales[sales.duplicated()]\n"
   ]
  },
  {
   "cell_type": "markdown",
   "id": "9147c812-b443-4c7d-ba62-644cac544fb4",
   "metadata": {},
   "source": [
    "Nothing much to worry about for the duplicates, might be just the same purchase in the same shop from different people."
   ]
  },
  {
   "cell_type": "markdown",
   "id": "22eb915c-2c9d-41a7-9bd9-de4bac7da9b8",
   "metadata": {
    "tags": []
   },
   "source": [
    "#### 4. Feature Extraction"
   ]
  },
  {
   "cell_type": "markdown",
   "id": "16a6fd23-fca4-4a60-ab86-e3d4b7265e10",
   "metadata": {
    "tags": []
   },
   "source": [
    "##### 4.1 Convert 'date' column to datetime format for future extraction purpose."
   ]
  },
  {
   "cell_type": "code",
   "execution_count": 8,
   "id": "5a8723f7-6fb9-46d6-a774-51d4a5e22748",
   "metadata": {},
   "outputs": [
    {
     "data": {
      "text/html": [
       "<div>\n",
       "<style scoped>\n",
       "    .dataframe tbody tr th:only-of-type {\n",
       "        vertical-align: middle;\n",
       "    }\n",
       "\n",
       "    .dataframe tbody tr th {\n",
       "        vertical-align: top;\n",
       "    }\n",
       "\n",
       "    .dataframe thead th {\n",
       "        text-align: right;\n",
       "    }\n",
       "</style>\n",
       "<table border=\"1\" class=\"dataframe\">\n",
       "  <thead>\n",
       "    <tr style=\"text-align: right;\">\n",
       "      <th></th>\n",
       "      <th>date</th>\n",
       "      <th>date_block_num</th>\n",
       "      <th>shop_id</th>\n",
       "      <th>item_id</th>\n",
       "      <th>item_price</th>\n",
       "      <th>item_cnt_day</th>\n",
       "    </tr>\n",
       "  </thead>\n",
       "  <tbody>\n",
       "    <tr>\n",
       "      <th>0</th>\n",
       "      <td>02.01.2013</td>\n",
       "      <td>0</td>\n",
       "      <td>59</td>\n",
       "      <td>22154</td>\n",
       "      <td>999.000000</td>\n",
       "      <td>1.0</td>\n",
       "    </tr>\n",
       "    <tr>\n",
       "      <th>1</th>\n",
       "      <td>03.01.2013</td>\n",
       "      <td>0</td>\n",
       "      <td>25</td>\n",
       "      <td>2552</td>\n",
       "      <td>899.000000</td>\n",
       "      <td>1.0</td>\n",
       "    </tr>\n",
       "    <tr>\n",
       "      <th>2</th>\n",
       "      <td>05.01.2013</td>\n",
       "      <td>0</td>\n",
       "      <td>25</td>\n",
       "      <td>2552</td>\n",
       "      <td>899.000000</td>\n",
       "      <td>-1.0</td>\n",
       "    </tr>\n",
       "    <tr>\n",
       "      <th>3</th>\n",
       "      <td>06.01.2013</td>\n",
       "      <td>0</td>\n",
       "      <td>25</td>\n",
       "      <td>2554</td>\n",
       "      <td>1709.050049</td>\n",
       "      <td>1.0</td>\n",
       "    </tr>\n",
       "    <tr>\n",
       "      <th>4</th>\n",
       "      <td>15.01.2013</td>\n",
       "      <td>0</td>\n",
       "      <td>25</td>\n",
       "      <td>2555</td>\n",
       "      <td>1099.000000</td>\n",
       "      <td>1.0</td>\n",
       "    </tr>\n",
       "  </tbody>\n",
       "</table>\n",
       "</div>"
      ],
      "text/plain": [
       "         date  date_block_num  shop_id  item_id   item_price  item_cnt_day\n",
       "0  02.01.2013               0       59    22154   999.000000           1.0\n",
       "1  03.01.2013               0       25     2552   899.000000           1.0\n",
       "2  05.01.2013               0       25     2552   899.000000          -1.0\n",
       "3  06.01.2013               0       25     2554  1709.050049           1.0\n",
       "4  15.01.2013               0       25     2555  1099.000000           1.0"
      ]
     },
     "execution_count": 8,
     "metadata": {},
     "output_type": "execute_result"
    }
   ],
   "source": [
    "## Before converting date to datetime format\n",
    "sales.head()"
   ]
  },
  {
   "cell_type": "code",
   "execution_count": null,
   "id": "da619bc9-13c5-4e4c-9384-431de1fd0569",
   "metadata": {},
   "outputs": [],
   "source": [
    "# convert date to datetime format\n",
    "# sales.date=sales.date.apply(lambda x:datetime.datetime.strptime(x, '%d.%m.%Y'))\n",
    "sales.date = pd.to_datetime(sales.date, format = '%d.%m.%Y')\n",
    "# check\n",
    "print(sales.info())"
   ]
  },
  {
   "cell_type": "code",
   "execution_count": null,
   "id": "3d3a95d6-dc25-4598-ad8a-de840a3c6c42",
   "metadata": {},
   "outputs": [],
   "source": [
    "## After converting date to datetime format\n",
    "sales.head()"
   ]
  },
  {
   "cell_type": "markdown",
   "id": "b752e6ec-2fb3-46a5-9ff7-f6399913baed",
   "metadata": {
    "tags": []
   },
   "source": [
    "##### 4.2 Calculate sales revenue"
   ]
  },
  {
   "cell_type": "code",
   "execution_count": null,
   "id": "fee25ab8-d58b-4860-ac9d-596b4d8a10e9",
   "metadata": {},
   "outputs": [],
   "source": [
    "sales['revenue'] = sales.item_price.values * sales.item_cnt_day.values"
   ]
  },
  {
   "cell_type": "code",
   "execution_count": null,
   "id": "1981c288-3d10-4d23-8d64-cba48db4a78e",
   "metadata": {},
   "outputs": [],
   "source": [
    "sales.head()"
   ]
  },
  {
   "cell_type": "code",
   "execution_count": null,
   "id": "c473f10c-5be1-426d-960d-83118b1d2e90",
   "metadata": {},
   "outputs": [],
   "source": [
    "# Number of returns\n",
    "len(sales[sales.item_cnt_day < 0])"
   ]
  },
  {
   "cell_type": "markdown",
   "id": "969ac6bc-b12d-49ec-ac05-16f4df97bff5",
   "metadata": {
    "tags": []
   },
   "source": [
    "##### 4.3 Split year, month and day in each column"
   ]
  },
  {
   "cell_type": "code",
   "execution_count": null,
   "id": "63b9cba4-cc96-48b1-90d7-56879e86cac2",
   "metadata": {},
   "outputs": [],
   "source": [
    "sales['month'] = sales.date.dt.month\n",
    "sales['year'] = sales.date.dt.year\n",
    "sales['day_of_week'] = sales.date.dt.day_of_week"
   ]
  },
  {
   "cell_type": "code",
   "execution_count": null,
   "id": "cb083ff2-4c5d-4ff6-8a1d-51732bbfe50f",
   "metadata": {},
   "outputs": [],
   "source": [
    "sales.head()"
   ]
  },
  {
   "cell_type": "markdown",
   "id": "c58b6567-b70a-4015-8f82-0377e38cfb1f",
   "metadata": {
    "tags": []
   },
   "source": [
    "##### 4.4 Aggregate sales by month"
   ]
  },
  {
   "cell_type": "code",
   "execution_count": null,
   "id": "8c8bc9aa-09bb-4e6e-a391-735a28181d2b",
   "metadata": {},
   "outputs": [],
   "source": [
    "sales['Month'] = sales['date'].dt.to_period('M')"
   ]
  },
  {
   "cell_type": "code",
   "execution_count": null,
   "id": "ee967eca-61e7-4bf2-9bf8-02e58532dafc",
   "metadata": {},
   "outputs": [],
   "source": [
    "sales.head()"
   ]
  },
  {
   "cell_type": "code",
   "execution_count": null,
   "id": "0f10c96f-2412-42ab-ba9f-39836465b222",
   "metadata": {},
   "outputs": [],
   "source": [
    "salesPerMonth = sales.groupby(['Month']).agg({'item_cnt_day' : 'sum'})\n",
    "salesPerMonth.reset_index(inplace=True)\n",
    "salesPerMonth = salesPerMonth.set_index('Month')\n",
    "salesPerMonth.rename(columns = {'item_cnt_day':'item_cnt_month'}, inplace = True)\n",
    "salesPerMonth.plot()"
   ]
  },
  {
   "cell_type": "markdown",
   "id": "f09d89bd-2b05-41d8-96b6-67eebf9738c1",
   "metadata": {
    "tags": []
   },
   "source": [
    "#### 5. Time Series Analysis"
   ]
  },
  {
   "cell_type": "markdown",
   "id": "c791fc6c-08d0-4e33-bf07-f5230ef445fd",
   "metadata": {
    "tags": []
   },
   "source": [
    "##### 5.1 Time Series Decomposition"
   ]
  },
  {
   "cell_type": "markdown",
   "id": "7468ab1a-8179-4b1b-90ab-0e0125599226",
   "metadata": {},
   "source": [
    "-> To obeserve underlying patterns such as trend, seasonality, cycle and irregular remainder"
   ]
  },
  {
   "cell_type": "code",
   "execution_count": 19,
   "id": "a2040669-6aea-474d-b3ba-62a012de1deb",
   "metadata": {},
   "outputs": [
    {
     "data": {
      "text/plain": [
       "array([131479., 128090., 147142., 107190., 106970., 125381., 116966.,\n",
       "       125291., 133332., 127541., 130009., 183342., 116899., 109687.,\n",
       "       115297.,  96556.,  97790.,  97429.,  91280., 102721.,  99208.,\n",
       "       107422., 117845., 168755., 110971.,  84198.,  82014.,  77827.,\n",
       "        72295.,  64114.,  63187.,  66079.,  72843.,  71056.],\n",
       "      dtype=float32)"
      ]
     },
     "execution_count": 19,
     "metadata": {},
     "output_type": "execute_result"
    }
   ],
   "source": [
    "salesPerMonth.item_cnt_month.values"
   ]
  },
  {
   "cell_type": "code",
   "execution_count": 21,
   "id": "38707d9e-7bf9-477b-92b7-d2ae676fbfac",
   "metadata": {},
   "outputs": [],
   "source": [
    "from statsmodels.tsa.seasonal import seasonal_decompose\n",
    "\n",
    "salesPerMonth.item_cnt_month.interpolate(inplace = True)\n",
    "salesPerMonth.item_cnt_month.index=salesPerMonth.item_cnt_month.index.to_timestamp()\n",
    "decompose = seasonal_decompose(salesPerMonth.item_cnt_month,model='multiplicative', extrapolate_trend=8)\n",
    "# decompose = seasonal_decompose(salesPerMonth.item_cnt_month,model='multiplicative', extrapolate_trend=8)"
   ]
  },
  {
   "cell_type": "code",
   "execution_count": 22,
   "id": "af1eafa2-bda0-431c-a0e7-53a5ebb4c1eb",
   "metadata": {},
   "outputs": [
    {
     "data": {
      "text/plain": [
       "Text(0.5, 0.98, 'Decomposition of Time Series')"
      ]
     },
     "execution_count": 22,
     "metadata": {},
     "output_type": "execute_result"
    },
    {
     "data": {
      "image/png": "[encoded data removed]",
      "text/plain": [
       "<Figure size 576x720 with 4 Axes>"
      ]
     },
     "metadata": {
      "needs_background": "light"
     },
     "output_type": "display_data"
    }
   ],
   "source": [
    "fig = decompose.plot()\n",
    "fig.set_figheight(10)\n",
    "fig.set_figwidth(8)\n",
    "fig.autofmt_xdate(rotation=30)\n",
    "fig.suptitle('Decomposition of Time Series')"
   ]
  },
  {
   "cell_type": "markdown",
   "id": "a4dc1077-8652-4e55-9590-9e2e76fcd97b",
   "metadata": {
    "tags": []
   },
   "source": [
    "##### 5.2 Check stationarity"
   ]
  },
  {
   "cell_type": "code",
   "execution_count": 26,
   "id": "7bd5295a-571c-4a09-805a-4658f618cc16",
   "metadata": {},
   "outputs": [],
   "source": [
    "from statsmodels.tsa.stattools import adfuller\n",
    "def test_stationarity(dataset):\n",
    "     dftest = adfuller(dataset, autolag = 'AIC')\n",
    "     print(\"ADF : \",dftest[0])\n",
    "     print(\"P-Value : \", dftest[1])\n",
    "     print(\"Num Of Lags : \", dftest[2])\n",
    "     print(\"Num Of Observations Used For ADF Regression:\",      dftest[3])\n",
    "     print(\"Critical Values :\")\n",
    "     for key, val in dftest[4].items():\n",
    "         print(\"\\t\",key, \": \", val)\n",
    "\n",
    "# https://medium.com/swlh/temperature-forecasting-with-arima-model-in-python-427b2d3bcb53\n",
    "# p < 0.05 -> stationary\n",
    "# p > 0.05 -> not stationary"
   ]
  },
  {
   "cell_type": "code",
   "execution_count": 28,
   "id": "d830081c-c19b-4eb4-a3bd-276c1cbcb793",
   "metadata": {},
   "outputs": [
    {
     "name": "stdout",
     "output_type": "stream",
     "text": [
      "ADF :  -2.395704066994433\n",
      "P-Value :  0.1429525769929046\n",
      "Num Of Lags :  0\n",
      "Num Of Observations Used For ADF Regression: 33\n",
      "Critical Values :\n",
      "\t 1% :  -3.6461350877925254\n",
      "\t 5% :  -2.954126991123355\n",
      "\t 10% :  -2.6159676124885216\n"
     ]
    }
   ],
   "source": [
    "test_stationarity(salesPerMonth['item_cnt_month'])"
   ]
  },
  {
   "cell_type": "markdown",
   "id": "e5393817-011b-4a0c-ab87-afbe4e7fb270",
   "metadata": {},
   "source": [
    "#### 6. Model Fitting"
   ]
  },
  {
   "cell_type": "markdown",
   "id": "f84f3270-101a-4dca-97e7-f192a6afb1d3",
   "metadata": {
    "tags": []
   },
   "source": [
    "##### 6.1 Train test split"
   ]
  },
  {
   "cell_type": "code",
   "execution_count": 30,
   "id": "f3af6853-9e12-46eb-a219-10249ae77ac5",
   "metadata": {},
   "outputs": [],
   "source": [
    "STEPS = 24\n",
    "period = 9"
   ]
  },
  {
   "cell_type": "code",
   "execution_count": 31,
   "id": "9eedd8b7-1df9-4a10-9fd6-bee37cd998ff",
   "metadata": {},
   "outputs": [
    {
     "data": {
      "text/plain": [
       "<AxesSubplot:xlabel='Month'>"
      ]
     },
     "execution_count": 31,
     "metadata": {},
     "output_type": "execute_result"
    },
    {
     "data": {
      "image/png": "[encoded data removed]",
      "text/plain": [
       "<Figure size 432x288 with 1 Axes>"
      ]
     },
     "metadata": {
      "needs_background": "light"
     },
     "output_type": "display_data"
    }
   ],
   "source": [
    "log_sales = np.log(salesPerMonth)\n",
    "salesPerMonthShift = log_sales - log_sales.shift()\n",
    "salesPerMonthShift.dropna(inplace=True)\n",
    "salesPerMonthShift.plot()"
   ]
  },
  {
   "cell_type": "code",
   "execution_count": 42,
   "id": "03df18b0-067d-4cb5-a2e5-b99e6b8e34e6",
   "metadata": {},
   "outputs": [
    {
     "name": "stdout",
     "output_type": "stream",
     "text": [
      "ADF :  -6.974166116899575\n",
      "P-Value :  8.513043398888736e-10\n",
      "Num Of Lags :  10\n",
      "Num Of Observations Used For ADF Regression: 22\n",
      "Critical Values :\n",
      "\t 1% :  -3.769732625845229\n",
      "\t 5% :  -3.005425537190083\n",
      "\t 10% :  -2.6425009917355373\n"
     ]
    }
   ],
   "source": [
    "test_stationarity(salesPerMonthShift['item_cnt_month'])"
   ]
  },
  {
   "cell_type": "code",
   "execution_count": 32,
   "id": "f99686fc-2611-43b2-8622-bcbcbdd3bec6",
   "metadata": {},
   "outputs": [
    {
     "name": "stdout",
     "output_type": "stream",
     "text": [
      "Train dates : 2013-02 --- 2015-01  (n=24)\n",
      "Test dates  : 2015-02 --- 2015-10  (n=9)\n"
     ]
    },
    {
     "data": {
      "text/plain": [
       "<matplotlib.legend.Legend at 0x16056717eb0>"
      ]
     },
     "execution_count": 32,
     "metadata": {},
     "output_type": "execute_result"
    },
    {
     "data": {
      "image/png": "[encoded data removed]",
      "text/plain": [
       "<Figure size 648x288 with 1 Axes>"
      ]
     },
     "metadata": {
      "needs_background": "light"
     },
     "output_type": "display_data"
    }
   ],
   "source": [
    "train = salesPerMonthShift[:STEPS]\n",
    "test = salesPerMonthShift[STEPS:]\n",
    "\n",
    "print(f\"Train dates : {train.index.min()} --- {train.index.max()}  (n={len(train)})\")\n",
    "print(f\"Test dates  : {test.index.min()} --- {test.index.max()}  (n={len(test)})\")\n",
    "\n",
    "fig, ax = plt.subplots(figsize=(9, 4))\n",
    "train['item_cnt_month'].plot(ax=ax, label='train')\n",
    "test['item_cnt_month'].plot(ax=ax, label='test')\n",
    "ax.legend()"
   ]
  },
  {
   "cell_type": "markdown",
   "id": "61f21c7f-a5a5-49f1-b8a3-089e7aa422ba",
   "metadata": {},
   "source": [
    "##### 6.2 ARIMA"
   ]
  },
  {
   "cell_type": "code",
   "execution_count": 29,
   "id": "d37ceee6-5153-48c4-bde2-c508e48aac82",
   "metadata": {},
   "outputs": [
    {
     "name": "stdout",
     "output_type": "stream",
     "text": [
      "Performing stepwise search to minimize aic\n",
      " ARIMA(2,1,2)(0,0,0)[0] intercept   : AIC=inf, Time=0.41 sec\n",
      " ARIMA(0,1,0)(0,0,0)[0] intercept   : AIC=760.247, Time=0.02 sec\n",
      " ARIMA(1,1,0)(0,0,0)[0] intercept   : AIC=760.752, Time=0.03 sec\n",
      " ARIMA(0,1,1)(0,0,0)[0] intercept   : AIC=760.715, Time=0.03 sec\n",
      " ARIMA(0,1,0)(0,0,0)[0]             : AIC=758.472, Time=0.01 sec\n",
      " ARIMA(1,1,1)(0,0,0)[0] intercept   : AIC=762.780, Time=0.06 sec\n",
      "\n",
      "Best model:  ARIMA(0,1,0)(0,0,0)[0]          \n",
      "Total fit time: 0.581 seconds\n"
     ]
    }
   ],
   "source": [
    "from pmdarima import auto_arima\n",
    "stepwise_fit = auto_arima(salesPerMonth['item_cnt_month'], trace=True,\n",
    "suppress_warnings=True)"
   ]
  },
  {
   "cell_type": "code",
   "execution_count": 34,
   "id": "0e47f4af-a80a-4c42-a72d-20ce6fc44cf3",
   "metadata": {},
   "outputs": [
    {
     "data": {
      "text/html": [
       "<table class=\"simpletable\">\n",
       "<caption>SARIMAX Results</caption>\n",
       "<tr>\n",
       "  <th>Dep. Variable:</th>    <td>item_cnt_month</td>  <th>  No. Observations:  </th>   <td>24</td>  \n",
       "</tr>\n",
       "<tr>\n",
       "  <th>Model:</th>            <td>ARIMA(0, 1, 0)</td>  <th>  Log Likelihood     </th> <td>-5.553</td>\n",
       "</tr>\n",
       "<tr>\n",
       "  <th>Date:</th>            <td>Thu, 11 Aug 2022</td> <th>  AIC                </th> <td>13.106</td>\n",
       "</tr>\n",
       "<tr>\n",
       "  <th>Time:</th>                <td>11:36:47</td>     <th>  BIC                </th> <td>14.242</td>\n",
       "</tr>\n",
       "<tr>\n",
       "  <th>Sample:</th>             <td>02-28-2013</td>    <th>  HQIC               </th> <td>13.392</td>\n",
       "</tr>\n",
       "<tr>\n",
       "  <th></th>                   <td>- 01-31-2015</td>   <th>                     </th>    <td> </td>  \n",
       "</tr>\n",
       "<tr>\n",
       "  <th>Covariance Type:</th>        <td>opg</td>       <th>                     </th>    <td> </td>  \n",
       "</tr>\n",
       "</table>\n",
       "<table class=\"simpletable\">\n",
       "<tr>\n",
       "     <td></td>       <th>coef</th>     <th>std err</th>      <th>z</th>      <th>P>|z|</th>  <th>[0.025</th>    <th>0.975]</th>  \n",
       "</tr>\n",
       "<tr>\n",
       "  <th>sigma2</th> <td>    0.0949</td> <td>    0.022</td> <td>    4.276</td> <td> 0.000</td> <td>    0.051</td> <td>    0.138</td>\n",
       "</tr>\n",
       "</table>\n",
       "<table class=\"simpletable\">\n",
       "<tr>\n",
       "  <th>Ljung-Box (L1) (Q):</th>     <td>6.32</td> <th>  Jarque-Bera (JB):  </th> <td>6.47</td> \n",
       "</tr>\n",
       "<tr>\n",
       "  <th>Prob(Q):</th>                <td>0.01</td> <th>  Prob(JB):          </th> <td>0.04</td> \n",
       "</tr>\n",
       "<tr>\n",
       "  <th>Heteroskedasticity (H):</th> <td>1.70</td> <th>  Skew:              </th> <td>-1.22</td>\n",
       "</tr>\n",
       "<tr>\n",
       "  <th>Prob(H) (two-sided):</th>    <td>0.47</td> <th>  Kurtosis:          </th> <td>3.92</td> \n",
       "</tr>\n",
       "</table><br/><br/>Warnings:<br/>[1] Covariance matrix calculated using the outer product of gradients (complex-step)."
      ],
      "text/plain": [
       "<class 'statsmodels.iolib.summary.Summary'>\n",
       "\"\"\"\n",
       "                               SARIMAX Results                                \n",
       "==============================================================================\n",
       "Dep. Variable:         item_cnt_month   No. Observations:                   24\n",
       "Model:                 ARIMA(0, 1, 0)   Log Likelihood                  -5.553\n",
       "Date:                Thu, 11 Aug 2022   AIC                             13.106\n",
       "Time:                        11:36:47   BIC                             14.242\n",
       "Sample:                    02-28-2013   HQIC                            13.392\n",
       "                         - 01-31-2015                                         \n",
       "Covariance Type:                  opg                                         \n",
       "==============================================================================\n",
       "                 coef    std err          z      P>|z|      [0.025      0.975]\n",
       "------------------------------------------------------------------------------\n",
       "sigma2         0.0949      0.022      4.276      0.000       0.051       0.138\n",
       "===================================================================================\n",
       "Ljung-Box (L1) (Q):                   6.32   Jarque-Bera (JB):                 6.47\n",
       "Prob(Q):                              0.01   Prob(JB):                         0.04\n",
       "Heteroskedasticity (H):               1.70   Skew:                            -1.22\n",
       "Prob(H) (two-sided):                  0.47   Kurtosis:                         3.92\n",
       "===================================================================================\n",
       "\n",
       "Warnings:\n",
       "[1] Covariance matrix calculated using the outer product of gradients (complex-step).\n",
       "\"\"\""
      ]
     },
     "execution_count": 34,
     "metadata": {},
     "output_type": "execute_result"
    }
   ],
   "source": [
    "import statsmodels.api as sm\n",
    "model=sm.tsa.arima.ARIMA(train['item_cnt_month'],order=(0,1,0))\n",
    "model=model.fit()\n",
    "model.summary()"
   ]
  },
  {
   "cell_type": "markdown",
   "id": "1b7c1954-d0c4-443a-988a-ec26772f30b2",
   "metadata": {},
   "source": [
    "#### 7. Prediction and validation"
   ]
  },
  {
   "cell_type": "code",
   "execution_count": null,
   "id": "ee34412f-07fc-4193-8bd4-3d210e7dc21a",
   "metadata": {},
   "outputs": [],
   "source": []
  },
  {
   "cell_type": "code",
   "execution_count": null,
   "id": "a5383c93-9d40-4de6-b482-19ea6c24d416",
   "metadata": {},
   "outputs": [],
   "source": []
  },
  {
   "cell_type": "markdown",
   "id": "3c5df9fe-afee-4198-b1c3-6122f8fb539a",
   "metadata": {},
   "source": [
    "#### 8. Submission"
   ]
  },
  {
   "cell_type": "code",
   "execution_count": null,
   "id": "a4fca659-8a56-44f2-867f-e4bb6d80ab02",
   "metadata": {},
   "outputs": [],
   "source": []
  }
 ],
 "metadata": {
  "kernelspec": {
   "display_name": "Python 3 (ipykernel)",
   "language": "python",
   "name": "python3"
  },
  "language_info": {
   "codemirror_mode": {
    "name": "ipython",
    "version": 3
   },
   "file_extension": ".py",
   "mimetype": "text/x-python",
   "name": "python",
   "nbconvert_exporter": "python",
   "pygments_lexer": "ipython3",
   "version": "3.9.0"
  }
 },
 "nbformat": 4,
 "nbformat_minor": 5
}
