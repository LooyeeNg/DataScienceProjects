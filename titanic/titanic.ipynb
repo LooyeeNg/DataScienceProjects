{
 "cells": [
  {
   "cell_type": "markdown",
   "id": "933e9803-eb30-4e10-86f4-12a5997e4ea6",
   "metadata": {},
   "source": [
    "## Kaggle Competition: Titanic Machine Learning"
   ]
  },
  {
   "cell_type": "markdown",
   "id": "fd726af0-aacf-435d-ae04-e1bccd8b86d2",
   "metadata": {},
   "source": [
    "1. Load Data, Combine train & test set\n",
    "2. Data Structure\n",
    "3. Data Analysis\n",
    "4. Feature Engineering\n",
    "5. Preprocessing before modelling\n",
    "6. Modelling & Evaluation\n",
    "7. Models Summary\n",
    "8. Kaggle Submission"
   ]
  },
  {
   "cell_type": "code",
   "execution_count": 1,
   "id": "8589f6ed-2017-4309-b35a-007fe2ab2d17",
   "metadata": {},
   "outputs": [],
   "source": [
    "import pandas as pd\n",
    "import numpy as np\n",
    "from matplotlib import pyplot as plt\n",
    "import seaborn as sns"
   ]
  },
  {
   "cell_type": "markdown",
   "id": "f49645e2-8b5b-4d8e-910b-decb06f6ccca",
   "metadata": {
    "tags": []
   },
   "source": [
    "### 1. Load Data, Combine train & test set"
   ]
  },
  {
   "cell_type": "code",
   "execution_count": 2,
   "id": "986ed5df-6bac-44ef-80f5-a16fb0410786",
   "metadata": {},
   "outputs": [],
   "source": [
    "train = pd.read_csv('train.csv')\n",
    "test = pd.read_csv('test.csv')"
   ]
  },
  {
   "cell_type": "code",
   "execution_count": 3,
   "id": "362df466-d425-4b73-a8e5-ee8b2fc3175f",
   "metadata": {},
   "outputs": [
    {
     "data": {
      "text/plain": [
       "(891, 12)"
      ]
     },
     "execution_count": 3,
     "metadata": {},
     "output_type": "execute_result"
    }
   ],
   "source": [
    "train.shape"
   ]
  },
  {
   "cell_type": "code",
   "execution_count": 4,
   "id": "94123dc0-48b7-448f-b7d7-4053d7c87d3e",
   "metadata": {},
   "outputs": [
    {
     "data": {
      "text/plain": [
       "(418, 11)"
      ]
     },
     "execution_count": 4,
     "metadata": {},
     "output_type": "execute_result"
    }
   ],
   "source": [
    "test.shape"
   ]
  },
  {
   "cell_type": "code",
   "execution_count": 5,
   "id": "6f8c3c0b-1623-4620-abea-00d49b7a8f19",
   "metadata": {},
   "outputs": [],
   "source": [
    "all_data = pd.concat([train, test],axis=0)"
   ]
  },
  {
   "cell_type": "code",
   "execution_count": 6,
   "id": "d6ac2cf7-e9b8-40a2-87ff-028e44b140d1",
   "metadata": {},
   "outputs": [
    {
     "data": {
      "text/plain": [
       "(1309, 12)"
      ]
     },
     "execution_count": 6,
     "metadata": {},
     "output_type": "execute_result"
    }
   ],
   "source": [
    "all_data.shape"
   ]
  },
  {
   "cell_type": "markdown",
   "id": "a8704579-f421-4a7e-9724-5ef49c504249",
   "metadata": {
    "tags": []
   },
   "source": [
    "### 2. Data Structure"
   ]
  },
  {
   "cell_type": "code",
   "execution_count": 7,
   "id": "a55e8f83-353b-4d98-b443-710edf691db2",
   "metadata": {},
   "outputs": [
    {
     "data": {
      "text/plain": [
       "array(['PassengerId', 'Survived', 'Pclass', 'Name', 'Sex', 'Age', 'SibSp',\n",
       "       'Parch', 'Ticket', 'Fare', 'Cabin', 'Embarked'], dtype=object)"
      ]
     },
     "execution_count": 7,
     "metadata": {},
     "output_type": "execute_result"
    }
   ],
   "source": [
    "train.columns.values"
   ]
  },
  {
   "cell_type": "code",
   "execution_count": 8,
   "id": "7935f9ce-6a94-4241-adcc-79860d50858b",
   "metadata": {},
   "outputs": [
    {
     "data": {
      "text/plain": [
       "array(['PassengerId', 'Pclass', 'Name', 'Sex', 'Age', 'SibSp', 'Parch',\n",
       "       'Ticket', 'Fare', 'Cabin', 'Embarked'], dtype=object)"
      ]
     },
     "execution_count": 8,
     "metadata": {},
     "output_type": "execute_result"
    }
   ],
   "source": [
    "test.columns.values"
   ]
  },
  {
   "cell_type": "markdown",
   "id": "a1eed7cc-2a3e-45b6-991d-b781097d94d7",
   "metadata": {},
   "source": [
    "**'Survived' is the label**"
   ]
  },
  {
   "cell_type": "code",
   "execution_count": 9,
   "id": "c4a9581a-cf3e-43c0-943f-07f6c14ccbf7",
   "metadata": {},
   "outputs": [],
   "source": [
    "all_data.to_csv('check1.csv',index=False)"
   ]
  },
  {
   "cell_type": "code",
   "execution_count": 10,
   "id": "60a05197-5851-4e0c-ba5e-91542f525a83",
   "metadata": {},
   "outputs": [
    {
     "name": "stdout",
     "output_type": "stream",
     "text": [
      "<class 'pandas.core.frame.DataFrame'>\n",
      "Int64Index: 1309 entries, 0 to 417\n",
      "Data columns (total 12 columns):\n",
      " #   Column       Non-Null Count  Dtype  \n",
      "---  ------       --------------  -----  \n",
      " 0   PassengerId  1309 non-null   int64  \n",
      " 1   Survived     891 non-null    float64\n",
      " 2   Pclass       1309 non-null   int64  \n",
      " 3   Name         1309 non-null   object \n",
      " 4   Sex          1309 non-null   object \n",
      " 5   Age          1046 non-null   float64\n",
      " 6   SibSp        1309 non-null   int64  \n",
      " 7   Parch        1309 non-null   int64  \n",
      " 8   Ticket       1309 non-null   object \n",
      " 9   Fare         1308 non-null   float64\n",
      " 10  Cabin        295 non-null    object \n",
      " 11  Embarked     1307 non-null   object \n",
      "dtypes: float64(3), int64(4), object(5)\n",
      "memory usage: 132.9+ KB\n"
     ]
    }
   ],
   "source": [
    "all_data.info()"
   ]
  },
  {
   "cell_type": "markdown",
   "id": "b44d247a-27aa-47b4-a24c-530f0ac789d8",
   "metadata": {},
   "source": [
    "**Try to fix some missing values in 'Age', 'Fare' and 'Embarked'. <br>Drop 'Cabin' due to high missing values.**"
   ]
  },
  {
   "cell_type": "code",
   "execution_count": 11,
   "id": "f9ea6fad-c649-4e6d-8b40-6ec388e01edb",
   "metadata": {},
   "outputs": [
    {
     "data": {
      "text/html": [
       "<div>\n",
       "<style scoped>\n",
       "    .dataframe tbody tr th:only-of-type {\n",
       "        vertical-align: middle;\n",
       "    }\n",
       "\n",
       "    .dataframe tbody tr th {\n",
       "        vertical-align: top;\n",
       "    }\n",
       "\n",
       "    .dataframe thead th {\n",
       "        text-align: right;\n",
       "    }\n",
       "</style>\n",
       "<table border=\"1\" class=\"dataframe\">\n",
       "  <thead>\n",
       "    <tr style=\"text-align: right;\">\n",
       "      <th></th>\n",
       "      <th>PassengerId</th>\n",
       "      <th>Survived</th>\n",
       "      <th>Pclass</th>\n",
       "      <th>Age</th>\n",
       "      <th>SibSp</th>\n",
       "      <th>Parch</th>\n",
       "      <th>Fare</th>\n",
       "    </tr>\n",
       "  </thead>\n",
       "  <tbody>\n",
       "    <tr>\n",
       "      <th>count</th>\n",
       "      <td>1309.000000</td>\n",
       "      <td>891.000000</td>\n",
       "      <td>1309.000000</td>\n",
       "      <td>1046.000000</td>\n",
       "      <td>1309.000000</td>\n",
       "      <td>1309.000000</td>\n",
       "      <td>1308.000000</td>\n",
       "    </tr>\n",
       "    <tr>\n",
       "      <th>mean</th>\n",
       "      <td>655.000000</td>\n",
       "      <td>0.383838</td>\n",
       "      <td>2.294882</td>\n",
       "      <td>29.881138</td>\n",
       "      <td>0.498854</td>\n",
       "      <td>0.385027</td>\n",
       "      <td>33.295479</td>\n",
       "    </tr>\n",
       "    <tr>\n",
       "      <th>std</th>\n",
       "      <td>378.020061</td>\n",
       "      <td>0.486592</td>\n",
       "      <td>0.837836</td>\n",
       "      <td>14.413493</td>\n",
       "      <td>1.041658</td>\n",
       "      <td>0.865560</td>\n",
       "      <td>51.758668</td>\n",
       "    </tr>\n",
       "    <tr>\n",
       "      <th>min</th>\n",
       "      <td>1.000000</td>\n",
       "      <td>0.000000</td>\n",
       "      <td>1.000000</td>\n",
       "      <td>0.170000</td>\n",
       "      <td>0.000000</td>\n",
       "      <td>0.000000</td>\n",
       "      <td>0.000000</td>\n",
       "    </tr>\n",
       "    <tr>\n",
       "      <th>25%</th>\n",
       "      <td>328.000000</td>\n",
       "      <td>0.000000</td>\n",
       "      <td>2.000000</td>\n",
       "      <td>21.000000</td>\n",
       "      <td>0.000000</td>\n",
       "      <td>0.000000</td>\n",
       "      <td>7.895800</td>\n",
       "    </tr>\n",
       "    <tr>\n",
       "      <th>50%</th>\n",
       "      <td>655.000000</td>\n",
       "      <td>0.000000</td>\n",
       "      <td>3.000000</td>\n",
       "      <td>28.000000</td>\n",
       "      <td>0.000000</td>\n",
       "      <td>0.000000</td>\n",
       "      <td>14.454200</td>\n",
       "    </tr>\n",
       "    <tr>\n",
       "      <th>75%</th>\n",
       "      <td>982.000000</td>\n",
       "      <td>1.000000</td>\n",
       "      <td>3.000000</td>\n",
       "      <td>39.000000</td>\n",
       "      <td>1.000000</td>\n",
       "      <td>0.000000</td>\n",
       "      <td>31.275000</td>\n",
       "    </tr>\n",
       "    <tr>\n",
       "      <th>max</th>\n",
       "      <td>1309.000000</td>\n",
       "      <td>1.000000</td>\n",
       "      <td>3.000000</td>\n",
       "      <td>80.000000</td>\n",
       "      <td>8.000000</td>\n",
       "      <td>9.000000</td>\n",
       "      <td>512.329200</td>\n",
       "    </tr>\n",
       "  </tbody>\n",
       "</table>\n",
       "</div>"
      ],
      "text/plain": [
       "       PassengerId    Survived       Pclass          Age        SibSp  \\\n",
       "count  1309.000000  891.000000  1309.000000  1046.000000  1309.000000   \n",
       "mean    655.000000    0.383838     2.294882    29.881138     0.498854   \n",
       "std     378.020061    0.486592     0.837836    14.413493     1.041658   \n",
       "min       1.000000    0.000000     1.000000     0.170000     0.000000   \n",
       "25%     328.000000    0.000000     2.000000    21.000000     0.000000   \n",
       "50%     655.000000    0.000000     3.000000    28.000000     0.000000   \n",
       "75%     982.000000    1.000000     3.000000    39.000000     1.000000   \n",
       "max    1309.000000    1.000000     3.000000    80.000000     8.000000   \n",
       "\n",
       "             Parch         Fare  \n",
       "count  1309.000000  1308.000000  \n",
       "mean      0.385027    33.295479  \n",
       "std       0.865560    51.758668  \n",
       "min       0.000000     0.000000  \n",
       "25%       0.000000     7.895800  \n",
       "50%       0.000000    14.454200  \n",
       "75%       0.000000    31.275000  \n",
       "max       9.000000   512.329200  "
      ]
     },
     "execution_count": 11,
     "metadata": {},
     "output_type": "execute_result"
    }
   ],
   "source": [
    "all_data.describe()"
   ]
  },
  {
   "cell_type": "markdown",
   "id": "122fed8e-dada-4df9-8ffa-54b0ca54a7b4",
   "metadata": {
    "tags": []
   },
   "source": [
    "### 3. Data Analysis"
   ]
  },
  {
   "cell_type": "code",
   "execution_count": 12,
   "id": "2c5f09ab-1551-47b4-ac52-23e5e64f98af",
   "metadata": {},
   "outputs": [
    {
     "data": {
      "text/html": [
       "<div>\n",
       "<style scoped>\n",
       "    .dataframe tbody tr th:only-of-type {\n",
       "        vertical-align: middle;\n",
       "    }\n",
       "\n",
       "    .dataframe tbody tr th {\n",
       "        vertical-align: top;\n",
       "    }\n",
       "\n",
       "    .dataframe thead th {\n",
       "        text-align: right;\n",
       "    }\n",
       "</style>\n",
       "<table border=\"1\" class=\"dataframe\">\n",
       "  <thead>\n",
       "    <tr style=\"text-align: right;\">\n",
       "      <th>Survived</th>\n",
       "      <th>0</th>\n",
       "      <th>1</th>\n",
       "    </tr>\n",
       "    <tr>\n",
       "      <th>Sex</th>\n",
       "      <th></th>\n",
       "      <th></th>\n",
       "    </tr>\n",
       "  </thead>\n",
       "  <tbody>\n",
       "    <tr>\n",
       "      <th>female</th>\n",
       "      <td>0.257962</td>\n",
       "      <td>0.742038</td>\n",
       "    </tr>\n",
       "    <tr>\n",
       "      <th>male</th>\n",
       "      <td>0.811092</td>\n",
       "      <td>0.188908</td>\n",
       "    </tr>\n",
       "  </tbody>\n",
       "</table>\n",
       "</div>"
      ],
      "text/plain": [
       "Survived         0         1\n",
       "Sex                         \n",
       "female    0.257962  0.742038\n",
       "male      0.811092  0.188908"
      ]
     },
     "execution_count": 12,
     "metadata": {},
     "output_type": "execute_result"
    }
   ],
   "source": [
    "pd.crosstab(train.Sex, train.Survived, normalize='index')"
   ]
  },
  {
   "cell_type": "markdown",
   "id": "edffb727-496c-4f27-96ff-b7d8f6aab957",
   "metadata": {},
   "source": [
    "**Most women survived, sadly most men died, only one third of the survivals are men.**"
   ]
  },
  {
   "cell_type": "code",
   "execution_count": 13,
   "id": "dbd3b65e-3bf5-464a-82ac-1b53b6cb77ad",
   "metadata": {},
   "outputs": [
    {
     "data": {
      "text/html": [
       "<div>\n",
       "<style scoped>\n",
       "    .dataframe tbody tr th:only-of-type {\n",
       "        vertical-align: middle;\n",
       "    }\n",
       "\n",
       "    .dataframe tbody tr th {\n",
       "        vertical-align: top;\n",
       "    }\n",
       "\n",
       "    .dataframe thead th {\n",
       "        text-align: right;\n",
       "    }\n",
       "</style>\n",
       "<table border=\"1\" class=\"dataframe\">\n",
       "  <thead>\n",
       "    <tr style=\"text-align: right;\">\n",
       "      <th>Survived</th>\n",
       "      <th>0</th>\n",
       "      <th>1</th>\n",
       "    </tr>\n",
       "    <tr>\n",
       "      <th>Pclass</th>\n",
       "      <th></th>\n",
       "      <th></th>\n",
       "    </tr>\n",
       "  </thead>\n",
       "  <tbody>\n",
       "    <tr>\n",
       "      <th>1</th>\n",
       "      <td>0.370370</td>\n",
       "      <td>0.629630</td>\n",
       "    </tr>\n",
       "    <tr>\n",
       "      <th>2</th>\n",
       "      <td>0.527174</td>\n",
       "      <td>0.472826</td>\n",
       "    </tr>\n",
       "    <tr>\n",
       "      <th>3</th>\n",
       "      <td>0.757637</td>\n",
       "      <td>0.242363</td>\n",
       "    </tr>\n",
       "  </tbody>\n",
       "</table>\n",
       "</div>"
      ],
      "text/plain": [
       "Survived         0         1\n",
       "Pclass                      \n",
       "1         0.370370  0.629630\n",
       "2         0.527174  0.472826\n",
       "3         0.757637  0.242363"
      ]
     },
     "execution_count": 13,
     "metadata": {},
     "output_type": "execute_result"
    }
   ],
   "source": [
    "pd.crosstab(train.Pclass, train.Survived, normalize='index')"
   ]
  },
  {
   "cell_type": "markdown",
   "id": "a4c05dab-0359-4443-9746-9876467c9d30",
   "metadata": {},
   "source": [
    "**Class 1 has better survival rate**"
   ]
  },
  {
   "cell_type": "code",
   "execution_count": 14,
   "id": "6985f2ff-2553-4da6-a3b6-25b94197ced1",
   "metadata": {},
   "outputs": [
    {
     "data": {
      "text/plain": [
       "Pclass\n",
       "1    84.154687\n",
       "2    20.662183\n",
       "3    13.675550\n",
       "Name: Fare, dtype: float64"
      ]
     },
     "execution_count": 14,
     "metadata": {},
     "output_type": "execute_result"
    }
   ],
   "source": [
    "group_fare = train.groupby('Pclass')\n",
    "group_fare['Fare'].sum() / group_fare['Fare'].count()"
   ]
  },
  {
   "cell_type": "markdown",
   "id": "097afb47-b8e8-439e-809e-5cd49562bcb1",
   "metadata": {},
   "source": [
    "**Class 1 is much more expensive than Class 2 and Class 3**"
   ]
  },
  {
   "cell_type": "code",
   "execution_count": 15,
   "id": "a41b1cc1-1d67-4756-bb60-e9fc16bd704f",
   "metadata": {},
   "outputs": [],
   "source": [
    "train['Pclass_Sex'] =  train['Pclass'].astype(str) +'_' + train['Sex'].astype(str)"
   ]
  },
  {
   "cell_type": "code",
   "execution_count": 16,
   "id": "4febc4f9-0d9d-410e-a89b-a94f9c69df65",
   "metadata": {},
   "outputs": [
    {
     "data": {
      "text/plain": [
       "3_male      347\n",
       "3_female    144\n",
       "1_male      122\n",
       "2_male      108\n",
       "1_female     94\n",
       "2_female     76\n",
       "Name: Pclass_Sex, dtype: int64"
      ]
     },
     "execution_count": 16,
     "metadata": {},
     "output_type": "execute_result"
    }
   ],
   "source": [
    "train['Pclass_Sex'].value_counts()"
   ]
  },
  {
   "cell_type": "code",
   "execution_count": 17,
   "id": "45919ede-6b31-493a-8006-ccd5be8d53ff",
   "metadata": {},
   "outputs": [
    {
     "data": {
      "text/html": [
       "<div>\n",
       "<style scoped>\n",
       "    .dataframe tbody tr th:only-of-type {\n",
       "        vertical-align: middle;\n",
       "    }\n",
       "\n",
       "    .dataframe tbody tr th {\n",
       "        vertical-align: top;\n",
       "    }\n",
       "\n",
       "    .dataframe thead th {\n",
       "        text-align: right;\n",
       "    }\n",
       "</style>\n",
       "<table border=\"1\" class=\"dataframe\">\n",
       "  <thead>\n",
       "    <tr style=\"text-align: right;\">\n",
       "      <th>Survived</th>\n",
       "      <th>0</th>\n",
       "      <th>1</th>\n",
       "    </tr>\n",
       "    <tr>\n",
       "      <th>Pclass_Sex</th>\n",
       "      <th></th>\n",
       "      <th></th>\n",
       "    </tr>\n",
       "  </thead>\n",
       "  <tbody>\n",
       "    <tr>\n",
       "      <th>1_female</th>\n",
       "      <td>0.031915</td>\n",
       "      <td>0.968085</td>\n",
       "    </tr>\n",
       "    <tr>\n",
       "      <th>1_male</th>\n",
       "      <td>0.631148</td>\n",
       "      <td>0.368852</td>\n",
       "    </tr>\n",
       "    <tr>\n",
       "      <th>2_female</th>\n",
       "      <td>0.078947</td>\n",
       "      <td>0.921053</td>\n",
       "    </tr>\n",
       "    <tr>\n",
       "      <th>2_male</th>\n",
       "      <td>0.842593</td>\n",
       "      <td>0.157407</td>\n",
       "    </tr>\n",
       "    <tr>\n",
       "      <th>3_female</th>\n",
       "      <td>0.500000</td>\n",
       "      <td>0.500000</td>\n",
       "    </tr>\n",
       "    <tr>\n",
       "      <th>3_male</th>\n",
       "      <td>0.864553</td>\n",
       "      <td>0.135447</td>\n",
       "    </tr>\n",
       "  </tbody>\n",
       "</table>\n",
       "</div>"
      ],
      "text/plain": [
       "Survived           0         1\n",
       "Pclass_Sex                    \n",
       "1_female    0.031915  0.968085\n",
       "1_male      0.631148  0.368852\n",
       "2_female    0.078947  0.921053\n",
       "2_male      0.842593  0.157407\n",
       "3_female    0.500000  0.500000\n",
       "3_male      0.864553  0.135447"
      ]
     },
     "execution_count": 17,
     "metadata": {},
     "output_type": "execute_result"
    }
   ],
   "source": [
    "pd.crosstab(train.Pclass_Sex, train.Survived, normalize='index')"
   ]
  },
  {
   "cell_type": "markdown",
   "id": "c47ea348-b7af-476b-8e22-ac3969cff9df",
   "metadata": {},
   "source": [
    "**97% women in Class 1 survived, 92% women in Class 2 survived, this can be a strong indicator**"
   ]
  },
  {
   "cell_type": "code",
   "execution_count": 18,
   "id": "2c8aaacc-1f2e-40f2-9712-0c85e3175ea7",
   "metadata": {},
   "outputs": [
    {
     "data": {
      "text/html": [
       "<div>\n",
       "<style scoped>\n",
       "    .dataframe tbody tr th:only-of-type {\n",
       "        vertical-align: middle;\n",
       "    }\n",
       "\n",
       "    .dataframe tbody tr th {\n",
       "        vertical-align: top;\n",
       "    }\n",
       "\n",
       "    .dataframe thead th {\n",
       "        text-align: right;\n",
       "    }\n",
       "</style>\n",
       "<table border=\"1\" class=\"dataframe\">\n",
       "  <thead>\n",
       "    <tr style=\"text-align: right;\">\n",
       "      <th>Survived</th>\n",
       "      <th>0</th>\n",
       "      <th>1</th>\n",
       "    </tr>\n",
       "    <tr>\n",
       "      <th>Family_Size</th>\n",
       "      <th></th>\n",
       "      <th></th>\n",
       "    </tr>\n",
       "  </thead>\n",
       "  <tbody>\n",
       "    <tr>\n",
       "      <th>1</th>\n",
       "      <td>0.696462</td>\n",
       "      <td>0.303538</td>\n",
       "    </tr>\n",
       "    <tr>\n",
       "      <th>2</th>\n",
       "      <td>0.447205</td>\n",
       "      <td>0.552795</td>\n",
       "    </tr>\n",
       "    <tr>\n",
       "      <th>3</th>\n",
       "      <td>0.421569</td>\n",
       "      <td>0.578431</td>\n",
       "    </tr>\n",
       "    <tr>\n",
       "      <th>4</th>\n",
       "      <td>0.275862</td>\n",
       "      <td>0.724138</td>\n",
       "    </tr>\n",
       "    <tr>\n",
       "      <th>5</th>\n",
       "      <td>0.800000</td>\n",
       "      <td>0.200000</td>\n",
       "    </tr>\n",
       "    <tr>\n",
       "      <th>6</th>\n",
       "      <td>0.863636</td>\n",
       "      <td>0.136364</td>\n",
       "    </tr>\n",
       "    <tr>\n",
       "      <th>7</th>\n",
       "      <td>0.666667</td>\n",
       "      <td>0.333333</td>\n",
       "    </tr>\n",
       "    <tr>\n",
       "      <th>8</th>\n",
       "      <td>1.000000</td>\n",
       "      <td>0.000000</td>\n",
       "    </tr>\n",
       "    <tr>\n",
       "      <th>11</th>\n",
       "      <td>1.000000</td>\n",
       "      <td>0.000000</td>\n",
       "    </tr>\n",
       "  </tbody>\n",
       "</table>\n",
       "</div>"
      ],
      "text/plain": [
       "Survived            0         1\n",
       "Family_Size                    \n",
       "1            0.696462  0.303538\n",
       "2            0.447205  0.552795\n",
       "3            0.421569  0.578431\n",
       "4            0.275862  0.724138\n",
       "5            0.800000  0.200000\n",
       "6            0.863636  0.136364\n",
       "7            0.666667  0.333333\n",
       "8            1.000000  0.000000\n",
       "11           1.000000  0.000000"
      ]
     },
     "execution_count": 18,
     "metadata": {},
     "output_type": "execute_result"
    }
   ],
   "source": [
    "train['Family_Size'] = train['SibSp'] + train['Parch'] + 1\n",
    "pd.crosstab(train.Family_Size, train.Survived, normalize='index')"
   ]
  },
  {
   "cell_type": "markdown",
   "id": "002158e6-301c-4056-a8ca-6d632fe5fae5",
   "metadata": {},
   "source": [
    "**Family Size of 4 has the highest survival rate.**"
   ]
  },
  {
   "cell_type": "markdown",
   "id": "62b4df9d-245b-4783-9262-cfba45af4746",
   "metadata": {
    "tags": []
   },
   "source": [
    "### 4. Feature Engineering"
   ]
  },
  {
   "cell_type": "markdown",
   "id": "2d66175d-1a13-43a3-8ef6-97ae39dcd739",
   "metadata": {
    "tags": []
   },
   "source": [
    "##### 4.1 Extract 'Title' from 'Name' & encode"
   ]
  },
  {
   "cell_type": "code",
   "execution_count": 19,
   "id": "f6810b8d-b662-4639-ad06-b0a06d0dc77d",
   "metadata": {},
   "outputs": [
    {
     "data": {
      "text/plain": [
       "Mr              745\n",
       "Miss            283\n",
       "Mrs             183\n",
       "Master           63\n",
       "Dr               10\n",
       "Rev               9\n",
       "Col               2\n",
       "Don               2\n",
       "Mme               2\n",
       "Major             2\n",
       "Mlle              2\n",
       "the Countess      1\n",
       "Capt              1\n",
       "Ms                1\n",
       "Sir               1\n",
       "Lady              1\n",
       "Jonkheer          1\n",
       "Name: Title, dtype: int64"
      ]
     },
     "execution_count": 19,
     "metadata": {},
     "output_type": "execute_result"
    }
   ],
   "source": [
    "all_data['Title'] = train.Name.apply(lambda x: x.split(',')[1].split('.')[0].strip())\n",
    "all_data['Title'].value_counts()"
   ]
  },
  {
   "cell_type": "code",
   "execution_count": 20,
   "id": "b57c8b71-baa9-4220-aabb-664a540ca439",
   "metadata": {},
   "outputs": [],
   "source": [
    " other_titles = [title for title in all_data[\"Title\"]\n",
    "                if title not in [\"Mr\", \"Miss\", \"Mrs\", \"Master\"]]"
   ]
  },
  {
   "cell_type": "code",
   "execution_count": 21,
   "id": "ceb9b6e8-620e-47fb-9951-d50450532fcb",
   "metadata": {},
   "outputs": [
    {
     "data": {
      "text/plain": [
       "Mr        745\n",
       "Miss      283\n",
       "Mrs       183\n",
       "Master     63\n",
       "Other      35\n",
       "Name: Title, dtype: int64"
      ]
     },
     "execution_count": 21,
     "metadata": {},
     "output_type": "execute_result"
    }
   ],
   "source": [
    "all_data['Title'] = all_data['Title'].replace(other_titles, 'Other')\n",
    "all_data['Title'].value_counts()"
   ]
  },
  {
   "cell_type": "code",
   "execution_count": 22,
   "id": "c15f4e26-8a29-46cc-bf2c-ff2880d687b2",
   "metadata": {},
   "outputs": [],
   "source": [
    "all_data['en_Title'] = all_data['Title'].map({\"Mr\":0, \"Miss\":1, \"Mrs\" : 2 , \"Master\":3, \"Other\":4})"
   ]
  },
  {
   "cell_type": "code",
   "execution_count": 23,
   "id": "f3e29658-b35e-4ec1-b681-078509eceb59",
   "metadata": {},
   "outputs": [
    {
     "data": {
      "text/plain": [
       "0    745\n",
       "1    283\n",
       "2    183\n",
       "3     63\n",
       "4     35\n",
       "Name: en_Title, dtype: int64"
      ]
     },
     "execution_count": 23,
     "metadata": {},
     "output_type": "execute_result"
    }
   ],
   "source": [
    "all_data['en_Title'].value_counts()"
   ]
  },
  {
   "cell_type": "markdown",
   "id": "60984575-46b5-4cf3-b235-0836e40898ad",
   "metadata": {
    "tags": []
   },
   "source": [
    "##### 4.2 Encode 'Sex'"
   ]
  },
  {
   "cell_type": "code",
   "execution_count": 24,
   "id": "14baf74e-a538-41bf-9d3c-88fb94f07c05",
   "metadata": {},
   "outputs": [
    {
     "data": {
      "text/plain": [
       "male      843\n",
       "female    466\n",
       "Name: Sex, dtype: int64"
      ]
     },
     "execution_count": 24,
     "metadata": {},
     "output_type": "execute_result"
    }
   ],
   "source": [
    "all_data['Sex'].value_counts()"
   ]
  },
  {
   "cell_type": "code",
   "execution_count": 25,
   "id": "65101c87-49aa-49bb-be2d-cf5f2849ccb1",
   "metadata": {},
   "outputs": [],
   "source": [
    "all_data['en_Sex'] = all_data['Sex'].map({\"female\":0, \"male\":1})"
   ]
  },
  {
   "cell_type": "code",
   "execution_count": 26,
   "id": "9ec35ff5-df07-4cd4-a882-f6cbb8dcfed0",
   "metadata": {},
   "outputs": [
    {
     "data": {
      "text/plain": [
       "1    843\n",
       "0    466\n",
       "Name: en_Sex, dtype: int64"
      ]
     },
     "execution_count": 26,
     "metadata": {},
     "output_type": "execute_result"
    }
   ],
   "source": [
    "all_data['en_Sex'].value_counts()"
   ]
  },
  {
   "cell_type": "markdown",
   "id": "c5f3f465-556e-4724-89fd-989c361271ce",
   "metadata": {
    "tags": []
   },
   "source": [
    "##### 4.3 'Pclass'+'Sex': create column & encode"
   ]
  },
  {
   "cell_type": "code",
   "execution_count": 27,
   "id": "a5d91e56-64ad-46ca-904a-dd511783e171",
   "metadata": {},
   "outputs": [
    {
     "data": {
      "text/plain": [
       "31    493\n",
       "30    216\n",
       "11    179\n",
       "21    171\n",
       "10    144\n",
       "20    106\n",
       "Name: Pclass_Sex, dtype: int64"
      ]
     },
     "execution_count": 27,
     "metadata": {},
     "output_type": "execute_result"
    }
   ],
   "source": [
    "all_data['Pclass_Sex'] =  all_data['Pclass'].astype(str) + all_data['en_Sex'].astype(str)\n",
    "all_data['Pclass_Sex'] = all_data['Pclass_Sex'].astype(int)\n",
    "all_data['Pclass_Sex'].value_counts()"
   ]
  },
  {
   "cell_type": "markdown",
   "id": "6a3e3b35-20d8-45e0-ae86-6b6414ac9f75",
   "metadata": {
    "tags": []
   },
   "source": [
    "##### 4.4 'Age': Fill missing values, binning, encode"
   ]
  },
  {
   "cell_type": "code",
   "execution_count": 28,
   "id": "be7e48ac-6885-41f1-ae42-e7db8b4c923b",
   "metadata": {},
   "outputs": [
    {
     "data": {
      "text/plain": [
       "count    1046.000000\n",
       "mean       29.881138\n",
       "std        14.413493\n",
       "min         0.170000\n",
       "25%        21.000000\n",
       "50%        28.000000\n",
       "75%        39.000000\n",
       "max        80.000000\n",
       "Name: Age, dtype: float64"
      ]
     },
     "execution_count": 28,
     "metadata": {},
     "output_type": "execute_result"
    }
   ],
   "source": [
    "all_data['Age'].describe()"
   ]
  },
  {
   "cell_type": "code",
   "execution_count": 29,
   "id": "de0253cb-44e2-47f8-97b7-56a5bd9dc057",
   "metadata": {},
   "outputs": [
    {
     "data": {
      "text/plain": [
       "count    1309.000000\n",
       "mean       29.503186\n",
       "std        12.905241\n",
       "min         0.170000\n",
       "25%        22.000000\n",
       "50%        28.000000\n",
       "75%        35.000000\n",
       "max        80.000000\n",
       "Name: Age, dtype: float64"
      ]
     },
     "execution_count": 29,
     "metadata": {},
     "output_type": "execute_result"
    }
   ],
   "source": [
    "# fill missing age by ticket class median\n",
    "all_data['Age'] = all_data['Age'].fillna(train['Age'].median())\n",
    "all_data['Age'].describe()\n",
    "\n",
    "# What to do with missing age?? more research"
   ]
  },
  {
   "cell_type": "code",
   "execution_count": 30,
   "id": "cd160592-1306-4e67-bb90-c7058c715a3c",
   "metadata": {},
   "outputs": [
    {
     "data": {
      "text/plain": [
       "0"
      ]
     },
     "execution_count": 30,
     "metadata": {},
     "output_type": "execute_result"
    }
   ],
   "source": [
    "all_data['Age'].isna().sum()"
   ]
  },
  {
   "cell_type": "code",
   "execution_count": 31,
   "id": "9830f1c9-f2fd-4e3c-a737-aa5b7c6caf97",
   "metadata": {},
   "outputs": [
    {
     "data": {
      "text/plain": [
       "3    1009\n",
       "2     196\n",
       "0      56\n",
       "1      38\n",
       "4      10\n",
       "Name: en_Age, dtype: int64"
      ]
     },
     "execution_count": 31,
     "metadata": {},
     "output_type": "execute_result"
    }
   ],
   "source": [
    "# binning age into age group\n",
    "all_data[\"en_Age\"] =  pd.cut(all_data[\"Age\"], bins=[0,5,12,21,65,100], labels=[0,1,2,3,4]).astype(\"int64\")\n",
    "all_data[\"en_Age\"].value_counts()"
   ]
  },
  {
   "cell_type": "markdown",
   "id": "168444d6-64e7-47e0-9bba-6e9056666d0e",
   "metadata": {
    "tags": []
   },
   "source": [
    "##### 4.5 'Family Size' = 'SibSp' + 'Parch' + 1"
   ]
  },
  {
   "cell_type": "code",
   "execution_count": 32,
   "id": "2678fb7f-55fb-4d79-acab-c2e52e5715be",
   "metadata": {},
   "outputs": [
    {
     "data": {
      "text/plain": [
       "1     790\n",
       "2     235\n",
       "3     159\n",
       "4      43\n",
       "6      25\n",
       "5      22\n",
       "7      16\n",
       "11     11\n",
       "8       8\n",
       "Name: Family_Size, dtype: int64"
      ]
     },
     "execution_count": 32,
     "metadata": {},
     "output_type": "execute_result"
    }
   ],
   "source": [
    "all_data['Family_Size'] = all_data['SibSp'] + all_data['Parch'] + 1\n",
    "all_data['Family_Size'].value_counts()"
   ]
  },
  {
   "cell_type": "markdown",
   "id": "55d463b4-0285-48fa-8d88-c8087334f231",
   "metadata": {
    "tags": []
   },
   "source": [
    "##### 4.6 'Fare': Fill missing values, rounding?"
   ]
  },
  {
   "cell_type": "code",
   "execution_count": 33,
   "id": "65da4d4d-9415-47f0-9dd3-10a129358310",
   "metadata": {},
   "outputs": [
    {
     "data": {
      "text/plain": [
       "1"
      ]
     },
     "execution_count": 33,
     "metadata": {},
     "output_type": "execute_result"
    }
   ],
   "source": [
    "all_data['Fare'].isna().sum()"
   ]
  },
  {
   "cell_type": "code",
   "execution_count": 34,
   "id": "3aac9556-798f-43c5-9fe8-5dc37cb3d833",
   "metadata": {},
   "outputs": [],
   "source": [
    "all_data['Fare'] = all_data['Fare'].fillna(all_data['Fare'].median())"
   ]
  },
  {
   "cell_type": "code",
   "execution_count": 35,
   "id": "258a969c-ed20-449c-af8f-b01465879706",
   "metadata": {},
   "outputs": [
    {
     "data": {
      "text/plain": [
       "0"
      ]
     },
     "execution_count": 35,
     "metadata": {},
     "output_type": "execute_result"
    }
   ],
   "source": [
    "all_data['Fare'].isna().sum()"
   ]
  },
  {
   "cell_type": "code",
   "execution_count": 36,
   "id": "168542b0-bfae-4997-badd-bd9f9c6b1187",
   "metadata": {},
   "outputs": [],
   "source": [
    "all_data['Fare'] = round(all_data['Fare'].astype(int))"
   ]
  },
  {
   "cell_type": "code",
   "execution_count": 37,
   "id": "87c82f80-0f9f-4484-98f3-c3eba8bb0d77",
   "metadata": {},
   "outputs": [
    {
     "data": {
      "text/plain": [
       "0     7\n",
       "1    71\n",
       "2     7\n",
       "3    53\n",
       "4     8\n",
       "Name: Fare, dtype: int32"
      ]
     },
     "execution_count": 37,
     "metadata": {},
     "output_type": "execute_result"
    }
   ],
   "source": [
    "all_data['Fare'].head()"
   ]
  },
  {
   "cell_type": "markdown",
   "id": "21c7d1a5-a13f-4dfc-b6ae-f4cf597417ee",
   "metadata": {
    "tags": []
   },
   "source": [
    "##### 4.7 'Ticket': categorize into numeric or non-numeric, encode"
   ]
  },
  {
   "cell_type": "code",
   "execution_count": 38,
   "id": "c9fe441b-2099-4746-95ea-756ed3bf990e",
   "metadata": {},
   "outputs": [
    {
     "data": {
      "text/plain": [
       "1    957\n",
       "0    352\n",
       "Name: Ticket_is_numeric, dtype: int64"
      ]
     },
     "execution_count": 38,
     "metadata": {},
     "output_type": "execute_result"
    }
   ],
   "source": [
    "all_data['Ticket_is_numeric'] = all_data.Ticket.apply(lambda x: 1 if x.isnumeric() else 0)\n",
    "all_data['Ticket_is_numeric'].value_counts()"
   ]
  },
  {
   "cell_type": "markdown",
   "id": "aae0f949-af1a-4430-bcc7-c4788750db46",
   "metadata": {
    "tags": []
   },
   "source": [
    "##### 4.8 'Embarked': Fill missing values, encode"
   ]
  },
  {
   "cell_type": "code",
   "execution_count": 39,
   "id": "f780dee8-f66e-4255-92a1-cbc6e4449945",
   "metadata": {},
   "outputs": [
    {
     "data": {
      "text/plain": [
       "S    914\n",
       "C    270\n",
       "Q    123\n",
       "Name: Embarked, dtype: int64"
      ]
     },
     "execution_count": 39,
     "metadata": {},
     "output_type": "execute_result"
    }
   ],
   "source": [
    "all_data['Embarked'].value_counts()"
   ]
  },
  {
   "cell_type": "code",
   "execution_count": 40,
   "id": "f59fb9a4-ce23-41b8-871a-804f125cfcd0",
   "metadata": {},
   "outputs": [
    {
     "data": {
      "text/plain": [
       "0    S\n",
       "Name: Embarked, dtype: object"
      ]
     },
     "execution_count": 40,
     "metadata": {},
     "output_type": "execute_result"
    }
   ],
   "source": [
    "# the most frequent embarked station\n",
    "all_data['Embarked'].mode()"
   ]
  },
  {
   "cell_type": "code",
   "execution_count": 41,
   "id": "6ff0466e-57cd-4d7b-ae9e-b68923054f6c",
   "metadata": {},
   "outputs": [],
   "source": [
    "all_data['Embarked'] = all_data['Embarked'].fillna('S')"
   ]
  },
  {
   "cell_type": "code",
   "execution_count": 42,
   "id": "7ed9001f-8902-4a5a-b1d1-013898bccf87",
   "metadata": {},
   "outputs": [
    {
     "data": {
      "text/plain": [
       "S    916\n",
       "C    270\n",
       "Q    123\n",
       "Name: Embarked, dtype: int64"
      ]
     },
     "execution_count": 42,
     "metadata": {},
     "output_type": "execute_result"
    }
   ],
   "source": [
    "all_data['Embarked'].value_counts()"
   ]
  },
  {
   "cell_type": "code",
   "execution_count": 43,
   "id": "781bdd34-e76e-4305-8e18-162dac385dd9",
   "metadata": {},
   "outputs": [
    {
     "data": {
      "text/plain": [
       "1    916\n",
       "2    270\n",
       "3    123\n",
       "Name: en_Embarked, dtype: int64"
      ]
     },
     "execution_count": 43,
     "metadata": {},
     "output_type": "execute_result"
    }
   ],
   "source": [
    "all_data['en_Embarked'] = all_data['Embarked'].map({\"S\":1, \"C\":2, \"Q\":3})\n",
    "all_data['en_Embarked'].value_counts()"
   ]
  },
  {
   "cell_type": "markdown",
   "id": "b779defc-4562-429a-a453-dfa73ee1993f",
   "metadata": {
    "tags": []
   },
   "source": [
    "##### 4.9 Feature Selections"
   ]
  },
  {
   "cell_type": "code",
   "execution_count": 44,
   "id": "a37879db-8241-4783-a215-d98ec8475305",
   "metadata": {},
   "outputs": [
    {
     "data": {
      "text/plain": [
       "Index(['PassengerId', 'Survived', 'Pclass', 'Name', 'Sex', 'Age', 'SibSp',\n",
       "       'Parch', 'Ticket', 'Fare', 'Cabin', 'Embarked', 'Title', 'en_Title',\n",
       "       'en_Sex', 'Pclass_Sex', 'en_Age', 'Family_Size', 'Ticket_is_numeric',\n",
       "       'en_Embarked'],\n",
       "      dtype='object')"
      ]
     },
     "execution_count": 44,
     "metadata": {},
     "output_type": "execute_result"
    }
   ],
   "source": [
    "all_data.columns"
   ]
  },
  {
   "cell_type": "code",
   "execution_count": 45,
   "id": "04553820-e3d5-4ba0-97b6-9a6ae4f0fbf1",
   "metadata": {},
   "outputs": [
    {
     "data": {
      "text/html": [
       "<div>\n",
       "<style scoped>\n",
       "    .dataframe tbody tr th:only-of-type {\n",
       "        vertical-align: middle;\n",
       "    }\n",
       "\n",
       "    .dataframe tbody tr th {\n",
       "        vertical-align: top;\n",
       "    }\n",
       "\n",
       "    .dataframe thead th {\n",
       "        text-align: right;\n",
       "    }\n",
       "</style>\n",
       "<table border=\"1\" class=\"dataframe\">\n",
       "  <thead>\n",
       "    <tr style=\"text-align: right;\">\n",
       "      <th></th>\n",
       "      <th>Survived</th>\n",
       "      <th>Fare</th>\n",
       "      <th>en_Title</th>\n",
       "      <th>en_Sex</th>\n",
       "      <th>Pclass_Sex</th>\n",
       "      <th>Family_Size</th>\n",
       "      <th>Ticket_is_numeric</th>\n",
       "      <th>en_Embarked</th>\n",
       "      <th>en_Age</th>\n",
       "    </tr>\n",
       "  </thead>\n",
       "  <tbody>\n",
       "    <tr>\n",
       "      <th>0</th>\n",
       "      <td>0.0</td>\n",
       "      <td>7</td>\n",
       "      <td>0</td>\n",
       "      <td>1</td>\n",
       "      <td>31</td>\n",
       "      <td>2</td>\n",
       "      <td>0</td>\n",
       "      <td>1</td>\n",
       "      <td>3</td>\n",
       "    </tr>\n",
       "    <tr>\n",
       "      <th>1</th>\n",
       "      <td>1.0</td>\n",
       "      <td>71</td>\n",
       "      <td>2</td>\n",
       "      <td>0</td>\n",
       "      <td>10</td>\n",
       "      <td>2</td>\n",
       "      <td>0</td>\n",
       "      <td>2</td>\n",
       "      <td>3</td>\n",
       "    </tr>\n",
       "    <tr>\n",
       "      <th>2</th>\n",
       "      <td>1.0</td>\n",
       "      <td>7</td>\n",
       "      <td>1</td>\n",
       "      <td>0</td>\n",
       "      <td>30</td>\n",
       "      <td>1</td>\n",
       "      <td>0</td>\n",
       "      <td>1</td>\n",
       "      <td>3</td>\n",
       "    </tr>\n",
       "    <tr>\n",
       "      <th>3</th>\n",
       "      <td>1.0</td>\n",
       "      <td>53</td>\n",
       "      <td>2</td>\n",
       "      <td>0</td>\n",
       "      <td>10</td>\n",
       "      <td>2</td>\n",
       "      <td>1</td>\n",
       "      <td>1</td>\n",
       "      <td>3</td>\n",
       "    </tr>\n",
       "    <tr>\n",
       "      <th>4</th>\n",
       "      <td>0.0</td>\n",
       "      <td>8</td>\n",
       "      <td>0</td>\n",
       "      <td>1</td>\n",
       "      <td>31</td>\n",
       "      <td>1</td>\n",
       "      <td>1</td>\n",
       "      <td>1</td>\n",
       "      <td>3</td>\n",
       "    </tr>\n",
       "  </tbody>\n",
       "</table>\n",
       "</div>"
      ],
      "text/plain": [
       "   Survived  Fare  en_Title  en_Sex  Pclass_Sex  Family_Size  \\\n",
       "0       0.0     7         0       1          31            2   \n",
       "1       1.0    71         2       0          10            2   \n",
       "2       1.0     7         1       0          30            1   \n",
       "3       1.0    53         2       0          10            2   \n",
       "4       0.0     8         0       1          31            1   \n",
       "\n",
       "   Ticket_is_numeric  en_Embarked  en_Age  \n",
       "0                  0            1       3  \n",
       "1                  0            2       3  \n",
       "2                  0            1       3  \n",
       "3                  1            1       3  \n",
       "4                  1            1       3  "
      ]
     },
     "execution_count": 45,
     "metadata": {},
     "output_type": "execute_result"
    }
   ],
   "source": [
    "final_data = all_data[['Survived', 'Fare', 'en_Title', 'en_Sex', 'Pclass_Sex', 'Family_Size', 'Ticket_is_numeric', 'en_Embarked', 'en_Age']]\n",
    "final_data.head()"
   ]
  },
  {
   "cell_type": "markdown",
   "id": "382e0964-587d-4986-bbba-30e2d6173499",
   "metadata": {
    "tags": []
   },
   "source": [
    "### 5. Preprocessing before modelling"
   ]
  },
  {
   "cell_type": "code",
   "execution_count": 46,
   "id": "cb4110d0-99d1-4423-b089-8742d9586738",
   "metadata": {},
   "outputs": [],
   "source": [
    "df_train=final_data.iloc[:891,:]\n",
    "df_test=final_data.iloc[891:,:]"
   ]
  },
  {
   "cell_type": "code",
   "execution_count": 47,
   "id": "bff86c1c-1377-47cd-8ff3-6dee4e8191c8",
   "metadata": {},
   "outputs": [
    {
     "data": {
      "text/plain": [
       "(891, 9)"
      ]
     },
     "execution_count": 47,
     "metadata": {},
     "output_type": "execute_result"
    }
   ],
   "source": [
    "df_train.shape"
   ]
  },
  {
   "cell_type": "code",
   "execution_count": 48,
   "id": "4440e058-29d1-4452-8335-d35b8d2ca9f4",
   "metadata": {},
   "outputs": [
    {
     "data": {
      "text/html": [
       "<div>\n",
       "<style scoped>\n",
       "    .dataframe tbody tr th:only-of-type {\n",
       "        vertical-align: middle;\n",
       "    }\n",
       "\n",
       "    .dataframe tbody tr th {\n",
       "        vertical-align: top;\n",
       "    }\n",
       "\n",
       "    .dataframe thead th {\n",
       "        text-align: right;\n",
       "    }\n",
       "</style>\n",
       "<table border=\"1\" class=\"dataframe\">\n",
       "  <thead>\n",
       "    <tr style=\"text-align: right;\">\n",
       "      <th></th>\n",
       "      <th>Survived</th>\n",
       "      <th>Fare</th>\n",
       "      <th>en_Title</th>\n",
       "      <th>en_Sex</th>\n",
       "      <th>Pclass_Sex</th>\n",
       "      <th>Family_Size</th>\n",
       "      <th>Ticket_is_numeric</th>\n",
       "      <th>en_Embarked</th>\n",
       "      <th>en_Age</th>\n",
       "    </tr>\n",
       "  </thead>\n",
       "  <tbody>\n",
       "    <tr>\n",
       "      <th>0</th>\n",
       "      <td>0.0</td>\n",
       "      <td>7</td>\n",
       "      <td>0</td>\n",
       "      <td>1</td>\n",
       "      <td>31</td>\n",
       "      <td>2</td>\n",
       "      <td>0</td>\n",
       "      <td>1</td>\n",
       "      <td>3</td>\n",
       "    </tr>\n",
       "    <tr>\n",
       "      <th>1</th>\n",
       "      <td>1.0</td>\n",
       "      <td>71</td>\n",
       "      <td>2</td>\n",
       "      <td>0</td>\n",
       "      <td>10</td>\n",
       "      <td>2</td>\n",
       "      <td>0</td>\n",
       "      <td>2</td>\n",
       "      <td>3</td>\n",
       "    </tr>\n",
       "    <tr>\n",
       "      <th>2</th>\n",
       "      <td>1.0</td>\n",
       "      <td>7</td>\n",
       "      <td>1</td>\n",
       "      <td>0</td>\n",
       "      <td>30</td>\n",
       "      <td>1</td>\n",
       "      <td>0</td>\n",
       "      <td>1</td>\n",
       "      <td>3</td>\n",
       "    </tr>\n",
       "    <tr>\n",
       "      <th>3</th>\n",
       "      <td>1.0</td>\n",
       "      <td>53</td>\n",
       "      <td>2</td>\n",
       "      <td>0</td>\n",
       "      <td>10</td>\n",
       "      <td>2</td>\n",
       "      <td>1</td>\n",
       "      <td>1</td>\n",
       "      <td>3</td>\n",
       "    </tr>\n",
       "    <tr>\n",
       "      <th>4</th>\n",
       "      <td>0.0</td>\n",
       "      <td>8</td>\n",
       "      <td>0</td>\n",
       "      <td>1</td>\n",
       "      <td>31</td>\n",
       "      <td>1</td>\n",
       "      <td>1</td>\n",
       "      <td>1</td>\n",
       "      <td>3</td>\n",
       "    </tr>\n",
       "  </tbody>\n",
       "</table>\n",
       "</div>"
      ],
      "text/plain": [
       "   Survived  Fare  en_Title  en_Sex  Pclass_Sex  Family_Size  \\\n",
       "0       0.0     7         0       1          31            2   \n",
       "1       1.0    71         2       0          10            2   \n",
       "2       1.0     7         1       0          30            1   \n",
       "3       1.0    53         2       0          10            2   \n",
       "4       0.0     8         0       1          31            1   \n",
       "\n",
       "   Ticket_is_numeric  en_Embarked  en_Age  \n",
       "0                  0            1       3  \n",
       "1                  0            2       3  \n",
       "2                  0            1       3  \n",
       "3                  1            1       3  \n",
       "4                  1            1       3  "
      ]
     },
     "execution_count": 48,
     "metadata": {},
     "output_type": "execute_result"
    }
   ],
   "source": [
    "df_train.head()"
   ]
  },
  {
   "cell_type": "code",
   "execution_count": 49,
   "id": "1be40701-17a9-43f8-98fd-fd274f18d0d0",
   "metadata": {},
   "outputs": [
    {
     "data": {
      "text/html": [
       "<div>\n",
       "<style scoped>\n",
       "    .dataframe tbody tr th:only-of-type {\n",
       "        vertical-align: middle;\n",
       "    }\n",
       "\n",
       "    .dataframe tbody tr th {\n",
       "        vertical-align: top;\n",
       "    }\n",
       "\n",
       "    .dataframe thead th {\n",
       "        text-align: right;\n",
       "    }\n",
       "</style>\n",
       "<table border=\"1\" class=\"dataframe\">\n",
       "  <thead>\n",
       "    <tr style=\"text-align: right;\">\n",
       "      <th></th>\n",
       "      <th>Survived</th>\n",
       "      <th>Fare</th>\n",
       "      <th>en_Title</th>\n",
       "      <th>en_Sex</th>\n",
       "      <th>Pclass_Sex</th>\n",
       "      <th>Family_Size</th>\n",
       "      <th>Ticket_is_numeric</th>\n",
       "      <th>en_Embarked</th>\n",
       "      <th>en_Age</th>\n",
       "    </tr>\n",
       "  </thead>\n",
       "  <tbody>\n",
       "    <tr>\n",
       "      <th>886</th>\n",
       "      <td>0.0</td>\n",
       "      <td>13</td>\n",
       "      <td>4</td>\n",
       "      <td>1</td>\n",
       "      <td>21</td>\n",
       "      <td>1</td>\n",
       "      <td>1</td>\n",
       "      <td>1</td>\n",
       "      <td>3</td>\n",
       "    </tr>\n",
       "    <tr>\n",
       "      <th>887</th>\n",
       "      <td>1.0</td>\n",
       "      <td>30</td>\n",
       "      <td>1</td>\n",
       "      <td>0</td>\n",
       "      <td>10</td>\n",
       "      <td>1</td>\n",
       "      <td>1</td>\n",
       "      <td>1</td>\n",
       "      <td>2</td>\n",
       "    </tr>\n",
       "    <tr>\n",
       "      <th>888</th>\n",
       "      <td>0.0</td>\n",
       "      <td>23</td>\n",
       "      <td>1</td>\n",
       "      <td>0</td>\n",
       "      <td>30</td>\n",
       "      <td>4</td>\n",
       "      <td>0</td>\n",
       "      <td>1</td>\n",
       "      <td>3</td>\n",
       "    </tr>\n",
       "    <tr>\n",
       "      <th>889</th>\n",
       "      <td>1.0</td>\n",
       "      <td>30</td>\n",
       "      <td>0</td>\n",
       "      <td>1</td>\n",
       "      <td>11</td>\n",
       "      <td>1</td>\n",
       "      <td>1</td>\n",
       "      <td>2</td>\n",
       "      <td>3</td>\n",
       "    </tr>\n",
       "    <tr>\n",
       "      <th>890</th>\n",
       "      <td>0.0</td>\n",
       "      <td>7</td>\n",
       "      <td>0</td>\n",
       "      <td>1</td>\n",
       "      <td>31</td>\n",
       "      <td>1</td>\n",
       "      <td>1</td>\n",
       "      <td>3</td>\n",
       "      <td>3</td>\n",
       "    </tr>\n",
       "  </tbody>\n",
       "</table>\n",
       "</div>"
      ],
      "text/plain": [
       "     Survived  Fare  en_Title  en_Sex  Pclass_Sex  Family_Size  \\\n",
       "886       0.0    13         4       1          21            1   \n",
       "887       1.0    30         1       0          10            1   \n",
       "888       0.0    23         1       0          30            4   \n",
       "889       1.0    30         0       1          11            1   \n",
       "890       0.0     7         0       1          31            1   \n",
       "\n",
       "     Ticket_is_numeric  en_Embarked  en_Age  \n",
       "886                  1            1       3  \n",
       "887                  1            1       2  \n",
       "888                  0            1       3  \n",
       "889                  1            2       3  \n",
       "890                  1            3       3  "
      ]
     },
     "execution_count": 49,
     "metadata": {},
     "output_type": "execute_result"
    }
   ],
   "source": [
    "df_train.tail()"
   ]
  },
  {
   "cell_type": "code",
   "execution_count": 50,
   "id": "3bd5c32c-024e-4bb8-bbe0-491d17de498a",
   "metadata": {},
   "outputs": [
    {
     "data": {
      "text/html": [
       "<div>\n",
       "<style scoped>\n",
       "    .dataframe tbody tr th:only-of-type {\n",
       "        vertical-align: middle;\n",
       "    }\n",
       "\n",
       "    .dataframe tbody tr th {\n",
       "        vertical-align: top;\n",
       "    }\n",
       "\n",
       "    .dataframe thead th {\n",
       "        text-align: right;\n",
       "    }\n",
       "</style>\n",
       "<table border=\"1\" class=\"dataframe\">\n",
       "  <thead>\n",
       "    <tr style=\"text-align: right;\">\n",
       "      <th></th>\n",
       "      <th>Survived</th>\n",
       "      <th>Fare</th>\n",
       "      <th>en_Title</th>\n",
       "      <th>en_Sex</th>\n",
       "      <th>Pclass_Sex</th>\n",
       "      <th>Family_Size</th>\n",
       "      <th>Ticket_is_numeric</th>\n",
       "      <th>en_Embarked</th>\n",
       "      <th>en_Age</th>\n",
       "    </tr>\n",
       "  </thead>\n",
       "  <tbody>\n",
       "    <tr>\n",
       "      <th>0</th>\n",
       "      <td>NaN</td>\n",
       "      <td>7</td>\n",
       "      <td>0</td>\n",
       "      <td>1</td>\n",
       "      <td>31</td>\n",
       "      <td>1</td>\n",
       "      <td>1</td>\n",
       "      <td>3</td>\n",
       "      <td>3</td>\n",
       "    </tr>\n",
       "    <tr>\n",
       "      <th>1</th>\n",
       "      <td>NaN</td>\n",
       "      <td>7</td>\n",
       "      <td>2</td>\n",
       "      <td>0</td>\n",
       "      <td>30</td>\n",
       "      <td>2</td>\n",
       "      <td>1</td>\n",
       "      <td>1</td>\n",
       "      <td>3</td>\n",
       "    </tr>\n",
       "    <tr>\n",
       "      <th>2</th>\n",
       "      <td>NaN</td>\n",
       "      <td>9</td>\n",
       "      <td>1</td>\n",
       "      <td>1</td>\n",
       "      <td>21</td>\n",
       "      <td>1</td>\n",
       "      <td>1</td>\n",
       "      <td>3</td>\n",
       "      <td>3</td>\n",
       "    </tr>\n",
       "    <tr>\n",
       "      <th>3</th>\n",
       "      <td>NaN</td>\n",
       "      <td>8</td>\n",
       "      <td>2</td>\n",
       "      <td>1</td>\n",
       "      <td>31</td>\n",
       "      <td>1</td>\n",
       "      <td>1</td>\n",
       "      <td>1</td>\n",
       "      <td>3</td>\n",
       "    </tr>\n",
       "    <tr>\n",
       "      <th>4</th>\n",
       "      <td>NaN</td>\n",
       "      <td>12</td>\n",
       "      <td>0</td>\n",
       "      <td>0</td>\n",
       "      <td>30</td>\n",
       "      <td>3</td>\n",
       "      <td>1</td>\n",
       "      <td>1</td>\n",
       "      <td>3</td>\n",
       "    </tr>\n",
       "  </tbody>\n",
       "</table>\n",
       "</div>"
      ],
      "text/plain": [
       "   Survived  Fare  en_Title  en_Sex  Pclass_Sex  Family_Size  \\\n",
       "0       NaN     7         0       1          31            1   \n",
       "1       NaN     7         2       0          30            2   \n",
       "2       NaN     9         1       1          21            1   \n",
       "3       NaN     8         2       1          31            1   \n",
       "4       NaN    12         0       0          30            3   \n",
       "\n",
       "   Ticket_is_numeric  en_Embarked  en_Age  \n",
       "0                  1            3       3  \n",
       "1                  1            1       3  \n",
       "2                  1            3       3  \n",
       "3                  1            1       3  \n",
       "4                  1            1       3  "
      ]
     },
     "execution_count": 50,
     "metadata": {},
     "output_type": "execute_result"
    }
   ],
   "source": [
    "df_test.head()"
   ]
  },
  {
   "cell_type": "code",
   "execution_count": 51,
   "id": "67093510-2713-433e-b0a3-6674a6ecf4f0",
   "metadata": {},
   "outputs": [
    {
     "name": "stderr",
     "output_type": "stream",
     "text": [
      "C:\\Users\\ngloo\\AppData\\Local\\Temp\\ipykernel_13068\\277210146.py:1: SettingWithCopyWarning: \n",
      "A value is trying to be set on a copy of a slice from a DataFrame\n",
      "\n",
      "See the caveats in the documentation: https://pandas.pydata.org/pandas-docs/stable/user_guide/indexing.html#returning-a-view-versus-a-copy\n",
      "  df_test.drop(['Survived'],axis=1,inplace=True)\n"
     ]
    }
   ],
   "source": [
    "df_test.drop(['Survived'],axis=1,inplace=True)"
   ]
  },
  {
   "cell_type": "code",
   "execution_count": 52,
   "id": "5c63d3a6-ad98-46ab-a7c2-8a01226ceb35",
   "metadata": {},
   "outputs": [
    {
     "data": {
      "text/plain": [
       "(418, 8)"
      ]
     },
     "execution_count": 52,
     "metadata": {},
     "output_type": "execute_result"
    }
   ],
   "source": [
    "df_test.shape"
   ]
  },
  {
   "cell_type": "markdown",
   "id": "f58b6e9d-6588-4aae-9c84-c0dd778780d4",
   "metadata": {
    "tags": []
   },
   "source": [
    "### 6. Modelling & Evaluation"
   ]
  },
  {
   "cell_type": "code",
   "execution_count": 53,
   "id": "d992e8d7-838d-4d00-9a43-262baaf20540",
   "metadata": {},
   "outputs": [],
   "source": [
    "X = df_train[['Fare', 'en_Title', 'en_Sex', 'Pclass_Sex', 'Family_Size', 'Ticket_is_numeric', 'en_Embarked', 'en_Age']]\n",
    "y = df_train['Survived']"
   ]
  },
  {
   "cell_type": "code",
   "execution_count": 54,
   "id": "12bacff1-a6db-4dc8-8f2e-2daf8180eb60",
   "metadata": {},
   "outputs": [],
   "source": [
    "from sklearn.model_selection import train_test_split\n",
    "X_train, X_test, y_train, y_test = train_test_split(X, y, test_size=0.3, random_state=101)"
   ]
  },
  {
   "cell_type": "code",
   "execution_count": 55,
   "id": "747847fd-24af-4d09-adf1-852fe1337253",
   "metadata": {},
   "outputs": [
    {
     "name": "stdout",
     "output_type": "stream",
     "text": [
      "623\n",
      "268\n"
     ]
    }
   ],
   "source": [
    "print(len(X_train))\n",
    "print(len(X_test))"
   ]
  },
  {
   "cell_type": "markdown",
   "id": "b9dac914-2355-4f69-a5ee-93eb3736cb5d",
   "metadata": {
    "tags": []
   },
   "source": [
    "##### 6.1 Logistic Regression (Kaggle: 72%)"
   ]
  },
  {
   "cell_type": "code",
   "execution_count": 56,
   "id": "7a271b53-3329-435e-b1be-300973903d11",
   "metadata": {},
   "outputs": [
    {
     "name": "stderr",
     "output_type": "stream",
     "text": [
      "C:\\Users\\ngloo\\AppData\\Local\\Programs\\Python\\Python310\\lib\\site-packages\\sklearn\\linear_model\\_logistic.py:444: ConvergenceWarning: lbfgs failed to converge (status=1):\n",
      "STOP: TOTAL NO. of ITERATIONS REACHED LIMIT.\n",
      "\n",
      "Increase the number of iterations (max_iter) or scale the data as shown in:\n",
      "    https://scikit-learn.org/stable/modules/preprocessing.html\n",
      "Please also refer to the documentation for alternative solver options:\n",
      "    https://scikit-learn.org/stable/modules/linear_model.html#logistic-regression\n",
      "  n_iter_i = _check_optimize_result(\n"
     ]
    }
   ],
   "source": [
    "# Import LogisticRegression\n",
    "from sklearn.linear_model import LogisticRegression\n",
    "\n",
    "# Instantiate a LogisticRegression classifier with default parameter values\n",
    "logreg = LogisticRegression()\n",
    "\n",
    "# Fit logreg to the train set\n",
    "logreg.fit(X_train, y_train)\n",
    "\n",
    "# Use logreg to predict instances from the test set and store it\n",
    "y_pred_logreg = logreg.predict(X_test)"
   ]
  },
  {
   "cell_type": "code",
   "execution_count": 57,
   "id": "4c700bf5-0e61-4d58-9d1f-158000a8843d",
   "metadata": {},
   "outputs": [
    {
     "data": {
      "text/plain": [
       "array([[136,  18],\n",
       "       [ 37,  77]], dtype=int64)"
      ]
     },
     "execution_count": 57,
     "metadata": {},
     "output_type": "execute_result"
    }
   ],
   "source": [
    "from sklearn.metrics import confusion_matrix\n",
    "\n",
    "# Print the confusion matrix of the logreg model\n",
    "confusion_matrix(y_test, y_pred_logreg)"
   ]
  },
  {
   "cell_type": "code",
   "execution_count": 58,
   "id": "4b953cc0-4ad3-4be5-9160-271d8e90f011",
   "metadata": {},
   "outputs": [
    {
     "name": "stdout",
     "output_type": "stream",
     "text": [
      "\n",
      "AUC score: 0.8597\n"
     ]
    }
   ],
   "source": [
    "from sklearn.metrics import roc_auc_score\n",
    "\n",
    "# AUC score for tpot model\n",
    "logreg_auc_score = roc_auc_score(y_test, logreg.predict_proba(X_test)[:, 1])\n",
    "print(f'\\nAUC score: {logreg_auc_score:.4f}')"
   ]
  },
  {
   "cell_type": "code",
   "execution_count": 59,
   "id": "b4887710-727d-434b-9b4a-596a5d9e247c",
   "metadata": {},
   "outputs": [
    {
     "name": "stdout",
     "output_type": "stream",
     "text": [
      "\n",
      "Logistic Regression Accuracy score: 79.4800\n"
     ]
    }
   ],
   "source": [
    "from sklearn.metrics import accuracy_score\n",
    "acc_logreg_score = round(accuracy_score(y_test, y_pred_logreg)*100, 2)\n",
    "print(f'\\nLogistic Regression Accuracy score: {acc_logreg_score:.4f}')"
   ]
  },
  {
   "cell_type": "code",
   "execution_count": 60,
   "id": "888ea1ba-f565-4b21-b047-e0b8f0c02fe7",
   "metadata": {},
   "outputs": [],
   "source": [
    "y_pred_logreg_sub = logreg.predict(df_test).astype(int)"
   ]
  },
  {
   "cell_type": "markdown",
   "id": "7b219c2a-d29c-492a-800e-0f2a3bbbe2ac",
   "metadata": {
    "tags": []
   },
   "source": [
    "##### 6.2 Decision Tree (Kaggle: 73%)"
   ]
  },
  {
   "cell_type": "code",
   "execution_count": 61,
   "id": "7306332d-3b05-4d4c-8a3e-f833aaecf9b0",
   "metadata": {},
   "outputs": [
    {
     "name": "stdout",
     "output_type": "stream",
     "text": [
      "[0.744     0.776     0.736     0.7983871 0.7983871]\n",
      "0.7705548387096774\n"
     ]
    }
   ],
   "source": [
    "# Import Decision tree classifier\n",
    "from sklearn.tree import DecisionTreeClassifier\n",
    "from sklearn.model_selection import cross_val_score\n",
    "\n",
    "# Create decision tree\n",
    "dt = DecisionTreeClassifier(random_state = 1)\n",
    "cv_score = cross_val_score(dt,X_train,y_train,cv=5)\n",
    "print(cv_score)\n",
    "print(cv_score.mean())"
   ]
  },
  {
   "cell_type": "code",
   "execution_count": 62,
   "id": "2c6d9327-a36e-4512-a3b6-32e0c541c303",
   "metadata": {},
   "outputs": [
    {
     "name": "stdout",
     "output_type": "stream",
     "text": [
      "\n",
      "Decision Tree Accuracy score: 79.8500\n"
     ]
    }
   ],
   "source": [
    "dt.fit(X_train, y_train)\n",
    "y_pred_tree = dt.predict(X_test)\n",
    "acc_tree_score = round(accuracy_score(y_test, y_pred_tree)*100,2)\n",
    "print(f'\\nDecision Tree Accuracy score: {acc_tree_score:.4f}')"
   ]
  },
  {
   "cell_type": "code",
   "execution_count": 63,
   "id": "49128e08-48cd-4d51-bbd7-02f40c350362",
   "metadata": {},
   "outputs": [],
   "source": [
    "y_pred_tree_sub = dt.predict(df_test).astype(int)"
   ]
  },
  {
   "cell_type": "markdown",
   "id": "f8bce743-d780-408f-914f-2dd715e662fa",
   "metadata": {
    "tags": []
   },
   "source": [
    "##### 6.3 Compare Decision Tree & Logistic Regression"
   ]
  },
  {
   "cell_type": "code",
   "execution_count": 64,
   "id": "92923351-8dc8-487d-88e9-161f4e50fa61",
   "metadata": {},
   "outputs": [
    {
     "name": "stdout",
     "output_type": "stream",
     "text": [
      "Decision Tree: \n",
      "               precision    recall  f1-score   support\n",
      "\n",
      "         0.0       0.77      0.92      0.84       154\n",
      "         1.0       0.85      0.64      0.73       114\n",
      "\n",
      "    accuracy                           0.80       268\n",
      "   macro avg       0.81      0.78      0.78       268\n",
      "weighted avg       0.81      0.80      0.79       268\n",
      "\n",
      "Logistic Regression: \n",
      "               precision    recall  f1-score   support\n",
      "\n",
      "         0.0       0.79      0.88      0.83       154\n",
      "         1.0       0.81      0.68      0.74       114\n",
      "\n",
      "    accuracy                           0.79       268\n",
      "   macro avg       0.80      0.78      0.78       268\n",
      "weighted avg       0.80      0.79      0.79       268\n",
      "\n"
     ]
    }
   ],
   "source": [
    "# Create the classification report for both models\n",
    "from sklearn.metrics import classification_report\n",
    "class_rep_tree = classification_report(y_test, y_pred_tree)\n",
    "class_rep_log = classification_report(y_test, y_pred_logreg)\n",
    "\n",
    "print(\"Decision Tree: \\n\", class_rep_tree)\n",
    "print(\"Logistic Regression: \\n\", class_rep_log)"
   ]
  },
  {
   "cell_type": "markdown",
   "id": "13970ac0-b6cb-4458-b0d5-1275eb206003",
   "metadata": {},
   "source": [
    "##### 6.4 Support Vector Machine (Kaggle: 77%)"
   ]
  },
  {
   "cell_type": "code",
   "execution_count": 65,
   "id": "5a82092d-91d8-440e-83e7-dd17657c9f0d",
   "metadata": {},
   "outputs": [
    {
     "name": "stdout",
     "output_type": "stream",
     "text": [
      "\n",
      "Support Vector Machine Accuracy score: 77.2400\n"
     ]
    }
   ],
   "source": [
    "from sklearn.svm import SVC\n",
    "\n",
    "# Define parameters:\n",
    "params = {\n",
    "    \"kernel\": \"linear\",\n",
    "    \"C\": 1, \n",
    "    \"gamma\": 0.0001, \n",
    "    \"degree\": 3,\n",
    "    \"random_state\": 123,\n",
    "}\n",
    "\n",
    "# Create a svm.SVC with the parameters above\n",
    "svm = SVC(**params)\n",
    "\n",
    "# Train the SVM classifer on the train set\n",
    "svm = svm.fit(X_train, y_train)\n",
    "\n",
    "# Predict the outcomes on the test set\n",
    "y_pred_svm = svm.predict(X_test)\n",
    "\n",
    "# Evaluate accuracy\n",
    "acc_svm_score = round(accuracy_score(y_test, y_pred_svm)*100,2)\n",
    "print(f'\\nSupport Vector Machine Accuracy score: {acc_svm_score:.4f}')"
   ]
  },
  {
   "cell_type": "code",
   "execution_count": 66,
   "id": "b301ca08-5c37-4d3b-920d-dea0657906d7",
   "metadata": {},
   "outputs": [],
   "source": [
    "y_pred_svm_sub = svm.predict(df_test).astype(int)"
   ]
  },
  {
   "cell_type": "markdown",
   "id": "411d4db8-6397-49fc-9969-4c692965dadf",
   "metadata": {},
   "source": [
    "##### 6.5 Random Forest (Kaggle: 73%)"
   ]
  },
  {
   "cell_type": "code",
   "execution_count": 67,
   "id": "352b5d98-0655-4179-9a3f-e8382c34170f",
   "metadata": {},
   "outputs": [
    {
     "name": "stdout",
     "output_type": "stream",
     "text": [
      "\n",
      "Random Forest Accuracy score: 79.1000\n"
     ]
    }
   ],
   "source": [
    "from sklearn.ensemble import RandomForestClassifier\n",
    "\n",
    "rf = RandomForestClassifier(n_estimators=25)\n",
    "rf.fit(X_train, y_train)\n",
    "y_pred_rf = rf.predict(X_test)\n",
    "\n",
    "# Evaluate accuracy\n",
    "acc_rf_score = round(accuracy_score(y_test, y_pred_rf)*100,2)\n",
    "print(f'\\nRandom Forest Accuracy score: {acc_rf_score:.4f}')"
   ]
  },
  {
   "cell_type": "code",
   "execution_count": 68,
   "id": "bf7b04e5-3d61-4bee-8770-4ef8334a2d0f",
   "metadata": {},
   "outputs": [],
   "source": [
    "y_pred_rf_sub = rf.predict(df_test).astype(int)"
   ]
  },
  {
   "cell_type": "markdown",
   "id": "cee2b0bb-6afb-4f61-9a2f-6ec2b488db45",
   "metadata": {},
   "source": [
    "##### 6.5 XG Boost (Kaggle: 74%)"
   ]
  },
  {
   "cell_type": "code",
   "execution_count": 82,
   "id": "903830f0-8dd0-49ef-93fe-ab20402e60ab",
   "metadata": {},
   "outputs": [
    {
     "name": "stdout",
     "output_type": "stream",
     "text": [
      "accuracy: 80.970000\n"
     ]
    }
   ],
   "source": [
    "import xgboost as xgb\n",
    "\n",
    "# Instantiate the XGBClassifier: xg_cl\n",
    "xg_cl = xgb.XGBClassifier(objective='binary:logistic', n_estimators=10, seed=123)\n",
    "\n",
    "# Fit the classifier to the training set\n",
    "xg_cl.fit(X_train, y_train)\n",
    "\n",
    "# Predict the labels of the test set: preds\n",
    "y_pred_xgb = xg_cl.predict(X_test)\n",
    "\n",
    "# Compute the accuracy: accuracy\n",
    "acc_xgb_score = round(accuracy_score(y_test, y_pred_xgb)*100,2)\n",
    "# acc_xgb_score = float(np.sum(preds==y_test))/y_test.shape[0]\n",
    "print(\"accuracy: %f\" % (acc_xgb_score))"
   ]
  },
  {
   "cell_type": "code",
   "execution_count": 77,
   "id": "5f119f78-4708-43bc-bc69-1d1065be3367",
   "metadata": {},
   "outputs": [],
   "source": [
    "y_pred_xgb_sub = xg_cl.predict(df_test).astype(int)"
   ]
  },
  {
   "cell_type": "markdown",
   "id": "ef710533-5303-4e28-b6f4-d219ca4ffde3",
   "metadata": {
    "tags": []
   },
   "source": [
    "### 7. Models Summary "
   ]
  },
  {
   "cell_type": "code",
   "execution_count": 85,
   "id": "83b87e13-c103-4ea1-b57b-a212df1a7b23",
   "metadata": {},
   "outputs": [
    {
     "data": {
      "text/html": [
       "<div>\n",
       "<style scoped>\n",
       "    .dataframe tbody tr th:only-of-type {\n",
       "        vertical-align: middle;\n",
       "    }\n",
       "\n",
       "    .dataframe tbody tr th {\n",
       "        vertical-align: top;\n",
       "    }\n",
       "\n",
       "    .dataframe thead th {\n",
       "        text-align: right;\n",
       "    }\n",
       "</style>\n",
       "<table border=\"1\" class=\"dataframe\">\n",
       "  <thead>\n",
       "    <tr style=\"text-align: right;\">\n",
       "      <th></th>\n",
       "      <th>Model</th>\n",
       "      <th>Accuracy Score</th>\n",
       "      <th>Kaggle Score</th>\n",
       "      <th>Difference</th>\n",
       "    </tr>\n",
       "  </thead>\n",
       "  <tbody>\n",
       "    <tr>\n",
       "      <th>2</th>\n",
       "      <td>Support Vector Machines</td>\n",
       "      <td>77.24</td>\n",
       "      <td>77.03</td>\n",
       "      <td>-0.21</td>\n",
       "    </tr>\n",
       "    <tr>\n",
       "      <th>4</th>\n",
       "      <td>XG Boost</td>\n",
       "      <td>80.97</td>\n",
       "      <td>74.16</td>\n",
       "      <td>-6.81</td>\n",
       "    </tr>\n",
       "    <tr>\n",
       "      <th>1</th>\n",
       "      <td>Decision Tree</td>\n",
       "      <td>79.85</td>\n",
       "      <td>72.97</td>\n",
       "      <td>-6.88</td>\n",
       "    </tr>\n",
       "    <tr>\n",
       "      <th>3</th>\n",
       "      <td>Random Forest</td>\n",
       "      <td>79.10</td>\n",
       "      <td>72.73</td>\n",
       "      <td>-6.37</td>\n",
       "    </tr>\n",
       "    <tr>\n",
       "      <th>0</th>\n",
       "      <td>Logistic Regression</td>\n",
       "      <td>79.48</td>\n",
       "      <td>72.25</td>\n",
       "      <td>-7.23</td>\n",
       "    </tr>\n",
       "  </tbody>\n",
       "</table>\n",
       "</div>"
      ],
      "text/plain": [
       "                     Model  Accuracy Score  Kaggle Score  Difference\n",
       "2  Support Vector Machines           77.24         77.03       -0.21\n",
       "4                 XG Boost           80.97         74.16       -6.81\n",
       "1            Decision Tree           79.85         72.97       -6.88\n",
       "3            Random Forest           79.10         72.73       -6.37\n",
       "0      Logistic Regression           79.48         72.25       -7.23"
      ]
     },
     "execution_count": 85,
     "metadata": {},
     "output_type": "execute_result"
    }
   ],
   "source": [
    "models = ['Logistic Regression', 'Decision Tree', 'Support Vector Machines', 'Random Forest', 'XG Boost']\n",
    "scores = np.array([acc_logreg_score, acc_tree_score, acc_svm_score, acc_rf_score, acc_xgb_score])\n",
    "kaggle = np.array([72.25, 72.97, 77.03, 72.73, 74.16])\n",
    "difference = kaggle - scores\n",
    "\n",
    "models_df = pd.DataFrame({\n",
    "    'Model': models,\n",
    "    'Accuracy Score': scores,\n",
    "    'Kaggle Score': kaggle,\n",
    "    'Difference': difference,\n",
    "})\n",
    "\n",
    "models_df.sort_values(by='Kaggle Score', ascending=False)"
   ]
  },
  {
   "cell_type": "markdown",
   "id": "74fee60b-4a77-4490-88cc-f7addd532e0b",
   "metadata": {},
   "source": [
    "### 8. Kaggle Submission"
   ]
  },
  {
   "cell_type": "code",
   "execution_count": 70,
   "id": "612bd1b0-ff8c-4207-aeea-ffbf8222238d",
   "metadata": {},
   "outputs": [],
   "source": [
    "## Update Sample Submission file: Logistic Regression\n",
    "pred = pd.DataFrame(y_pred_logreg_sub)\n",
    "sub_df = pd.read_csv('gender_submission.csv')\n",
    "datasets = pd.concat([sub_df['PassengerId'],pred],axis=1)\n",
    "datasets.columns = ['PassengerId','Survived']\n",
    "datasets.to_csv('gender_submission_logreg.csv',index=False)"
   ]
  },
  {
   "cell_type": "code",
   "execution_count": 71,
   "id": "2755852f-e9cb-4328-97c6-5dc94961cab5",
   "metadata": {},
   "outputs": [],
   "source": [
    "## Update Sample Submission file: Decision Tree\n",
    "pred = pd.DataFrame(y_pred_tree_sub)\n",
    "sub_df = pd.read_csv('gender_submission.csv')\n",
    "datasets = pd.concat([sub_df['PassengerId'],pred],axis=1)\n",
    "datasets.columns = ['PassengerId','Survived']\n",
    "datasets.to_csv('gender_submission_tree.csv',index=False)"
   ]
  },
  {
   "cell_type": "code",
   "execution_count": 72,
   "id": "40f3b7db-824b-4a8f-a211-789032940081",
   "metadata": {},
   "outputs": [],
   "source": [
    "## Update Sample Submission file: Support Vector Machine\n",
    "pred = pd.DataFrame(y_pred_svm_sub)\n",
    "sub_df = pd.read_csv('gender_submission.csv')\n",
    "datasets = pd.concat([sub_df['PassengerId'],pred],axis=1)\n",
    "datasets.columns = ['PassengerId','Survived']\n",
    "datasets.to_csv('gender_submission_sv.csv',index=False)"
   ]
  },
  {
   "cell_type": "code",
   "execution_count": 73,
   "id": "0070a1de-9472-4b2c-bba8-5ba5419ab9b0",
   "metadata": {},
   "outputs": [],
   "source": [
    "## Update Sample Submission file: Random Forest\n",
    "pred = pd.DataFrame(y_pred_rf_sub)\n",
    "sub_df = pd.read_csv('gender_submission.csv')\n",
    "datasets = pd.concat([sub_df['PassengerId'],pred],axis=1)\n",
    "datasets.columns = ['PassengerId','Survived']\n",
    "datasets.to_csv('gender_submission_rf.csv',index=False)"
   ]
  },
  {
   "cell_type": "code",
   "execution_count": 78,
   "id": "b999cefa-4ce4-46a9-a501-df8e85a2d6b3",
   "metadata": {},
   "outputs": [],
   "source": [
    "## Update Sample Submission file: XGBoost\n",
    "pred = pd.DataFrame(y_pred_xgb_sub)\n",
    "sub_df = pd.read_csv('gender_submission.csv')\n",
    "datasets = pd.concat([sub_df['PassengerId'],pred],axis=1)\n",
    "datasets.columns = ['PassengerId','Survived']\n",
    "datasets.to_csv('gender_submission_xgb.csv',index=False)"
   ]
  },
  {
   "cell_type": "markdown",
   "id": "0a07a3c6-1e27-44b3-9823-8ba298123823",
   "metadata": {
    "tags": []
   },
   "source": [
    "### 8. Questions"
   ]
  },
  {
   "cell_type": "markdown",
   "id": "17c8c876-1b74-4592-998c-f95ecf8dee22",
   "metadata": {},
   "source": [
    "- How to improve prediction result?"
   ]
  },
  {
   "cell_type": "code",
   "execution_count": null,
   "id": "b740446f-78ea-4726-9433-3a802982cb91",
   "metadata": {},
   "outputs": [],
   "source": []
  }
 ],
 "metadata": {
  "kernelspec": {
   "display_name": "Python 3 (ipykernel)",
   "language": "python",
   "name": "python3"
  },
  "language_info": {
   "codemirror_mode": {
    "name": "ipython",
    "version": 3
   },
   "file_extension": ".py",
   "mimetype": "text/x-python",
   "name": "python",
   "nbconvert_exporter": "python",
   "pygments_lexer": "ipython3",
   "version": "3.10.5"
  }
 },
 "nbformat": 4,
 "nbformat_minor": 5
}
