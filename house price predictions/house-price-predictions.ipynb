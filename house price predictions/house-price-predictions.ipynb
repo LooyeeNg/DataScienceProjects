{
 "cells": [
  {
   "cell_type": "markdown",
   "id": "a5bc49b0-13f7-446a-ae1c-7f87755b6495",
   "metadata": {},
   "source": [
    "## Kaggle Competition: House Price Prediciton Advanced Regression"
   ]
  },
  {
   "cell_type": "markdown",
   "id": "3486bce5-92bd-47b0-a312-0ebc814f4146",
   "metadata": {},
   "source": [
    "1. Load Data, Combine train & test set\n",
    "2. Correlation\n",
    "3. Combining Train & Test Dataset\n",
    "4. Missing or Zero Values\n",
    "5. Distribution\n",
    "6. Log Transformation\n",
    "7. Split Train & Test set\n",
    "8. Remove outliers\n",
    "9. Model Training\n",
    "10. Evaluate model\n",
    "11. Predict on test.csv\n",
    "12. Submission on Kaggle"
   ]
  },
  {
   "cell_type": "markdown",
   "id": "d99f0cde-7740-45f5-9734-9ce27b610f2a",
   "metadata": {
    "jp-MarkdownHeadingCollapsed": true,
    "tags": []
   },
   "source": [
    "### 1. Load Data, Combine train & test set"
   ]
  },
  {
   "cell_type": "code",
   "execution_count": 171,
   "id": "6c163be4-89d3-4c26-8395-b1612974e93a",
   "metadata": {},
   "outputs": [],
   "source": [
    "import pandas as pd\n",
    "import numpy as np\n",
    "from matplotlib import pyplot as plt\n",
    "import seaborn as sns\n",
    "import statistics\n",
    "from sklearn.model_selection import train_test_split"
   ]
  },
  {
   "cell_type": "code",
   "execution_count": 172,
   "id": "82b716ea-fe1c-4a72-a6f3-8be2950682ad",
   "metadata": {},
   "outputs": [],
   "source": [
    "train_df = pd.read_csv('train.csv')\n",
    "test_df = pd.read_csv('test.csv')"
   ]
  },
  {
   "cell_type": "code",
   "execution_count": 16,
   "id": "571efdaa-cef0-4c55-bc03-56beef69534b",
   "metadata": {},
   "outputs": [
    {
     "data": {
      "text/html": [
       "<div>\n",
       "<style scoped>\n",
       "    .dataframe tbody tr th:only-of-type {\n",
       "        vertical-align: middle;\n",
       "    }\n",
       "\n",
       "    .dataframe tbody tr th {\n",
       "        vertical-align: top;\n",
       "    }\n",
       "\n",
       "    .dataframe thead th {\n",
       "        text-align: right;\n",
       "    }\n",
       "</style>\n",
       "<table border=\"1\" class=\"dataframe\">\n",
       "  <thead>\n",
       "    <tr style=\"text-align: right;\">\n",
       "      <th></th>\n",
       "      <th>Id</th>\n",
       "      <th>MSSubClass</th>\n",
       "      <th>MSZoning</th>\n",
       "      <th>LotFrontage</th>\n",
       "      <th>LotArea</th>\n",
       "      <th>Street</th>\n",
       "      <th>Alley</th>\n",
       "      <th>LotShape</th>\n",
       "      <th>LandContour</th>\n",
       "      <th>Utilities</th>\n",
       "      <th>...</th>\n",
       "      <th>PoolArea</th>\n",
       "      <th>PoolQC</th>\n",
       "      <th>Fence</th>\n",
       "      <th>MiscFeature</th>\n",
       "      <th>MiscVal</th>\n",
       "      <th>MoSold</th>\n",
       "      <th>YrSold</th>\n",
       "      <th>SaleType</th>\n",
       "      <th>SaleCondition</th>\n",
       "      <th>SalePrice</th>\n",
       "    </tr>\n",
       "  </thead>\n",
       "  <tbody>\n",
       "    <tr>\n",
       "      <th>0</th>\n",
       "      <td>1</td>\n",
       "      <td>60</td>\n",
       "      <td>RL</td>\n",
       "      <td>65.0</td>\n",
       "      <td>8450</td>\n",
       "      <td>Pave</td>\n",
       "      <td>NaN</td>\n",
       "      <td>Reg</td>\n",
       "      <td>Lvl</td>\n",
       "      <td>AllPub</td>\n",
       "      <td>...</td>\n",
       "      <td>0</td>\n",
       "      <td>NaN</td>\n",
       "      <td>NaN</td>\n",
       "      <td>NaN</td>\n",
       "      <td>0</td>\n",
       "      <td>2</td>\n",
       "      <td>2008</td>\n",
       "      <td>WD</td>\n",
       "      <td>Normal</td>\n",
       "      <td>208500</td>\n",
       "    </tr>\n",
       "    <tr>\n",
       "      <th>1</th>\n",
       "      <td>2</td>\n",
       "      <td>20</td>\n",
       "      <td>RL</td>\n",
       "      <td>80.0</td>\n",
       "      <td>9600</td>\n",
       "      <td>Pave</td>\n",
       "      <td>NaN</td>\n",
       "      <td>Reg</td>\n",
       "      <td>Lvl</td>\n",
       "      <td>AllPub</td>\n",
       "      <td>...</td>\n",
       "      <td>0</td>\n",
       "      <td>NaN</td>\n",
       "      <td>NaN</td>\n",
       "      <td>NaN</td>\n",
       "      <td>0</td>\n",
       "      <td>5</td>\n",
       "      <td>2007</td>\n",
       "      <td>WD</td>\n",
       "      <td>Normal</td>\n",
       "      <td>181500</td>\n",
       "    </tr>\n",
       "  </tbody>\n",
       "</table>\n",
       "<p>2 rows × 81 columns</p>\n",
       "</div>"
      ],
      "text/plain": [
       "   Id  MSSubClass MSZoning  LotFrontage  LotArea Street Alley LotShape  \\\n",
       "0   1          60       RL         65.0     8450   Pave   NaN      Reg   \n",
       "1   2          20       RL         80.0     9600   Pave   NaN      Reg   \n",
       "\n",
       "  LandContour Utilities  ... PoolArea PoolQC Fence MiscFeature MiscVal MoSold  \\\n",
       "0         Lvl    AllPub  ...        0    NaN   NaN         NaN       0      2   \n",
       "1         Lvl    AllPub  ...        0    NaN   NaN         NaN       0      5   \n",
       "\n",
       "  YrSold  SaleType  SaleCondition  SalePrice  \n",
       "0   2008        WD         Normal     208500  \n",
       "1   2007        WD         Normal     181500  \n",
       "\n",
       "[2 rows x 81 columns]"
      ]
     },
     "execution_count": 16,
     "metadata": {},
     "output_type": "execute_result"
    }
   ],
   "source": [
    "train_df.head(2)"
   ]
  },
  {
   "cell_type": "markdown",
   "id": "1850b241-1143-4bfe-9f8e-86e80cbccffa",
   "metadata": {
    "jp-MarkdownHeadingCollapsed": true,
    "tags": []
   },
   "source": [
    "### 2. Correlation"
   ]
  },
  {
   "cell_type": "code",
   "execution_count": 17,
   "id": "b85cc8f2-80a0-4a7d-8210-7305d0baac9f",
   "metadata": {},
   "outputs": [
    {
     "data": {
      "image/png": "[encoded data removed]",
      "text/plain": [
       "<Figure size 432x288 with 2 Axes>"
      ]
     },
     "metadata": {
      "needs_background": "light"
     },
     "output_type": "display_data"
    }
   ],
   "source": [
    "# most correlated features\n",
    "corr = train_df.corr()\n",
    "top_corr_features = corr.index[abs(corr[\"SalePrice\"])>0.6]\n",
    "# top_corr_features = corr.index[abs(corr[\"SalePrice\"])>0.4]\n",
    "plt.figure(figsize=(6,4))\n",
    "g = sns.heatmap(train_df[top_corr_features].corr(),annot=True,cmap=\"RdYlGn\")"
   ]
  },
  {
   "cell_type": "markdown",
   "id": "fc441b20-b105-49af-bb56-743891600cfd",
   "metadata": {},
   "source": [
    "Choose the top 4 correlated features"
   ]
  },
  {
   "cell_type": "code",
   "execution_count": 18,
   "id": "52cea6bd-e7a4-45ce-9729-a4656d51203c",
   "metadata": {},
   "outputs": [],
   "source": [
    "train_df = train_df[['SalePrice','OverallQual', 'TotalBsmtSF','GrLivArea', 'GarageCars']]"
   ]
  },
  {
   "cell_type": "code",
   "execution_count": 20,
   "id": "3850f76a-c27f-4ded-91ed-aa60c353c489",
   "metadata": {},
   "outputs": [],
   "source": [
    "test_df = test_df[['OverallQual', 'TotalBsmtSF','GrLivArea', 'GarageCars']]"
   ]
  },
  {
   "cell_type": "markdown",
   "id": "cab5344a-f0fb-4a92-a3c0-5ea53957c58a",
   "metadata": {
    "jp-MarkdownHeadingCollapsed": true,
    "tags": []
   },
   "source": [
    "### 3. Combining Train & Test Dataset"
   ]
  },
  {
   "cell_type": "code",
   "execution_count": 19,
   "id": "a68dce18-3393-429e-8d23-c8d5987af724",
   "metadata": {},
   "outputs": [
    {
     "data": {
      "text/plain": [
       "(1460, 5)"
      ]
     },
     "execution_count": 19,
     "metadata": {},
     "output_type": "execute_result"
    }
   ],
   "source": [
    "train_df.shape"
   ]
  },
  {
   "cell_type": "code",
   "execution_count": 21,
   "id": "7c1ec550-8d8a-4234-8374-74895f2a731b",
   "metadata": {},
   "outputs": [
    {
     "data": {
      "text/plain": [
       "(1459, 4)"
      ]
     },
     "execution_count": 21,
     "metadata": {},
     "output_type": "execute_result"
    }
   ],
   "source": [
    "test_df.shape"
   ]
  },
  {
   "cell_type": "code",
   "execution_count": 22,
   "id": "b4778f65-b72d-47aa-9a88-c39534366a23",
   "metadata": {},
   "outputs": [],
   "source": [
    "final_df = pd.concat([train_df,test_df],axis=0)"
   ]
  },
  {
   "cell_type": "code",
   "execution_count": 23,
   "id": "8d86fc66-f696-4e56-b9b2-b2e62108aff5",
   "metadata": {},
   "outputs": [],
   "source": [
    "final_df.to_csv('check1.csv',index=False)"
   ]
  },
  {
   "cell_type": "code",
   "execution_count": 24,
   "id": "c5f5c8d8-f62d-4037-8c37-3fbf1713ab8d",
   "metadata": {},
   "outputs": [
    {
     "data": {
      "text/plain": [
       "(2919, 5)"
      ]
     },
     "execution_count": 24,
     "metadata": {},
     "output_type": "execute_result"
    }
   ],
   "source": [
    "final_df.shape"
   ]
  },
  {
   "cell_type": "markdown",
   "id": "ceeac02a-0b48-4f09-a395-6f9b2d7a9867",
   "metadata": {
    "jp-MarkdownHeadingCollapsed": true,
    "tags": []
   },
   "source": [
    "### 4. Missing or Zero Values"
   ]
  },
  {
   "cell_type": "code",
   "execution_count": 27,
   "id": "10f9c902-3b51-4ef0-aad4-79649465df8e",
   "metadata": {},
   "outputs": [
    {
     "name": "stdout",
     "output_type": "stream",
     "text": [
      "SalePrice      1459\n",
      "OverallQual       0\n",
      "TotalBsmtSF       1\n",
      "GrLivArea         0\n",
      "GarageCars        1\n",
      "dtype: int64\n"
     ]
    }
   ],
   "source": [
    "print(final_df.isnull().sum())"
   ]
  },
  {
   "cell_type": "code",
   "execution_count": 28,
   "id": "9a816f94-c6bc-40c2-845c-05f9b7ea0c3c",
   "metadata": {},
   "outputs": [
    {
     "name": "stdout",
     "output_type": "stream",
     "text": [
      "Count of zeros in SalePrice is 0\n",
      "Count of zeros in OverallQual is 0\n",
      "Count of zeros in TotalBsmtSF is 78\n",
      "Count of zeros in GrLivArea is 0\n",
      "Count of zeros in GarageCars is 157\n"
     ]
    }
   ],
   "source": [
    "num_features=['SalePrice','OverallQual', 'TotalBsmtSF','GrLivArea', 'GarageCars']\n",
    "\n",
    "for feature in num_features:\n",
    "    count = (final_df[feature] == 0).sum()\n",
    "    print(\"Count of zeros in {} is {}\".format(feature, count))"
   ]
  },
  {
   "cell_type": "code",
   "execution_count": 29,
   "id": "5423155a-7788-4238-9a06-6e2b62b44a9d",
   "metadata": {},
   "outputs": [
    {
     "name": "stderr",
     "output_type": "stream",
     "text": [
      "c:\\users\\ngloo\\appdata\\local\\programs\\python\\python39\\lib\\site-packages\\seaborn\\distributions.py:2619: FutureWarning: `distplot` is a deprecated function and will be removed in a future version. Please adapt your code to use either `displot` (a figure-level function with similar flexibility) or `histplot` (an axes-level function for histograms).\n",
      "  warnings.warn(msg, FutureWarning)\n"
     ]
    },
    {
     "data": {
      "text/plain": [
       "<AxesSubplot:xlabel='GarageCars', ylabel='Density'>"
      ]
     },
     "execution_count": 29,
     "metadata": {},
     "output_type": "execute_result"
    },
    {
     "data": {
      "image/png": "[encoded data removed]",
      "text/plain": [
       "<Figure size 432x288 with 1 Axes>"
      ]
     },
     "metadata": {
      "needs_background": "light"
     },
     "output_type": "display_data"
    }
   ],
   "source": [
    "sns.distplot(final_df['GarageCars'])"
   ]
  },
  {
   "cell_type": "code",
   "execution_count": 32,
   "id": "aa050eab-acce-4ae5-8bcf-9c49aa2665bd",
   "metadata": {},
   "outputs": [],
   "source": [
    "final_df['GarageCars']=final_df['GarageCars']+1"
   ]
  },
  {
   "cell_type": "code",
   "execution_count": 33,
   "id": "06f1e42a-45fa-4e21-9942-6da29a97ac15",
   "metadata": {},
   "outputs": [
    {
     "name": "stderr",
     "output_type": "stream",
     "text": [
      "c:\\users\\ngloo\\appdata\\local\\programs\\python\\python39\\lib\\site-packages\\seaborn\\distributions.py:2619: FutureWarning: `distplot` is a deprecated function and will be removed in a future version. Please adapt your code to use either `displot` (a figure-level function with similar flexibility) or `histplot` (an axes-level function for histograms).\n",
      "  warnings.warn(msg, FutureWarning)\n"
     ]
    },
    {
     "data": {
      "text/plain": [
       "<AxesSubplot:xlabel='GarageCars', ylabel='Density'>"
      ]
     },
     "execution_count": 33,
     "metadata": {},
     "output_type": "execute_result"
    },
    {
     "data": {
      "image/png": "[encoded data removed]",
      "text/plain": [
       "<Figure size 432x288 with 1 Axes>"
      ]
     },
     "metadata": {
      "needs_background": "light"
     },
     "output_type": "display_data"
    }
   ],
   "source": [
    "sns.distplot(final_df['GarageCars'])"
   ]
  },
  {
   "cell_type": "code",
   "execution_count": 34,
   "id": "df656b30-0fb1-4205-801b-0caec9cddd9a",
   "metadata": {},
   "outputs": [],
   "source": [
    "final_df['TotalBsmtSF']=final_df['TotalBsmtSF']+1"
   ]
  },
  {
   "cell_type": "code",
   "execution_count": 35,
   "id": "7a66df72-d9ca-46b6-8d4c-52c672715070",
   "metadata": {},
   "outputs": [
    {
     "name": "stderr",
     "output_type": "stream",
     "text": [
      "c:\\users\\ngloo\\appdata\\local\\programs\\python\\python39\\lib\\site-packages\\seaborn\\distributions.py:2619: FutureWarning: `distplot` is a deprecated function and will be removed in a future version. Please adapt your code to use either `displot` (a figure-level function with similar flexibility) or `histplot` (an axes-level function for histograms).\n",
      "  warnings.warn(msg, FutureWarning)\n"
     ]
    },
    {
     "data": {
      "text/plain": [
       "<AxesSubplot:xlabel='TotalBsmtSF', ylabel='Density'>"
      ]
     },
     "execution_count": 35,
     "metadata": {},
     "output_type": "execute_result"
    },
    {
     "data": {
      "image/png": "[encoded data removed]",
      "text/plain": [
       "<Figure size 432x288 with 1 Axes>"
      ]
     },
     "metadata": {
      "needs_background": "light"
     },
     "output_type": "display_data"
    }
   ],
   "source": [
    "sns.distplot(final_df['TotalBsmtSF'])"
   ]
  },
  {
   "cell_type": "markdown",
   "id": "2fab2ece-b40d-4d40-b24a-4bcc5ebfd3a8",
   "metadata": {
    "jp-MarkdownHeadingCollapsed": true,
    "tags": []
   },
   "source": [
    "### 5. Distribution"
   ]
  },
  {
   "cell_type": "code",
   "execution_count": 36,
   "id": "2f635e44-3eca-4346-995e-fcc6dab4efce",
   "metadata": {},
   "outputs": [
    {
     "name": "stderr",
     "output_type": "stream",
     "text": [
      "c:\\users\\ngloo\\appdata\\local\\programs\\python\\python39\\lib\\site-packages\\seaborn\\distributions.py:2619: FutureWarning: `distplot` is a deprecated function and will be removed in a future version. Please adapt your code to use either `displot` (a figure-level function with similar flexibility) or `histplot` (an axes-level function for histograms).\n",
      "  warnings.warn(msg, FutureWarning)\n"
     ]
    },
    {
     "data": {
      "text/plain": [
       "<AxesSubplot:xlabel='SalePrice', ylabel='Density'>"
      ]
     },
     "execution_count": 36,
     "metadata": {},
     "output_type": "execute_result"
    },
    {
     "data": {
      "image/png": "[encoded data removed]",
      "text/plain": [
       "<Figure size 432x288 with 1 Axes>"
      ]
     },
     "metadata": {
      "needs_background": "light"
     },
     "output_type": "display_data"
    }
   ],
   "source": [
    "sns.distplot(final_df['SalePrice'])"
   ]
  },
  {
   "cell_type": "code",
   "execution_count": 37,
   "id": "9b17ad76-4307-46f5-8e5b-f2e78cf3f130",
   "metadata": {},
   "outputs": [
    {
     "data": {
      "text/plain": [
       "1.8828757597682129"
      ]
     },
     "execution_count": 37,
     "metadata": {},
     "output_type": "execute_result"
    }
   ],
   "source": [
    "final_df['SalePrice'].skew()"
   ]
  },
  {
   "cell_type": "markdown",
   "id": "3ade4492-6f89-495e-9f86-b4f6b10e5bfa",
   "metadata": {
    "jp-MarkdownHeadingCollapsed": true,
    "tags": []
   },
   "source": [
    "### 6. Log Transformation"
   ]
  },
  {
   "cell_type": "code",
   "execution_count": 141,
   "id": "e9c81735-a018-47d6-ac87-1e4bab681f39",
   "metadata": {},
   "outputs": [],
   "source": [
    "final_df_log = final_df.copy()"
   ]
  },
  {
   "cell_type": "code",
   "execution_count": 142,
   "id": "1bc50ef1-417e-4646-968f-ac1bbbcc6122",
   "metadata": {},
   "outputs": [
    {
     "data": {
      "text/html": [
       "<div>\n",
       "<style scoped>\n",
       "    .dataframe tbody tr th:only-of-type {\n",
       "        vertical-align: middle;\n",
       "    }\n",
       "\n",
       "    .dataframe tbody tr th {\n",
       "        vertical-align: top;\n",
       "    }\n",
       "\n",
       "    .dataframe thead th {\n",
       "        text-align: right;\n",
       "    }\n",
       "</style>\n",
       "<table border=\"1\" class=\"dataframe\">\n",
       "  <thead>\n",
       "    <tr style=\"text-align: right;\">\n",
       "      <th></th>\n",
       "      <th>SalePrice</th>\n",
       "      <th>OverallQual</th>\n",
       "      <th>TotalBsmtSF</th>\n",
       "      <th>GrLivArea</th>\n",
       "      <th>GarageCars</th>\n",
       "    </tr>\n",
       "  </thead>\n",
       "  <tbody>\n",
       "    <tr>\n",
       "      <th>0</th>\n",
       "      <td>12.247694</td>\n",
       "      <td>1.945910</td>\n",
       "      <td>6.753438</td>\n",
       "      <td>7.444249</td>\n",
       "      <td>1.098612</td>\n",
       "    </tr>\n",
       "    <tr>\n",
       "      <th>1</th>\n",
       "      <td>12.109011</td>\n",
       "      <td>1.791759</td>\n",
       "      <td>7.141245</td>\n",
       "      <td>7.140453</td>\n",
       "      <td>1.098612</td>\n",
       "    </tr>\n",
       "    <tr>\n",
       "      <th>2</th>\n",
       "      <td>12.317167</td>\n",
       "      <td>1.945910</td>\n",
       "      <td>6.825460</td>\n",
       "      <td>7.487734</td>\n",
       "      <td>1.098612</td>\n",
       "    </tr>\n",
       "    <tr>\n",
       "      <th>3</th>\n",
       "      <td>11.849398</td>\n",
       "      <td>1.945910</td>\n",
       "      <td>6.629363</td>\n",
       "      <td>7.448334</td>\n",
       "      <td>1.386294</td>\n",
       "    </tr>\n",
       "    <tr>\n",
       "      <th>4</th>\n",
       "      <td>12.429216</td>\n",
       "      <td>2.079442</td>\n",
       "      <td>7.044033</td>\n",
       "      <td>7.695303</td>\n",
       "      <td>1.386294</td>\n",
       "    </tr>\n",
       "  </tbody>\n",
       "</table>\n",
       "</div>"
      ],
      "text/plain": [
       "   SalePrice  OverallQual  TotalBsmtSF  GrLivArea  GarageCars\n",
       "0  12.247694     1.945910     6.753438   7.444249    1.098612\n",
       "1  12.109011     1.791759     7.141245   7.140453    1.098612\n",
       "2  12.317167     1.945910     6.825460   7.487734    1.098612\n",
       "3  11.849398     1.945910     6.629363   7.448334    1.386294\n",
       "4  12.429216     2.079442     7.044033   7.695303    1.386294"
      ]
     },
     "execution_count": 142,
     "metadata": {},
     "output_type": "execute_result"
    }
   ],
   "source": [
    "num_features=['SalePrice','OverallQual', 'TotalBsmtSF','GrLivArea', 'GarageCars']\n",
    "\n",
    "final_df_log = np.log(final_df_log[num_features])\n",
    "    \n",
    "final_df_log.head(5)"
   ]
  },
  {
   "cell_type": "code",
   "execution_count": 143,
   "id": "1311760f-3ec9-4b1b-81d1-46f8b71c5a89",
   "metadata": {},
   "outputs": [
    {
     "name": "stderr",
     "output_type": "stream",
     "text": [
      "c:\\users\\ngloo\\appdata\\local\\programs\\python\\python39\\lib\\site-packages\\seaborn\\distributions.py:2619: FutureWarning: `distplot` is a deprecated function and will be removed in a future version. Please adapt your code to use either `displot` (a figure-level function with similar flexibility) or `histplot` (an axes-level function for histograms).\n",
      "  warnings.warn(msg, FutureWarning)\n"
     ]
    },
    {
     "data": {
      "text/plain": [
       "<AxesSubplot:xlabel='SalePrice', ylabel='Density'>"
      ]
     },
     "execution_count": 143,
     "metadata": {},
     "output_type": "execute_result"
    },
    {
     "data": {
      "image/png": "[encoded data removed]",
      "text/plain": [
       "<Figure size 432x288 with 1 Axes>"
      ]
     },
     "metadata": {
      "needs_background": "light"
     },
     "output_type": "display_data"
    }
   ],
   "source": [
    "sns.distplot(final_df_log['SalePrice'])"
   ]
  },
  {
   "cell_type": "code",
   "execution_count": 41,
   "id": "6625a14d-32c6-4558-8143-c1cabddea918",
   "metadata": {},
   "outputs": [
    {
     "data": {
      "text/plain": [
       "0.12133506220520401"
      ]
     },
     "execution_count": 41,
     "metadata": {},
     "output_type": "execute_result"
    }
   ],
   "source": [
    "final_df_log['SalePrice'].skew()"
   ]
  },
  {
   "cell_type": "code",
   "execution_count": 42,
   "id": "9f11b39e-c9b2-470c-90e3-9526edc6d32b",
   "metadata": {},
   "outputs": [],
   "source": [
    "final_df_log.to_csv('check2.csv',index=False)"
   ]
  },
  {
   "cell_type": "markdown",
   "id": "368f8401-61b7-4be8-b9ef-2a17a70b0c48",
   "metadata": {
    "jp-MarkdownHeadingCollapsed": true,
    "tags": []
   },
   "source": [
    "### 7. Split Train & Test set"
   ]
  },
  {
   "cell_type": "code",
   "execution_count": 144,
   "id": "e0ded00d-dfe8-4893-913c-397b26bb39f0",
   "metadata": {},
   "outputs": [],
   "source": [
    "df_Train=final_df_log.iloc[:1460,:]\n",
    "df_Test=final_df_log.iloc[1460:,:]"
   ]
  },
  {
   "cell_type": "code",
   "execution_count": 145,
   "id": "5222341c-ce4f-470a-82d4-6d4879d9b78a",
   "metadata": {},
   "outputs": [
    {
     "data": {
      "text/html": [
       "<div>\n",
       "<style scoped>\n",
       "    .dataframe tbody tr th:only-of-type {\n",
       "        vertical-align: middle;\n",
       "    }\n",
       "\n",
       "    .dataframe tbody tr th {\n",
       "        vertical-align: top;\n",
       "    }\n",
       "\n",
       "    .dataframe thead th {\n",
       "        text-align: right;\n",
       "    }\n",
       "</style>\n",
       "<table border=\"1\" class=\"dataframe\">\n",
       "  <thead>\n",
       "    <tr style=\"text-align: right;\">\n",
       "      <th></th>\n",
       "      <th>SalePrice</th>\n",
       "      <th>OverallQual</th>\n",
       "      <th>TotalBsmtSF</th>\n",
       "      <th>GrLivArea</th>\n",
       "      <th>GarageCars</th>\n",
       "    </tr>\n",
       "  </thead>\n",
       "  <tbody>\n",
       "    <tr>\n",
       "      <th>0</th>\n",
       "      <td>12.247694</td>\n",
       "      <td>1.945910</td>\n",
       "      <td>6.753438</td>\n",
       "      <td>7.444249</td>\n",
       "      <td>1.098612</td>\n",
       "    </tr>\n",
       "    <tr>\n",
       "      <th>1</th>\n",
       "      <td>12.109011</td>\n",
       "      <td>1.791759</td>\n",
       "      <td>7.141245</td>\n",
       "      <td>7.140453</td>\n",
       "      <td>1.098612</td>\n",
       "    </tr>\n",
       "    <tr>\n",
       "      <th>2</th>\n",
       "      <td>12.317167</td>\n",
       "      <td>1.945910</td>\n",
       "      <td>6.825460</td>\n",
       "      <td>7.487734</td>\n",
       "      <td>1.098612</td>\n",
       "    </tr>\n",
       "    <tr>\n",
       "      <th>3</th>\n",
       "      <td>11.849398</td>\n",
       "      <td>1.945910</td>\n",
       "      <td>6.629363</td>\n",
       "      <td>7.448334</td>\n",
       "      <td>1.386294</td>\n",
       "    </tr>\n",
       "    <tr>\n",
       "      <th>4</th>\n",
       "      <td>12.429216</td>\n",
       "      <td>2.079442</td>\n",
       "      <td>7.044033</td>\n",
       "      <td>7.695303</td>\n",
       "      <td>1.386294</td>\n",
       "    </tr>\n",
       "  </tbody>\n",
       "</table>\n",
       "</div>"
      ],
      "text/plain": [
       "   SalePrice  OverallQual  TotalBsmtSF  GrLivArea  GarageCars\n",
       "0  12.247694     1.945910     6.753438   7.444249    1.098612\n",
       "1  12.109011     1.791759     7.141245   7.140453    1.098612\n",
       "2  12.317167     1.945910     6.825460   7.487734    1.098612\n",
       "3  11.849398     1.945910     6.629363   7.448334    1.386294\n",
       "4  12.429216     2.079442     7.044033   7.695303    1.386294"
      ]
     },
     "execution_count": 145,
     "metadata": {},
     "output_type": "execute_result"
    }
   ],
   "source": [
    "df_Train.head()"
   ]
  },
  {
   "cell_type": "code",
   "execution_count": 64,
   "id": "c6ba6515-0d87-42bb-b693-d1f5129b3809",
   "metadata": {},
   "outputs": [
    {
     "data": {
      "text/html": [
       "<div>\n",
       "<style scoped>\n",
       "    .dataframe tbody tr th:only-of-type {\n",
       "        vertical-align: middle;\n",
       "    }\n",
       "\n",
       "    .dataframe tbody tr th {\n",
       "        vertical-align: top;\n",
       "    }\n",
       "\n",
       "    .dataframe thead th {\n",
       "        text-align: right;\n",
       "    }\n",
       "</style>\n",
       "<table border=\"1\" class=\"dataframe\">\n",
       "  <thead>\n",
       "    <tr style=\"text-align: right;\">\n",
       "      <th></th>\n",
       "      <th>SalePrice</th>\n",
       "      <th>OverallQual</th>\n",
       "      <th>TotalBsmtSF</th>\n",
       "      <th>GrLivArea</th>\n",
       "      <th>GarageCars</th>\n",
       "    </tr>\n",
       "  </thead>\n",
       "  <tbody>\n",
       "    <tr>\n",
       "      <th>0</th>\n",
       "      <td>NaN</td>\n",
       "      <td>1.609438</td>\n",
       "      <td>6.783325</td>\n",
       "      <td>6.797940</td>\n",
       "      <td>0.693147</td>\n",
       "    </tr>\n",
       "    <tr>\n",
       "      <th>1</th>\n",
       "      <td>NaN</td>\n",
       "      <td>1.791759</td>\n",
       "      <td>7.192934</td>\n",
       "      <td>7.192182</td>\n",
       "      <td>0.693147</td>\n",
       "    </tr>\n",
       "    <tr>\n",
       "      <th>2</th>\n",
       "      <td>NaN</td>\n",
       "      <td>1.609438</td>\n",
       "      <td>6.834109</td>\n",
       "      <td>7.395722</td>\n",
       "      <td>1.098612</td>\n",
       "    </tr>\n",
       "    <tr>\n",
       "      <th>3</th>\n",
       "      <td>NaN</td>\n",
       "      <td>1.791759</td>\n",
       "      <td>6.831954</td>\n",
       "      <td>7.380256</td>\n",
       "      <td>1.098612</td>\n",
       "    </tr>\n",
       "    <tr>\n",
       "      <th>4</th>\n",
       "      <td>NaN</td>\n",
       "      <td>2.079442</td>\n",
       "      <td>7.155396</td>\n",
       "      <td>7.154615</td>\n",
       "      <td>1.098612</td>\n",
       "    </tr>\n",
       "  </tbody>\n",
       "</table>\n",
       "</div>"
      ],
      "text/plain": [
       "   SalePrice  OverallQual  TotalBsmtSF  GrLivArea  GarageCars\n",
       "0        NaN     1.609438     6.783325   6.797940    0.693147\n",
       "1        NaN     1.791759     7.192934   7.192182    0.693147\n",
       "2        NaN     1.609438     6.834109   7.395722    1.098612\n",
       "3        NaN     1.791759     6.831954   7.380256    1.098612\n",
       "4        NaN     2.079442     7.155396   7.154615    1.098612"
      ]
     },
     "execution_count": 64,
     "metadata": {},
     "output_type": "execute_result"
    }
   ],
   "source": [
    "df_Test.head()"
   ]
  },
  {
   "cell_type": "code",
   "execution_count": 65,
   "id": "73184b09-4aee-46a9-ba14-b1de8ec63cd4",
   "metadata": {},
   "outputs": [
    {
     "data": {
      "text/plain": [
       "(1460, 5)"
      ]
     },
     "execution_count": 65,
     "metadata": {},
     "output_type": "execute_result"
    }
   ],
   "source": [
    "df_Train.shape"
   ]
  },
  {
   "cell_type": "code",
   "execution_count": 165,
   "id": "bec2e033-ffe1-4893-bd45-dec3db957763",
   "metadata": {},
   "outputs": [
    {
     "name": "stderr",
     "output_type": "stream",
     "text": [
      "c:\\users\\ngloo\\appdata\\local\\programs\\python\\python39\\lib\\site-packages\\pandas\\core\\frame.py:4901: SettingWithCopyWarning: \n",
      "A value is trying to be set on a copy of a slice from a DataFrame\n",
      "\n",
      "See the caveats in the documentation: https://pandas.pydata.org/pandas-docs/stable/user_guide/indexing.html#returning-a-view-versus-a-copy\n",
      "  return super().drop(\n"
     ]
    }
   ],
   "source": [
    "df_Test.drop(['SalePrice'],axis=1,inplace=True)"
   ]
  },
  {
   "cell_type": "code",
   "execution_count": 166,
   "id": "1a099919-b6fb-4adb-a832-f197a8d1636a",
   "metadata": {},
   "outputs": [
    {
     "data": {
      "text/plain": [
       "(1459, 4)"
      ]
     },
     "execution_count": 166,
     "metadata": {},
     "output_type": "execute_result"
    }
   ],
   "source": [
    "df_Test.shape"
   ]
  },
  {
   "cell_type": "code",
   "execution_count": 68,
   "id": "b6d22ade-7f18-4ce4-8e56-ebab59d854a8",
   "metadata": {},
   "outputs": [
    {
     "data": {
      "text/html": [
       "<div>\n",
       "<style scoped>\n",
       "    .dataframe tbody tr th:only-of-type {\n",
       "        vertical-align: middle;\n",
       "    }\n",
       "\n",
       "    .dataframe tbody tr th {\n",
       "        vertical-align: top;\n",
       "    }\n",
       "\n",
       "    .dataframe thead th {\n",
       "        text-align: right;\n",
       "    }\n",
       "</style>\n",
       "<table border=\"1\" class=\"dataframe\">\n",
       "  <thead>\n",
       "    <tr style=\"text-align: right;\">\n",
       "      <th></th>\n",
       "      <th>OverallQual</th>\n",
       "      <th>TotalBsmtSF</th>\n",
       "      <th>GrLivArea</th>\n",
       "      <th>GarageCars</th>\n",
       "    </tr>\n",
       "  </thead>\n",
       "  <tbody>\n",
       "    <tr>\n",
       "      <th>0</th>\n",
       "      <td>1.609438</td>\n",
       "      <td>6.783325</td>\n",
       "      <td>6.797940</td>\n",
       "      <td>0.693147</td>\n",
       "    </tr>\n",
       "    <tr>\n",
       "      <th>1</th>\n",
       "      <td>1.791759</td>\n",
       "      <td>7.192934</td>\n",
       "      <td>7.192182</td>\n",
       "      <td>0.693147</td>\n",
       "    </tr>\n",
       "    <tr>\n",
       "      <th>2</th>\n",
       "      <td>1.609438</td>\n",
       "      <td>6.834109</td>\n",
       "      <td>7.395722</td>\n",
       "      <td>1.098612</td>\n",
       "    </tr>\n",
       "    <tr>\n",
       "      <th>3</th>\n",
       "      <td>1.791759</td>\n",
       "      <td>6.831954</td>\n",
       "      <td>7.380256</td>\n",
       "      <td>1.098612</td>\n",
       "    </tr>\n",
       "    <tr>\n",
       "      <th>4</th>\n",
       "      <td>2.079442</td>\n",
       "      <td>7.155396</td>\n",
       "      <td>7.154615</td>\n",
       "      <td>1.098612</td>\n",
       "    </tr>\n",
       "  </tbody>\n",
       "</table>\n",
       "</div>"
      ],
      "text/plain": [
       "   OverallQual  TotalBsmtSF  GrLivArea  GarageCars\n",
       "0     1.609438     6.783325   6.797940    0.693147\n",
       "1     1.791759     7.192934   7.192182    0.693147\n",
       "2     1.609438     6.834109   7.395722    1.098612\n",
       "3     1.791759     6.831954   7.380256    1.098612\n",
       "4     2.079442     7.155396   7.154615    1.098612"
      ]
     },
     "execution_count": 68,
     "metadata": {},
     "output_type": "execute_result"
    }
   ],
   "source": [
    "df_Test.head()"
   ]
  },
  {
   "cell_type": "markdown",
   "id": "90b7dbca-3198-44c6-bb24-e7f800b2423b",
   "metadata": {
    "jp-MarkdownHeadingCollapsed": true,
    "tags": []
   },
   "source": [
    "### 8. Remove outliers"
   ]
  },
  {
   "cell_type": "code",
   "execution_count": 146,
   "id": "4a844c4b-a3d3-4445-9b2b-266eea6c33ce",
   "metadata": {},
   "outputs": [
    {
     "data": {
      "image/png": "[encoded data removed]",
      "text/plain": [
       "<Figure size 576x288 with 2 Axes>"
      ]
     },
     "metadata": {
      "needs_background": "light"
     },
     "output_type": "display_data"
    }
   ],
   "source": [
    "# Find the mean and standard dev\n",
    "std = df_Train['SalePrice'].std()\n",
    "mean = df_Train['SalePrice'].mean()\n",
    "\n",
    "# Calculate the cutoff\n",
    "cut_off = std * 3\n",
    "lower, upper = mean - cut_off, mean + cut_off\n",
    "\n",
    "# Trim the outliers\n",
    "trimmed_df = df_Train[(df_Train['SalePrice'] < upper) & (df_Train['SalePrice'] > lower)]\n",
    "\n",
    "# Compare the origional and transformed column\n",
    "f,ax = plt.subplots(1,2,figsize=(8,4))\n",
    "sns.boxplot(y='SalePrice',data=df_Train,ax=ax[0]).set(title='df_Train')\n",
    "sns.boxplot(y='SalePrice',data=trimmed_df,ax=ax[1]).set(title='trimmed_df')\n",
    "plt.show()"
   ]
  },
  {
   "cell_type": "code",
   "execution_count": 158,
   "id": "a0c98cc4-f903-4d87-9b55-8788628cfbbc",
   "metadata": {},
   "outputs": [
    {
     "name": "stdout",
     "output_type": "stream",
     "text": [
      "1460\n"
     ]
    }
   ],
   "source": [
    "print(len(df_Train))"
   ]
  },
  {
   "cell_type": "code",
   "execution_count": 147,
   "id": "9fb9b869-8040-4a25-b8de-0e1c778caa36",
   "metadata": {},
   "outputs": [
    {
     "name": "stdout",
     "output_type": "stream",
     "text": [
      "1448\n"
     ]
    }
   ],
   "source": [
    "print(len(trimmed_df))"
   ]
  },
  {
   "cell_type": "markdown",
   "id": "bab60622-6e39-4b29-a0da-8cd4523e8e18",
   "metadata": {
    "jp-MarkdownHeadingCollapsed": true,
    "tags": []
   },
   "source": [
    "### 9. Model Training"
   ]
  },
  {
   "cell_type": "code",
   "execution_count": 153,
   "id": "fa6afa74-40e1-412e-a6d6-ba20442f4338",
   "metadata": {},
   "outputs": [],
   "source": [
    "X = trimmed_df[['OverallQual', 'TotalBsmtSF','GrLivArea', 'GarageCars']]\n",
    "y = trimmed_df['SalePrice']"
   ]
  },
  {
   "cell_type": "code",
   "execution_count": 154,
   "id": "c9bc828f-0221-4d71-b1ad-eaa3fcf373fc",
   "metadata": {},
   "outputs": [],
   "source": [
    "X_train, X_test, y_train, y_test = train_test_split(X, y, test_size=0.3, random_state=101)"
   ]
  },
  {
   "cell_type": "code",
   "execution_count": 155,
   "id": "2f31fb6d-2d14-4718-918a-6a99d6cf18b1",
   "metadata": {},
   "outputs": [
    {
     "name": "stdout",
     "output_type": "stream",
     "text": [
      "1013\n",
      "435\n"
     ]
    }
   ],
   "source": [
    "print(len(X_train))\n",
    "print(len(X_test))"
   ]
  },
  {
   "cell_type": "code",
   "execution_count": 156,
   "id": "b32e5f1c-e197-4911-9b92-c8ae0e988148",
   "metadata": {},
   "outputs": [
    {
     "data": {
      "text/plain": [
       "LinearRegression()"
      ]
     },
     "execution_count": 156,
     "metadata": {},
     "output_type": "execute_result"
    }
   ],
   "source": [
    "from sklearn.linear_model import LinearRegression\n",
    "lm = LinearRegression()\n",
    "lm.fit(X_train,y_train)"
   ]
  },
  {
   "cell_type": "code",
   "execution_count": 157,
   "id": "3e68e985-7080-4a38-a99c-f6fad5bdcb5b",
   "metadata": {},
   "outputs": [
    {
     "data": {
      "text/plain": [
       "<matplotlib.collections.PathCollection at 0x1bc0a0d8f10>"
      ]
     },
     "execution_count": 157,
     "metadata": {},
     "output_type": "execute_result"
    },
    {
     "data": {
      "image/png": "[encoded data removed]",
      "text/plain": [
       "<Figure size 432x288 with 1 Axes>"
      ]
     },
     "metadata": {
      "needs_background": "light"
     },
     "output_type": "display_data"
    }
   ],
   "source": [
    "predictions = lm.predict(X_test)\n",
    "plt.scatter(y_test,predictions)"
   ]
  },
  {
   "cell_type": "markdown",
   "id": "0b8e016f-0367-487f-b699-537162ca1976",
   "metadata": {
    "jp-MarkdownHeadingCollapsed": true,
    "tags": []
   },
   "source": [
    "### 10. Evaluate model"
   ]
  },
  {
   "cell_type": "code",
   "execution_count": 159,
   "id": "398af4cc-4366-485e-a7a5-fdb43f7cc9e6",
   "metadata": {},
   "outputs": [
    {
     "data": {
      "text/plain": [
       "array([0.716395  , 0.03860688, 0.38397286, 0.28302045])"
      ]
     },
     "execution_count": 159,
     "metadata": {},
     "output_type": "execute_result"
    }
   ],
   "source": [
    "lm.coef_"
   ]
  },
  {
   "cell_type": "code",
   "execution_count": 160,
   "id": "e95158fa-a7b5-47b4-a838-75fddace71ea",
   "metadata": {},
   "outputs": [
    {
     "name": "stdout",
     "output_type": "stream",
     "text": [
      "coefficient of determination: 0.7679576729300763\n"
     ]
    }
   ],
   "source": [
    "r_sq = lm.score(X_train, y_train)\n",
    "print(f\"coefficient of determination: {r_sq}\")"
   ]
  },
  {
   "cell_type": "code",
   "execution_count": 161,
   "id": "593abf10-6ad9-4959-86b5-68a51a2944b7",
   "metadata": {},
   "outputs": [
    {
     "name": "stdout",
     "output_type": "stream",
     "text": [
      "coefficient of determination: 0.7777134955421001\n"
     ]
    }
   ],
   "source": [
    "r_sq = lm.score(X_test, y_test)\n",
    "print(f\"coefficient of determination: {r_sq}\")"
   ]
  },
  {
   "cell_type": "markdown",
   "id": "49834974-3d82-4cdf-86b0-1cc0ae84f5b8",
   "metadata": {
    "jp-MarkdownHeadingCollapsed": true,
    "tags": []
   },
   "source": [
    "### 11. Predict on test.csv"
   ]
  },
  {
   "cell_type": "code",
   "execution_count": 162,
   "id": "7fc86e9a-fb20-4d05-bf64-69d59a19e3e2",
   "metadata": {},
   "outputs": [
    {
     "name": "stderr",
     "output_type": "stream",
     "text": [
      "c:\\users\\ngloo\\appdata\\local\\programs\\python\\python39\\lib\\site-packages\\pandas\\core\\generic.py:6392: SettingWithCopyWarning: \n",
      "A value is trying to be set on a copy of a slice from a DataFrame\n",
      "\n",
      "See the caveats in the documentation: https://pandas.pydata.org/pandas-docs/stable/user_guide/indexing.html#returning-a-view-versus-a-copy\n",
      "  return self._update_inplace(result)\n"
     ]
    }
   ],
   "source": [
    "df_Test['TotalBsmtSF'].fillna(value=0, inplace=True)\n",
    "df_Test['GarageCars'].fillna(value=0, inplace=True)"
   ]
  },
  {
   "cell_type": "code",
   "execution_count": 167,
   "id": "0c0665da-5a22-4fbb-974f-a9fa91128b5f",
   "metadata": {},
   "outputs": [
    {
     "data": {
      "text/plain": [
       "OverallQual    0\n",
       "TotalBsmtSF    0\n",
       "GrLivArea      0\n",
       "GarageCars     0\n",
       "dtype: int64"
      ]
     },
     "execution_count": 167,
     "metadata": {},
     "output_type": "execute_result"
    }
   ],
   "source": [
    "df_Test.isnull().sum()"
   ]
  },
  {
   "cell_type": "code",
   "execution_count": 168,
   "id": "91298760-31ce-4da6-a169-76e2feedc2a8",
   "metadata": {},
   "outputs": [],
   "source": [
    "y_pred = lm.predict(df_Test)"
   ]
  },
  {
   "cell_type": "code",
   "execution_count": 169,
   "id": "4f4009be-c3b5-4715-8760-be7a1ffa8fca",
   "metadata": {},
   "outputs": [],
   "source": [
    "y_pred = np.exp(y_pred)"
   ]
  },
  {
   "cell_type": "markdown",
   "id": "4fd6ca6f-b72c-44f5-bfa5-51325f1b0e62",
   "metadata": {
    "jp-MarkdownHeadingCollapsed": true,
    "tags": []
   },
   "source": [
    "### 12. Submission on Kaggle"
   ]
  },
  {
   "cell_type": "code",
   "execution_count": 170,
   "id": "93fa53cc-3f0b-4bb3-baf7-24b66ec84a98",
   "metadata": {},
   "outputs": [],
   "source": [
    "## Update Sample Submission file with result in y_pred\n",
    "pred = pd.DataFrame(y_pred)\n",
    "sub_df = pd.read_csv('sample_submission.csv')\n",
    "datasets = pd.concat([sub_df['Id'],pred],axis=1)\n",
    "datasets.columns = ['Id','SalePrice']\n",
    "datasets.to_csv('sample_submission.csv',index=False)"
   ]
  }
 ],
 "metadata": {
  "kernelspec": {
   "display_name": "Python 3 (ipykernel)",
   "language": "python",
   "name": "python3"
  },
  "language_info": {
   "codemirror_mode": {
    "name": "ipython",
    "version": 3
   },
   "file_extension": ".py",
   "mimetype": "text/x-python",
   "name": "python",
   "nbconvert_exporter": "python",
   "pygments_lexer": "ipython3",
   "version": "3.9.0"
  }
 },
 "nbformat": 4,
 "nbformat_minor": 5
}
